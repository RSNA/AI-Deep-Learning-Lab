{
  "nbformat": 4,
  "nbformat_minor": 0,
  "metadata": {
    "kernelspec": {
      "display_name": "Python 3",
      "language": "python",
      "name": "python3"
    },
    "colab": {
      "name": "MSLesion_Segmentation.ipynb",
      "provenance": [],
      "collapsed_sections": [],
      "toc_visible": true,
      "machine_shape": "hm",
      "include_colab_link": true
    },
    "accelerator": "GPU"
  },
  "cells": [
    {
      "cell_type": "markdown",
      "metadata": {
        "id": "view-in-github",
        "colab_type": "text"
      },
      "source": [
        "<a href=\"https://colab.research.google.com/github/slowvak/AI-Deep-Learning-Lab/blob/master/MSLesion_Segmentation.ipynb\" target=\"_parent\"><img src=\"https://colab.research.google.com/assets/colab-badge.svg\" alt=\"Open In Colab\"/></a>"
      ]
    },
    {
      "cell_type": "markdown",
      "metadata": {
        "id": "tI7t4iP4i5Zw",
        "colab_type": "text"
      },
      "source": [
        "# Image Segmentation"
      ]
    },
    {
      "cell_type": "code",
      "metadata": {
        "id": "7rFw08aOi5Zx",
        "colab_type": "code",
        "outputId": "523d0ab7-950f-4015-8fdc-e84906d9084e",
        "colab": {
          "base_uri": "https://localhost:8080/",
          "height": 34
        }
      },
      "source": [
        "#Run once per session\n",
        "!pip install fastai2 -q\n",
        "!pip install nibabel -q\n",
        "!pip install scipy -q\n",
        "\n"
      ],
      "execution_count": 1,
      "outputs": [
        {
          "output_type": "stream",
          "text": [
            "\u001b[?25l\r\u001b[K     |█▉                              | 10kB 29.0MB/s eta 0:00:01\r\u001b[K     |███▋                            | 20kB 3.1MB/s eta 0:00:01\r\u001b[K     |█████▍                          | 30kB 4.5MB/s eta 0:00:01\r\u001b[K     |███████▏                        | 40kB 2.9MB/s eta 0:00:01\r\u001b[K     |█████████                       | 51kB 3.6MB/s eta 0:00:01\r\u001b[K     |██████████▊                     | 61kB 4.3MB/s eta 0:00:01\r\u001b[K     |████████████▌                   | 71kB 4.4MB/s eta 0:00:01\r\u001b[K     |██████████████▎                 | 81kB 3.9MB/s eta 0:00:01\r\u001b[K     |████████████████                | 92kB 4.3MB/s eta 0:00:01\r\u001b[K     |█████████████████▉              | 102kB 4.8MB/s eta 0:00:01\r\u001b[K     |███████████████████▋            | 112kB 4.8MB/s eta 0:00:01\r\u001b[K     |█████████████████████▍          | 122kB 4.8MB/s eta 0:00:01\r\u001b[K     |███████████████████████▏        | 133kB 4.8MB/s eta 0:00:01\r\u001b[K     |█████████████████████████       | 143kB 4.8MB/s eta 0:00:01\r\u001b[K     |██████████████████████████▊     | 153kB 4.8MB/s eta 0:00:01\r\u001b[K     |████████████████████████████▌   | 163kB 4.8MB/s eta 0:00:01\r\u001b[K     |██████████████████████████████▎ | 174kB 4.8MB/s eta 0:00:01\r\u001b[K     |████████████████████████████████| 184kB 4.8MB/s \n",
            "\u001b[?25h"
          ],
          "name": "stdout"
        }
      ]
    },
    {
      "cell_type": "code",
      "metadata": {
        "id": "lgBwEvKVi5Z1",
        "colab_type": "code",
        "colab": {}
      },
      "source": [
        "from fastai2.vision.all import *\n",
        "import nibabel as nib\n",
        "import scipy"
      ],
      "execution_count": 0,
      "outputs": []
    },
    {
      "cell_type": "markdown",
      "metadata": {
        "id": "va3QV13AEJE4",
        "colab_type": "text"
      },
      "source": [
        "Here are commands to zip from Mac:\n",
        "\n",
        "zip -r Masks.zip . -i \"./Nifti/*/*Mask.nii.gz\"\n",
        "\n",
        "zip -r FLAIRs.zip . -i \"./Nifti/*/Sag_FLAIR_Std_N4_BET.nii.gz\"\n",
        "\n",
        "zip -r MPRAGEs.zip . -i \"./Nifti/*/Sag_MPRAGE_Std_N4_BET.nii.gz\"\n",
        "\n",
        "zip -r BrainMasks.zip . -i \"./Nifti/*/\n",
        "Sag_MPRAGE_Std_N4_BET_mask.nii.gz\"\n",
        "\n",
        "zip -r Gads.zip . -i \"./Nifti/*/Sag_Gad_Std_N4_BET.nii.gz\n"
      ]
    },
    {
      "cell_type": "code",
      "metadata": {
        "id": "X1z5qwdIi5aA",
        "colab_type": "code",
        "colab": {
          "base_uri": "https://localhost:8080/",
          "height": 1000
        },
        "outputId": "4181646f-b28c-4a92-ea43-01dc46ec3a35"
      },
      "source": [
        "\n",
        "!rm -rf ./sample_data\n",
        "!rm -rf ./labels\n",
        "!rm -rf ./images\n",
        "\n",
        "\n",
        "!mkdir ./FLAIRs; cd FLAIRs; unzip ../FLAIRs.zip\n",
        "!mkdir ./Gads; cd Gads; unzip ../Gads.zip\n",
        "!mkdir ./MPRAGEs; cd MPRAGEs; unzip ../MPRAGEs.zip\n",
        "!mkdir ./Lesions; cd Lesions; unzip ../Masks.zip\n",
        "!mkdir ./BrainMasks; cd BrainMasks; unzip ../BrainMasks.zip\n",
        "\n"
      ],
      "execution_count": 6,
      "outputs": [
        {
          "output_type": "stream",
          "text": [
            "mkdir: cannot create directory ‘./FLAIRs’: File exists\n",
            "Archive:  ../FLAIRs.zip\n",
            "  inflating: Nifti/0003/Sag_FLAIR_Std_N4_BET.nii.gz  \n",
            "  inflating: Nifti/0004/Sag_FLAIR_Std_N4_BET.nii.gz  \n",
            "  inflating: Nifti/0005/Sag_FLAIR_Std_N4_BET.nii.gz  \n",
            "  inflating: Nifti/0002/Sag_FLAIR_Std_N4_BET.nii.gz  \n",
            "  inflating: Nifti/0020/Sag_FLAIR_Std_N4_BET.nii.gz  \n",
            "  inflating: Nifti/0011/Sag_FLAIR_Std_N4_BET.nii.gz  \n",
            "  inflating: Nifti/0017/Sag_FLAIR_Std_N4_BET.nii.gz  \n",
            "  inflating: Nifti/0010/Sag_FLAIR_Std_N4_BET.nii.gz  \n",
            "  inflating: Nifti/0019/Sag_FLAIR_Std_N4_BET.nii.gz  \n",
            "  inflating: Nifti/0021/Sag_FLAIR_Std_N4_BET.nii.gz  \n",
            "  inflating: Nifti/0007/Sag_FLAIR_Std_N4_BET.nii.gz  \n",
            "  inflating: Nifti/0000/Sag_FLAIR_Std_N4_BET.nii.gz  \n",
            "  inflating: Nifti/0009/Sag_FLAIR_Std_N4_BET.nii.gz  \n",
            "  inflating: Nifti/0008/Sag_FLAIR_Std_N4_BET.nii.gz  \n",
            "  inflating: Nifti/0001/Sag_FLAIR_Std_N4_BET.nii.gz  \n",
            "  inflating: Nifti/0006/Sag_FLAIR_Std_N4_BET.nii.gz  \n",
            "  inflating: Nifti/0024/Sag_FLAIR_Std_N4_BET.nii.gz  \n",
            "  inflating: Nifti/0023/Sag_FLAIR_Std_N4_BET.nii.gz  \n",
            "  inflating: Nifti/0015/Sag_FLAIR_Std_N4_BET.nii.gz  \n",
            "  inflating: Nifti/0012/Sag_FLAIR_Std_N4_BET.nii.gz  \n",
            "  inflating: Nifti/0013/Sag_FLAIR_Std_N4_BET.nii.gz  \n",
            "  inflating: Nifti/0014/Sag_FLAIR_Std_N4_BET.nii.gz  \n",
            "  inflating: Nifti/0022/Sag_FLAIR_Std_N4_BET.nii.gz  \n",
            "mkdir: cannot create directory ‘./Gads’: File exists\n",
            "Archive:  ../Gads.zip\n",
            "  inflating: Nifti/0003/Sag_Gad_Std_N4_BET.nii.gz  \n",
            "  inflating: Nifti/0004/Sag_Gad_Std_N4_BET.nii.gz  \n",
            "  inflating: Nifti/0005/Sag_Gad_Std_N4_BET.nii.gz  \n",
            "  inflating: Nifti/0020/Sag_Gad_Std_N4_BET.nii.gz  \n",
            "  inflating: Nifti/0018/Sag_Gad_Std_N4_BET.nii.gz  \n",
            "  inflating: Nifti/0016/Sag_Gad_Std_N4_BET.nii.gz  \n",
            "  inflating: Nifti/0017/Sag_Gad_Std_N4_BET.nii.gz  \n",
            "  inflating: Nifti/0010/Sag_Gad_Std_N4_BET.nii.gz  \n",
            "  inflating: Nifti/0019/Sag_Gad_Std_N4_BET.nii.gz  \n",
            "  inflating: Nifti/0021/Sag_Gad_Std_N4_BET.nii.gz  \n",
            "  inflating: Nifti/0009/Sag_Gad_Std_N4_BET.nii.gz  \n",
            "  inflating: Nifti/0008/Sag_Gad_Std_N4_BET.nii.gz  \n",
            "  inflating: Nifti/0006/Sag_Gad_Std_N4_BET.nii.gz  \n",
            "  inflating: Nifti/0015/Sag_Gad_Std_N4_BET.nii.gz  \n",
            "  inflating: Nifti/0012/Sag_Gad_Std_N4_BET.nii.gz  \n",
            "  inflating: Nifti/0013/Sag_Gad_Std_N4_BET.nii.gz  \n",
            "  inflating: Nifti/0014/Sag_Gad_Std_N4_BET.nii.gz  \n",
            "  inflating: Nifti/0022/Sag_Gad_Std_N4_BET.nii.gz  \n",
            "mkdir: cannot create directory ‘./MPRAGEs’: File exists\n",
            "Archive:  ../MPRAGEs.zip\n",
            "  inflating: Nifti/0003/Sag_MPRAGE_Std_N4_BET.nii.gz  \n",
            "  inflating: Nifti/0004/Sag_MPRAGE_Std_N4_BET.nii.gz  \n",
            "  inflating: Nifti/0005/Sag_MPRAGE_Std_N4_BET.nii.gz  \n",
            "  inflating: Nifti/0002/Sag_MPRAGE_Std_N4_BET.nii.gz  \n",
            "  inflating: Nifti/0020/Sag_MPRAGE_Std_N4_BET.nii.gz  \n",
            "  inflating: Nifti/0018/Sag_MPRAGE_Std_N4_BET.nii.gz  \n",
            "  inflating: Nifti/0011/Sag_MPRAGE_Std_N4_BET.nii.gz  \n",
            "  inflating: Nifti/0016/Sag_MPRAGE_Std_N4_BET.nii.gz  \n",
            "  inflating: Nifti/0017/Sag_MPRAGE_Std_N4_BET.nii.gz  \n",
            "  inflating: Nifti/0010/Sag_MPRAGE_Std_N4_BET.nii.gz  \n",
            "  inflating: Nifti/0019/Sag_MPRAGE_Std_N4_BET.nii.gz  \n",
            "  inflating: Nifti/0021/Sag_MPRAGE_Std_N4_BET.nii.gz  \n",
            "  inflating: Nifti/0007/Sag_MPRAGE_Std_N4_BET.nii.gz  \n",
            "  inflating: Nifti/0000/Sag_MPRAGE_Std_N4_BET.nii.gz  \n",
            "  inflating: Nifti/0009/Sag_MPRAGE_Std_N4_BET.nii.gz  \n",
            "  inflating: Nifti/0008/Sag_MPRAGE_Std_N4_BET.nii.gz  \n",
            "  inflating: Nifti/0001/Sag_MPRAGE_Std_N4_BET.nii.gz  \n",
            "  inflating: Nifti/0006/Sag_MPRAGE_Std_N4_BET.nii.gz  \n",
            "  inflating: Nifti/0024/Sag_MPRAGE_Std_N4_BET.nii.gz  \n",
            "  inflating: Nifti/0023/Sag_MPRAGE_Std_N4_BET.nii.gz  \n",
            "  inflating: Nifti/0015/Sag_MPRAGE_Std_N4_BET.nii.gz  \n",
            "  inflating: Nifti/0012/Sag_MPRAGE_Std_N4_BET.nii.gz  \n",
            "  inflating: Nifti/0013/Sag_MPRAGE_Std_N4_BET.nii.gz  \n",
            "  inflating: Nifti/0014/Sag_MPRAGE_Std_N4_BET.nii.gz  \n",
            "  inflating: Nifti/0022/Sag_MPRAGE_Std_N4_BET.nii.gz  \n",
            "Archive:  ../Masks.zip\n",
            "  inflating: Nifti/0003/Sag_FLAIR_Std_N4_BET_Lesion_ROI_Mask.nii.gz  \n",
            "  inflating: Nifti/0004/Sag_FLAIR_Std_N4_BET_Lesion_ROI_Mask.nii.gz  \n",
            "  inflating: Nifti/0005/Sag_FLAIR_Std_N4_BET_Lesion_ROI_Mask.nii.gz  \n",
            "  inflating: Nifti/0002/Sag_FLAIR_Std_N4_BET_Lesion_ROI_Mask.nii.gz  \n",
            "  inflating: Nifti/0020/Sag_FLAIR_Std_N4_BET_Lesion_ROI_Mask.nii.gz  \n",
            "  inflating: Nifti/0018/Sag_FLAIR_Std_N4_BET_Lesion_ROI_Mask.nii.gz  \n",
            "  inflating: Nifti/0011/Sag_FLAIR_Std_N4_BET_Lesion_ROI_Mask.nii.gz  \n",
            "  inflating: Nifti/0016/Sag_FLAIR_Std_N4_BET_Lesion_ROI_Mask.nii.gz  \n",
            "  inflating: Nifti/0017/Sag_FLAIR_Std_N4_BET_Lesion_ROI_Mask.nii.gz  \n",
            "  inflating: Nifti/0010/Sag_FLAIR_Std_N4_BET_Lesion_ROI_Mask.nii.gz  \n",
            "  inflating: Nifti/0019/Sag_FLAIR_Std_N4_BET_Lesion_ROI_Mask.nii.gz  \n",
            "  inflating: Nifti/0021/Sag_FLAIR_Std_N4_BET_Lesion_ROI_Mask.nii.gz  \n",
            "  inflating: Nifti/0007/Sag_FLAIR_Std_N4_BET_Lesion_ROI_Mask.nii.gz  \n",
            "  inflating: Nifti/0000/Sag_FLAIR_Std_N4_BET_Lesion_ROI_Mask.nii.gz  \n",
            "  inflating: Nifti/0009/Sag_FLAIR_Std_N4_BET_Lesion_ROI_Mask.nii.gz  \n",
            "  inflating: Nifti/0008/Sag_FLAIR_Std_N4_BET_Lesion_ROI_Mask.nii.gz  \n",
            "  inflating: Nifti/0001/Sag_FLAIR_Std_N4_BET_Lesion_ROI_Mask.nii.gz  \n",
            "  inflating: Nifti/0006/Sag_FLAIR_Std_N4_BET_Lesion_ROI_Mask.nii.gz  \n",
            "  inflating: Nifti/0024/Sag_FLAIR_Std_N4_BET_Lesion_ROI_Mask.nii.gz  \n",
            "  inflating: Nifti/0023/Sag_FLAIR_Std_N4_BET_Lesion_ROI_Mask.nii.gz  \n",
            "  inflating: Nifti/0015/Sag_FLAIR_Std_N4_BET_Lesion_ROI_Mask.nii.gz  \n",
            "  inflating: Nifti/0012/Sag_FLAIR_Std_N4_BET_Lesion_ROI_Mask.nii.gz  \n",
            "  inflating: Nifti/0013/Sag_FLAIR_Std_N4_BET_Lesion_ROI_Mask.nii.gz  \n",
            "  inflating: Nifti/0014/Sag_FLAIR_Std_N4_BET_Lesion_ROI_Mask.nii.gz  \n",
            "  inflating: Nifti/0022/Sag_FLAIR_Std_N4_BET_Lesion_ROI_Mask.nii.gz  \n",
            "Archive:  ../BrainMasks.zip\n",
            "  inflating: Nifti/0003/Sag_MPRAGE_Std_N4_BET_mask.nii.gz  \n",
            "  inflating: Nifti/0004/Sag_MPRAGE_Std_N4_BET_mask.nii.gz  \n",
            "  inflating: Nifti/0005/Sag_MPRAGE_Std_N4_BET_mask.nii.gz  \n",
            "  inflating: Nifti/0002/Sag_MPRAGE_Std_N4_BET_mask.nii.gz  \n",
            "  inflating: Nifti/0020/Sag_MPRAGE_Std_N4_BET_mask.nii.gz  \n",
            "  inflating: Nifti/0018/Sag_MPRAGE_Std_N4_BET_mask.nii.gz  \n",
            "  inflating: Nifti/0011/Sag_MPRAGE_Std_N4_BET_mask.nii.gz  \n",
            "  inflating: Nifti/0016/Sag_MPRAGE_Std_N4_BET_mask.nii.gz  \n",
            "  inflating: Nifti/0017/Sag_MPRAGE_Std_N4_BET_mask.nii.gz  \n",
            "  inflating: Nifti/0010/Sag_MPRAGE_Std_N4_BET_mask.nii.gz  \n",
            "  inflating: Nifti/0019/Sag_MPRAGE_Std_N4_BET_mask.nii.gz  \n",
            "  inflating: Nifti/0021/Sag_MPRAGE_Std_N4_BET_mask.nii.gz  \n",
            "  inflating: Nifti/0007/Sag_MPRAGE_Std_N4_BET_mask.nii.gz  \n",
            "  inflating: Nifti/0000/Sag_MPRAGE_Std_N4_BET_mask.nii.gz  \n",
            "  inflating: Nifti/0009/Sag_MPRAGE_Std_N4_BET_mask.nii.gz  \n",
            "  inflating: Nifti/0008/Sag_MPRAGE_Std_N4_BET_mask.nii.gz  \n",
            "  inflating: Nifti/0006/Sag_MPRAGE_Std_N4_BET_mask.nii.gz  \n",
            "  inflating: Nifti/0024/Sag_MPRAGE_Std_N4_BET_mask.nii.gz  \n",
            "  inflating: Nifti/0023/Sag_MPRAGE_Std_N4_BET_mask.nii.gz  \n",
            "  inflating: Nifti/0015/Sag_MPRAGE_Std_N4_BET_mask.nii.gz  \n",
            "  inflating: Nifti/0012/Sag_MPRAGE_Std_N4_BET_mask.nii.gz  \n",
            "  inflating: Nifti/0013/Sag_MPRAGE_Std_N4_BET_mask.nii.gz  \n",
            "  inflating: Nifti/0014/Sag_MPRAGE_Std_N4_BET_mask.nii.gz  \n",
            "  inflating: Nifti/0022/Sag_MPRAGE_Std_N4_BET_mask.nii.gz  \n"
          ],
          "name": "stdout"
        }
      ]
    },
    {
      "cell_type": "code",
      "metadata": {
        "id": "P5RojjSTwT8V",
        "colab_type": "code",
        "colab": {}
      },
      "source": [
        "# now read the niftis, convert the image files to PNG\n",
        "# and the brain mask + lesion mask to mask PNG\n",
        "\n",
        "from scipy.ndimage import zoom\n",
        "from PIL import Image\n",
        "\n",
        "MAX_VAL = 255\n",
        "DIM = 256  # assuming MRI  note that will make into a 3D vol of this size\n",
        "\n",
        "def rescale_img(image, max_val=MAX_VAL):\n",
        "    image = image - np.min(image)\n",
        "    image = (np.maximum(image, 0) / image.max()) * max_val\n",
        "    return (image)\n",
        "\n",
        "def save_rgb(imgr, imgg, imgb, fname):\n",
        "    dims = np.shape(imgr)\n",
        "    if (DIM != dims[0]) or (DIM != dims[1]):\n",
        "        imgr = zoom(imgr, (DIM/dims[0], DIM/dims[1]))\n",
        "        imgg = zoom(imgg, (DIM/dims[0], DIM/dims[1]))\n",
        "        imgb = zoom(imgb, (DIM/dims[0], DIM/dims[1]))\n",
        "        print (\"YY\")\n",
        "    rgbArray = np.zeros((DIM,DIM,3), 'uint8')\n",
        "    rgbArray[..., 0] = imgr\n",
        "    rgbArray[..., 1] = imgg\n",
        "    rgbArray[..., 2] = imgb\n",
        "    rgbArray = np.rot90(rgbArray)\n",
        "    img = Image.fromarray(rgbArray)\n",
        "    img.save(fname+\".png\")\n",
        "    return\n",
        "\n",
        "def save_gray(img, fname):\n",
        "    dims = np.shape(img)\n",
        "    if (DIM != dims[0]) or (DIM != dims[1]):\n",
        "        print (\"XX\")\n",
        "        img = zoom(img, (DIM/dims[0], DIM/dims[1]))\n",
        "    print (\"Max in mask is \" + str(np.amax(img, axis=None)))\n",
        "    img = np.rot90(img)\n",
        "    img = Image.fromarray(np.uint8(img))\n",
        "    img = img.convert(\"L\")\n",
        "    img.save(fname+\".png\")\n",
        "    return\n"
      ],
      "execution_count": 0,
      "outputs": []
    },
    {
      "cell_type": "code",
      "metadata": {
        "id": "gZVMy3dXN21C",
        "colab_type": "code",
        "colab": {
          "base_uri": "https://localhost:8080/",
          "height": 1000
        },
        "outputId": "57a9b1ff-839c-4e7f-f35c-e38accfdabe9"
      },
      "source": [
        "img_path = './images'   # where the PNG of the MRIs go\n",
        "lbl_path = './labels'   # where the brain & lesion label images go\n",
        "\n",
        "!rm -rf ./images\n",
        "!rm -rf ./labels\n",
        "!mkdir ./images\n",
        "!mkdir ./labels\n",
        "\n",
        "\n",
        "FLAIR_NAME = \"Sag_FLAIR_Std_N4_BET.nii.gz\"\n",
        "MPRAGE_NAME = \"Sag_MPRAGE_Std_N4_BET.nii.gz\"\n",
        "GAD_NAME = \"Sag_Gad_Std_N4_BET.nii.gz\"\n",
        "\n",
        "LESION_NAME = FLAIR_NAME.replace (\"_BET.nii.gz\", \"_BET_Lesion_ROI_Mask.nii.gz\")\n",
        "BRAIN_NAME = MPRAGE_NAME.replace (\"_BET.nii.gz\", \"_BET_mask.nii.gz\")\n",
        "\n",
        "NUM_SUBJ = 25\n",
        "\n",
        "for subj in range (NUM_SUBJ):\n",
        "    subj_num = str(subj).zfill(4)\n",
        "    tpath = os.path.join('./FLAIRs/Nifti', subj_num)\n",
        "    if os.path.exists(os.path.join(tpath, FLAIR_NAME)):\n",
        "        print (str(tpath))\n",
        "        flair_img = nib.load(os.path.join(tpath, FLAIR_NAME))\n",
        "        flair_img_data = flair_img.get_fdata()\n",
        "        flair_img_data = rescale_img(flair_img_data, max_val=255)\n",
        "        tpath = os.path.join('./MPRAGEs/Nifti', subj_num)\n",
        "        if os.path.exists(os.path.join(tpath, MPRAGE_NAME)):\n",
        "            print (\"MPRAGE\")\n",
        "            MPRAGE_img = nib.load(os.path.join(tpath, MPRAGE_NAME))\n",
        "            MPRAGE_img_data = MPRAGE_img.get_fdata()\n",
        "            MPRAGE_img_data = rescale_img(MPRAGE_img_data, max_val=255)\n",
        "            tpath = os.path.join('./Gads/Nifti', subj_num)\n",
        "            if os.path.exists(os.path.join(tpath, GAD_NAME)):\n",
        "                print (\"Gad\")\n",
        "                Gad_img = nib.load(os.path.join(tpath, GAD_NAME))\n",
        "                Gad_img_data = Gad_img.get_fdata()\n",
        "                Gad_img_data = rescale_img(Gad_img_data, max_val=255)\n",
        "                tpath = os.path.join('./Lesions/Nifti', subj_num)\n",
        "                if os.path.exists(os.path.join(tpath, LESION_NAME)):\n",
        "                    print (\"Lesion\")\n",
        "                    lesions = nib.load(os.path.join(tpath, LESION_NAME))\n",
        "                    lesion_data = lesions.get_fdata()\n",
        "                    tpath = os.path.join('./BrainMasks/Nifti', subj_num)\n",
        "                    if os.path.exists(os.path.join(tpath, BRAIN_NAME)):\n",
        "                        print (\"Brain\")\n",
        "                        brains = nib.load(os.path.join(tpath, BRAIN_NAME))\n",
        "                        brain_data = brains.get_fdata()\n",
        "                        print (str(np.count_nonzero(brain_data)) + \"brain voxels\")\n",
        "                        dims = flair_img.shape\n",
        "                        print (dims)\n",
        "                        for z in range(dims[2]):\n",
        "                            out_name = os.path.join(img_path, subj_num + '-' + str(z).zfill(4) + '-MRI')\n",
        "                            if np.count_nonzero(lesion_data[:,:,z]) > 0:  # only use slices with lesions\n",
        "                            # if True:\n",
        "                                save_rgb(flair_img_data[:,:,z], MPRAGE_img_data[:,:,z], Gad_img_data[:,:,z], out_name)  # this is the MRI image\n",
        "                                save_rgb(flair_img_data[:,:,z], flair_img_data[:,:,z], flair_img_data[:,:,z], out_name)  # this is the MRI image\n",
        "                                out_name = os.path.join(lbl_path, subj_num + '-' + str(z).zfill(4) + '-Mask')\n",
        "                                mask = lesion_data[:,:,z] + brain_data[:,:,z]\n",
        "                                save_gray(mask, out_name)  # this is the mask image\n"
      ],
      "execution_count": 153,
      "outputs": [
        {
          "output_type": "stream",
          "text": [
            "./FLAIRs/Nifti/0000\n",
            "MPRAGE\n",
            "./FLAIRs/Nifti/0001\n",
            "MPRAGE\n",
            "./FLAIRs/Nifti/0002\n",
            "MPRAGE\n",
            "./FLAIRs/Nifti/0003\n",
            "MPRAGE\n",
            "Gad\n",
            "Lesion\n",
            "Brain\n",
            "1570433brain voxels\n",
            "(256, 256, 176)\n",
            "Max in mask is 1.0\n",
            "Max in mask is 1.0\n",
            "Max in mask is 1.0\n",
            "Max in mask is 1.0\n",
            "Max in mask is 1.0\n",
            "Max in mask is 1.0\n",
            "Max in mask is 1.0\n",
            "Max in mask is 1.0\n",
            "Max in mask is 1.0\n",
            "Max in mask is 1.0\n",
            "Max in mask is 1.0\n",
            "Max in mask is 1.0\n",
            "Max in mask is 1.0\n",
            "Max in mask is 1.0\n",
            "Max in mask is 1.0\n",
            "Max in mask is 1.0\n",
            "Max in mask is 1.0\n",
            "Max in mask is 1.0\n",
            "Max in mask is 1.0\n",
            "Max in mask is 1.0\n",
            "Max in mask is 1.0\n",
            "Max in mask is 1.0\n",
            "Max in mask is 1.0\n",
            "Max in mask is 1.0\n",
            "Max in mask is 1.0\n",
            "Max in mask is 1.0\n",
            "Max in mask is 1.0\n",
            "Max in mask is 1.0\n",
            "Max in mask is 1.0\n",
            "Max in mask is 1.0\n",
            "Max in mask is 1.0\n",
            "Max in mask is 1.0\n",
            "Max in mask is 1.0\n",
            "Max in mask is 1.0\n",
            "Max in mask is 1.0\n",
            "Max in mask is 1.0\n",
            "Max in mask is 1.0\n",
            "Max in mask is 1.0\n",
            "Max in mask is 1.0\n",
            "Max in mask is 1.0\n",
            "Max in mask is 1.0\n",
            "Max in mask is 1.0\n",
            "Max in mask is 1.0\n",
            "Max in mask is 1.0\n",
            "Max in mask is 1.0\n",
            "Max in mask is 1.0\n",
            "Max in mask is 1.0\n",
            "Max in mask is 1.0\n",
            "Max in mask is 1.0\n",
            "Max in mask is 1.0\n",
            "Max in mask is 1.0\n",
            "Max in mask is 1.0\n",
            "Max in mask is 1.0\n",
            "Max in mask is 1.0\n",
            "Max in mask is 1.0\n",
            "Max in mask is 1.0\n",
            "Max in mask is 1.0\n",
            "Max in mask is 1.0\n",
            "Max in mask is 1.0\n",
            "Max in mask is 1.0\n",
            "Max in mask is 1.0\n",
            "Max in mask is 1.0\n",
            "Max in mask is 1.0\n",
            "Max in mask is 1.0\n",
            "Max in mask is 1.0\n",
            "Max in mask is 1.0\n",
            "Max in mask is 1.0\n",
            "Max in mask is 1.0\n",
            "Max in mask is 1.0\n",
            "Max in mask is 1.0\n",
            "Max in mask is 2.0\n",
            "Max in mask is 2.0\n",
            "Max in mask is 2.0\n",
            "Max in mask is 2.0\n",
            "Max in mask is 2.0\n",
            "Max in mask is 2.0\n",
            "Max in mask is 2.0\n",
            "Max in mask is 2.0\n",
            "Max in mask is 2.0\n",
            "Max in mask is 2.0\n",
            "Max in mask is 2.0\n",
            "Max in mask is 2.0\n",
            "Max in mask is 2.0\n",
            "Max in mask is 2.0\n",
            "Max in mask is 2.0\n",
            "Max in mask is 2.0\n",
            "Max in mask is 2.0\n",
            "./FLAIRs/Nifti/0004\n",
            "MPRAGE\n",
            "Gad\n",
            "Lesion\n",
            "Brain\n",
            "1634066brain voxels\n",
            "(256, 256, 164)\n",
            "Max in mask is 1.0\n",
            "Max in mask is 1.0\n",
            "Max in mask is 1.0\n",
            "Max in mask is 1.0\n",
            "Max in mask is 1.0\n",
            "Max in mask is 1.0\n",
            "Max in mask is 1.0\n",
            "Max in mask is 1.0\n",
            "Max in mask is 1.0\n",
            "Max in mask is 1.0\n",
            "Max in mask is 1.0\n",
            "Max in mask is 1.0\n",
            "Max in mask is 1.0\n",
            "Max in mask is 1.0\n",
            "Max in mask is 1.0\n",
            "Max in mask is 1.0\n",
            "Max in mask is 1.0\n",
            "Max in mask is 1.0\n",
            "Max in mask is 1.0\n",
            "Max in mask is 1.0\n",
            "Max in mask is 1.0\n",
            "Max in mask is 1.0\n",
            "Max in mask is 1.0\n",
            "Max in mask is 1.0\n",
            "Max in mask is 1.0\n",
            "Max in mask is 1.0\n",
            "Max in mask is 1.0\n",
            "Max in mask is 1.0\n",
            "Max in mask is 1.0\n",
            "Max in mask is 1.0\n",
            "Max in mask is 1.0\n",
            "Max in mask is 1.0\n",
            "Max in mask is 1.0\n",
            "Max in mask is 1.0\n",
            "Max in mask is 1.0\n",
            "Max in mask is 1.0\n",
            "Max in mask is 1.0\n",
            "Max in mask is 1.0\n",
            "Max in mask is 1.0\n",
            "Max in mask is 1.0\n",
            "Max in mask is 1.0\n",
            "Max in mask is 1.0\n",
            "Max in mask is 1.0\n",
            "Max in mask is 1.0\n",
            "Max in mask is 1.0\n",
            "Max in mask is 1.0\n",
            "Max in mask is 1.0\n",
            "Max in mask is 1.0\n",
            "Max in mask is 1.0\n",
            "Max in mask is 1.0\n",
            "Max in mask is 1.0\n",
            "Max in mask is 1.0\n",
            "Max in mask is 1.0\n",
            "Max in mask is 1.0\n",
            "Max in mask is 2.0\n",
            "Max in mask is 2.0\n",
            "Max in mask is 2.0\n",
            "Max in mask is 2.0\n",
            "Max in mask is 1.0\n",
            "./FLAIRs/Nifti/0005\n",
            "MPRAGE\n",
            "Gad\n",
            "Lesion\n",
            "Brain\n",
            "1247420brain voxels\n",
            "(256, 256, 128)\n",
            "Max in mask is 1.0\n",
            "Max in mask is 1.0\n",
            "Max in mask is 1.0\n",
            "Max in mask is 1.0\n",
            "Max in mask is 1.0\n",
            "Max in mask is 1.0\n",
            "Max in mask is 1.0\n",
            "Max in mask is 1.0\n",
            "Max in mask is 1.0\n",
            "Max in mask is 1.0\n",
            "Max in mask is 1.0\n",
            "Max in mask is 1.0\n",
            "Max in mask is 1.0\n",
            "Max in mask is 1.0\n",
            "Max in mask is 1.0\n",
            "Max in mask is 1.0\n",
            "Max in mask is 1.0\n",
            "Max in mask is 1.0\n",
            "Max in mask is 1.0\n",
            "Max in mask is 1.0\n",
            "Max in mask is 1.0\n",
            "Max in mask is 1.0\n",
            "Max in mask is 1.0\n",
            "Max in mask is 1.0\n",
            "Max in mask is 1.0\n",
            "Max in mask is 1.0\n",
            "Max in mask is 1.0\n",
            "Max in mask is 1.0\n",
            "Max in mask is 1.0\n",
            "Max in mask is 1.0\n",
            "Max in mask is 1.0\n",
            "Max in mask is 1.0\n",
            "Max in mask is 1.0\n",
            "Max in mask is 1.0\n",
            "Max in mask is 1.0\n",
            "Max in mask is 1.0\n",
            "Max in mask is 1.0\n",
            "Max in mask is 1.0\n",
            "Max in mask is 1.0\n",
            "Max in mask is 1.0\n",
            "Max in mask is 1.0\n",
            "Max in mask is 1.0\n",
            "Max in mask is 1.0\n",
            "Max in mask is 1.0\n",
            "Max in mask is 1.0\n",
            "./FLAIRs/Nifti/0006\n",
            "MPRAGE\n",
            "Gad\n",
            "Lesion\n",
            "Brain\n",
            "1615901brain voxels\n",
            "(256, 256, 168)\n",
            "Max in mask is 1.0\n",
            "Max in mask is 1.0\n",
            "Max in mask is 1.0\n",
            "Max in mask is 1.0\n",
            "Max in mask is 1.0\n",
            "Max in mask is 1.0\n",
            "Max in mask is 1.0\n",
            "Max in mask is 1.0\n",
            "Max in mask is 1.0\n",
            "Max in mask is 1.0\n",
            "Max in mask is 1.0\n",
            "Max in mask is 1.0\n",
            "Max in mask is 1.0\n",
            "Max in mask is 1.0\n",
            "Max in mask is 1.0\n",
            "Max in mask is 1.0\n",
            "Max in mask is 1.0\n",
            "Max in mask is 1.0\n",
            "Max in mask is 1.0\n",
            "Max in mask is 1.0\n",
            "Max in mask is 1.0\n",
            "Max in mask is 1.0\n",
            "Max in mask is 1.0\n",
            "Max in mask is 1.0\n",
            "Max in mask is 1.0\n",
            "Max in mask is 1.0\n",
            "Max in mask is 1.0\n",
            "Max in mask is 1.0\n",
            "Max in mask is 1.0\n",
            "Max in mask is 1.0\n",
            "Max in mask is 1.0\n",
            "Max in mask is 1.0\n",
            "Max in mask is 1.0\n",
            "Max in mask is 1.0\n",
            "Max in mask is 1.0\n",
            "Max in mask is 1.0\n",
            "Max in mask is 1.0\n",
            "Max in mask is 1.0\n",
            "Max in mask is 2.0\n",
            "Max in mask is 2.0\n",
            "Max in mask is 2.0\n",
            "Max in mask is 2.0\n",
            "Max in mask is 2.0\n",
            "Max in mask is 2.0\n",
            "Max in mask is 1.0\n",
            "Max in mask is 1.0\n",
            "Max in mask is 1.0\n",
            "Max in mask is 1.0\n",
            "Max in mask is 2.0\n",
            "Max in mask is 2.0\n",
            "Max in mask is 2.0\n",
            "Max in mask is 2.0\n",
            "Max in mask is 2.0\n",
            "Max in mask is 2.0\n",
            "Max in mask is 2.0\n",
            "Max in mask is 2.0\n",
            "Max in mask is 2.0\n",
            "Max in mask is 2.0\n",
            "Max in mask is 2.0\n",
            "Max in mask is 2.0\n",
            "Max in mask is 2.0\n",
            "Max in mask is 2.0\n",
            "Max in mask is 2.0\n",
            "Max in mask is 2.0\n",
            "Max in mask is 2.0\n",
            "Max in mask is 2.0\n",
            "Max in mask is 2.0\n",
            "Max in mask is 2.0\n",
            "./FLAIRs/Nifti/0007\n",
            "MPRAGE\n",
            "./FLAIRs/Nifti/0008\n",
            "MPRAGE\n",
            "Gad\n",
            "Lesion\n",
            "Brain\n",
            "1698272brain voxels\n",
            "(256, 256, 160)\n",
            "Max in mask is 1.0\n",
            "Max in mask is 1.0\n",
            "Max in mask is 1.0\n",
            "Max in mask is 1.0\n",
            "Max in mask is 1.0\n",
            "Max in mask is 1.0\n",
            "Max in mask is 1.0\n",
            "Max in mask is 1.0\n",
            "Max in mask is 1.0\n",
            "Max in mask is 1.0\n",
            "Max in mask is 1.0\n",
            "Max in mask is 1.0\n",
            "Max in mask is 1.0\n",
            "Max in mask is 1.0\n",
            "Max in mask is 1.0\n",
            "Max in mask is 1.0\n",
            "Max in mask is 1.0\n",
            "Max in mask is 1.0\n",
            "Max in mask is 1.0\n",
            "Max in mask is 1.0\n",
            "Max in mask is 1.0\n",
            "Max in mask is 1.0\n",
            "Max in mask is 1.0\n",
            "Max in mask is 1.0\n",
            "Max in mask is 1.0\n",
            "Max in mask is 1.0\n",
            "Max in mask is 1.0\n",
            "Max in mask is 1.0\n",
            "Max in mask is 1.0\n",
            "Max in mask is 1.0\n",
            "Max in mask is 1.0\n",
            "Max in mask is 1.0\n",
            "Max in mask is 1.0\n",
            "Max in mask is 1.0\n",
            "Max in mask is 1.0\n",
            "Max in mask is 1.0\n",
            "Max in mask is 1.0\n",
            "Max in mask is 1.0\n",
            "Max in mask is 1.0\n",
            "Max in mask is 1.0\n",
            "Max in mask is 1.0\n",
            "Max in mask is 1.0\n",
            "Max in mask is 1.0\n",
            "Max in mask is 1.0\n",
            "Max in mask is 1.0\n",
            "Max in mask is 1.0\n",
            "Max in mask is 1.0\n",
            "Max in mask is 2.0\n",
            "Max in mask is 2.0\n",
            "Max in mask is 2.0\n",
            "Max in mask is 2.0\n",
            "Max in mask is 2.0\n",
            "Max in mask is 2.0\n",
            "Max in mask is 2.0\n",
            "Max in mask is 2.0\n",
            "Max in mask is 2.0\n",
            "Max in mask is 2.0\n",
            "Max in mask is 2.0\n",
            "Max in mask is 2.0\n",
            "Max in mask is 1.0\n",
            "Max in mask is 2.0\n",
            "Max in mask is 2.0\n",
            "Max in mask is 2.0\n",
            "Max in mask is 2.0\n",
            "Max in mask is 2.0\n",
            "Max in mask is 2.0\n",
            "Max in mask is 2.0\n",
            "Max in mask is 2.0\n",
            "Max in mask is 2.0\n",
            "./FLAIRs/Nifti/0009\n",
            "MPRAGE\n",
            "Gad\n",
            "Lesion\n",
            "Brain\n",
            "1113917brain voxels\n",
            "(256, 256, 128)\n",
            "Max in mask is 1.0\n",
            "Max in mask is 1.0\n",
            "Max in mask is 1.0\n",
            "Max in mask is 1.0\n",
            "Max in mask is 1.0\n",
            "Max in mask is 1.0\n",
            "Max in mask is 1.0\n",
            "Max in mask is 1.0\n",
            "Max in mask is 1.0\n",
            "Max in mask is 1.0\n",
            "Max in mask is 1.0\n",
            "Max in mask is 1.0\n",
            "Max in mask is 1.0\n",
            "Max in mask is 1.0\n",
            "Max in mask is 1.0\n",
            "Max in mask is 1.0\n",
            "Max in mask is 1.0\n",
            "Max in mask is 1.0\n",
            "Max in mask is 1.0\n",
            "Max in mask is 1.0\n",
            "Max in mask is 1.0\n",
            "Max in mask is 1.0\n",
            "Max in mask is 1.0\n",
            "Max in mask is 1.0\n",
            "Max in mask is 1.0\n",
            "Max in mask is 1.0\n",
            "Max in mask is 1.0\n",
            "Max in mask is 1.0\n",
            "Max in mask is 1.0\n",
            "Max in mask is 1.0\n",
            "Max in mask is 1.0\n",
            "Max in mask is 1.0\n",
            "Max in mask is 1.0\n",
            "Max in mask is 1.0\n",
            "Max in mask is 1.0\n",
            "Max in mask is 1.0\n",
            "Max in mask is 1.0\n",
            "Max in mask is 1.0\n",
            "Max in mask is 1.0\n",
            "Max in mask is 1.0\n",
            "Max in mask is 1.0\n",
            "Max in mask is 1.0\n",
            "Max in mask is 1.0\n",
            "Max in mask is 1.0\n",
            "Max in mask is 1.0\n",
            "Max in mask is 2.0\n",
            "Max in mask is 2.0\n",
            "Max in mask is 2.0\n",
            "Max in mask is 2.0\n",
            "./FLAIRs/Nifti/0010\n",
            "MPRAGE\n",
            "Gad\n",
            "Lesion\n",
            "Brain\n",
            "1246678brain voxels\n",
            "(256, 256, 128)\n",
            "Max in mask is 1.0\n",
            "Max in mask is 1.0\n",
            "Max in mask is 1.0\n",
            "Max in mask is 1.0\n",
            "Max in mask is 1.0\n",
            "Max in mask is 1.0\n",
            "Max in mask is 1.0\n",
            "Max in mask is 1.0\n",
            "Max in mask is 1.0\n",
            "Max in mask is 1.0\n",
            "Max in mask is 1.0\n",
            "Max in mask is 1.0\n",
            "Max in mask is 1.0\n",
            "Max in mask is 1.0\n",
            "Max in mask is 1.0\n",
            "Max in mask is 1.0\n",
            "Max in mask is 1.0\n",
            "Max in mask is 1.0\n",
            "Max in mask is 1.0\n",
            "Max in mask is 1.0\n",
            "Max in mask is 1.0\n",
            "Max in mask is 1.0\n",
            "Max in mask is 1.0\n",
            "Max in mask is 1.0\n",
            "Max in mask is 1.0\n",
            "Max in mask is 1.0\n",
            "Max in mask is 1.0\n",
            "Max in mask is 1.0\n",
            "Max in mask is 1.0\n",
            "Max in mask is 1.0\n",
            "Max in mask is 1.0\n",
            "Max in mask is 1.0\n",
            "Max in mask is 1.0\n",
            "Max in mask is 1.0\n",
            "Max in mask is 1.0\n",
            "Max in mask is 1.0\n",
            "Max in mask is 1.0\n",
            "Max in mask is 1.0\n",
            "Max in mask is 1.0\n",
            "Max in mask is 1.0\n",
            "Max in mask is 1.0\n",
            "Max in mask is 1.0\n",
            "Max in mask is 1.0\n",
            "Max in mask is 1.0\n",
            "Max in mask is 1.0\n",
            "Max in mask is 2.0\n",
            "Max in mask is 2.0\n",
            "Max in mask is 2.0\n",
            "Max in mask is 2.0\n",
            "Max in mask is 1.0\n",
            "Max in mask is 1.0\n",
            "Max in mask is 1.0\n",
            "Max in mask is 1.0\n",
            "Max in mask is 2.0\n",
            "Max in mask is 2.0\n",
            "Max in mask is 2.0\n",
            "Max in mask is 2.0\n",
            "Max in mask is 1.0\n",
            "Max in mask is 1.0\n",
            "./FLAIRs/Nifti/0011\n",
            "MPRAGE\n",
            "./FLAIRs/Nifti/0012\n",
            "MPRAGE\n",
            "Gad\n",
            "Lesion\n",
            "Brain\n",
            "1543958brain voxels\n",
            "(256, 256, 176)\n",
            "Max in mask is 1.0\n",
            "Max in mask is 1.0\n",
            "Max in mask is 1.0\n",
            "Max in mask is 1.0\n",
            "Max in mask is 1.0\n",
            "Max in mask is 1.0\n",
            "Max in mask is 1.0\n",
            "Max in mask is 1.0\n",
            "Max in mask is 1.0\n",
            "Max in mask is 1.0\n",
            "Max in mask is 1.0\n",
            "Max in mask is 1.0\n",
            "Max in mask is 1.0\n",
            "Max in mask is 1.0\n",
            "Max in mask is 1.0\n",
            "Max in mask is 1.0\n",
            "Max in mask is 1.0\n",
            "Max in mask is 1.0\n",
            "Max in mask is 1.0\n",
            "Max in mask is 1.0\n",
            "Max in mask is 1.0\n",
            "Max in mask is 1.0\n",
            "Max in mask is 1.0\n",
            "Max in mask is 1.0\n",
            "Max in mask is 1.0\n",
            "Max in mask is 1.0\n",
            "Max in mask is 1.0\n",
            "Max in mask is 1.0\n",
            "Max in mask is 1.0\n",
            "Max in mask is 1.0\n",
            "Max in mask is 1.0\n",
            "Max in mask is 1.0\n",
            "Max in mask is 1.0\n",
            "Max in mask is 1.0\n",
            "Max in mask is 1.0\n",
            "Max in mask is 1.0\n",
            "Max in mask is 1.0\n",
            "Max in mask is 1.0\n",
            "Max in mask is 1.0\n",
            "Max in mask is 1.0\n",
            "Max in mask is 1.0\n",
            "Max in mask is 1.0\n",
            "Max in mask is 1.0\n",
            "Max in mask is 1.0\n",
            "Max in mask is 1.0\n",
            "Max in mask is 2.0\n",
            "Max in mask is 2.0\n",
            "Max in mask is 2.0\n",
            "Max in mask is 2.0\n",
            "Max in mask is 2.0\n",
            "Max in mask is 2.0\n",
            "Max in mask is 2.0\n",
            "Max in mask is 2.0\n",
            "Max in mask is 2.0\n",
            "Max in mask is 2.0\n",
            "Max in mask is 2.0\n",
            "Max in mask is 2.0\n",
            "Max in mask is 2.0\n",
            "Max in mask is 2.0\n",
            "Max in mask is 2.0\n",
            "Max in mask is 2.0\n",
            "Max in mask is 2.0\n",
            "Max in mask is 2.0\n",
            "Max in mask is 2.0\n",
            "Max in mask is 2.0\n",
            "Max in mask is 2.0\n",
            "Max in mask is 2.0\n",
            "Max in mask is 2.0\n",
            "Max in mask is 2.0\n",
            "Max in mask is 2.0\n",
            "Max in mask is 2.0\n",
            "Max in mask is 2.0\n",
            "Max in mask is 2.0\n",
            "Max in mask is 2.0\n",
            "Max in mask is 2.0\n",
            "Max in mask is 2.0\n",
            "Max in mask is 2.0\n",
            "Max in mask is 2.0\n",
            "Max in mask is 2.0\n",
            "Max in mask is 2.0\n",
            "Max in mask is 2.0\n",
            "Max in mask is 2.0\n",
            "Max in mask is 2.0\n",
            "Max in mask is 2.0\n",
            "./FLAIRs/Nifti/0013\n",
            "MPRAGE\n",
            "Gad\n",
            "Lesion\n",
            "Brain\n",
            "1536651brain voxels\n",
            "(256, 256, 160)\n",
            "Max in mask is 1.0\n",
            "Max in mask is 1.0\n",
            "Max in mask is 1.0\n",
            "Max in mask is 1.0\n",
            "Max in mask is 1.0\n",
            "Max in mask is 1.0\n",
            "Max in mask is 1.0\n",
            "Max in mask is 1.0\n",
            "Max in mask is 1.0\n",
            "Max in mask is 1.0\n",
            "Max in mask is 1.0\n",
            "Max in mask is 1.0\n",
            "Max in mask is 1.0\n",
            "Max in mask is 1.0\n",
            "Max in mask is 1.0\n",
            "Max in mask is 1.0\n",
            "Max in mask is 1.0\n",
            "Max in mask is 1.0\n",
            "Max in mask is 1.0\n",
            "Max in mask is 1.0\n",
            "Max in mask is 1.0\n",
            "Max in mask is 1.0\n",
            "Max in mask is 1.0\n",
            "Max in mask is 1.0\n",
            "Max in mask is 1.0\n",
            "Max in mask is 1.0\n",
            "Max in mask is 1.0\n",
            "Max in mask is 1.0\n",
            "Max in mask is 1.0\n",
            "Max in mask is 1.0\n",
            "Max in mask is 1.0\n",
            "Max in mask is 1.0\n",
            "Max in mask is 1.0\n",
            "Max in mask is 1.0\n",
            "Max in mask is 1.0\n",
            "Max in mask is 1.0\n",
            "Max in mask is 1.0\n",
            "Max in mask is 1.0\n",
            "Max in mask is 2.0\n",
            "Max in mask is 2.0\n",
            "Max in mask is 2.0\n",
            "Max in mask is 2.0\n",
            "Max in mask is 2.0\n",
            "Max in mask is 2.0\n",
            "Max in mask is 2.0\n",
            "Max in mask is 2.0\n",
            "Max in mask is 1.0\n",
            "Max in mask is 2.0\n",
            "Max in mask is 2.0\n",
            "Max in mask is 2.0\n",
            "Max in mask is 2.0\n",
            "Max in mask is 2.0\n",
            "Max in mask is 2.0\n",
            "Max in mask is 2.0\n",
            "Max in mask is 2.0\n",
            "Max in mask is 2.0\n",
            "Max in mask is 2.0\n",
            "Max in mask is 2.0\n",
            "Max in mask is 2.0\n",
            "Max in mask is 2.0\n",
            "Max in mask is 2.0\n",
            "Max in mask is 2.0\n",
            "Max in mask is 2.0\n",
            "Max in mask is 2.0\n",
            "Max in mask is 2.0\n",
            "Max in mask is 2.0\n",
            "Max in mask is 2.0\n",
            "Max in mask is 2.0\n",
            "Max in mask is 2.0\n",
            "Max in mask is 2.0\n",
            "Max in mask is 2.0\n",
            "Max in mask is 2.0\n",
            "Max in mask is 2.0\n",
            "Max in mask is 2.0\n",
            "Max in mask is 2.0\n",
            "Max in mask is 2.0\n",
            "Max in mask is 2.0\n",
            "Max in mask is 2.0\n",
            "Max in mask is 2.0\n",
            "Max in mask is 2.0\n",
            "Max in mask is 2.0\n",
            "Max in mask is 2.0\n",
            "Max in mask is 2.0\n",
            "./FLAIRs/Nifti/0014\n",
            "MPRAGE\n",
            "Gad\n",
            "Lesion\n",
            "Brain\n",
            "1565788brain voxels\n",
            "(256, 256, 160)\n",
            "Max in mask is 1.0\n",
            "Max in mask is 1.0\n",
            "Max in mask is 1.0\n",
            "Max in mask is 1.0\n",
            "Max in mask is 1.0\n",
            "Max in mask is 1.0\n",
            "Max in mask is 1.0\n",
            "Max in mask is 1.0\n",
            "Max in mask is 1.0\n",
            "Max in mask is 1.0\n",
            "Max in mask is 1.0\n",
            "Max in mask is 1.0\n",
            "Max in mask is 1.0\n",
            "Max in mask is 1.0\n",
            "Max in mask is 1.0\n",
            "Max in mask is 1.0\n",
            "Max in mask is 1.0\n",
            "Max in mask is 1.0\n",
            "Max in mask is 1.0\n",
            "Max in mask is 1.0\n",
            "Max in mask is 1.0\n",
            "Max in mask is 1.0\n",
            "Max in mask is 1.0\n",
            "Max in mask is 1.0\n",
            "Max in mask is 1.0\n",
            "Max in mask is 1.0\n",
            "Max in mask is 1.0\n",
            "Max in mask is 1.0\n",
            "Max in mask is 1.0\n",
            "Max in mask is 1.0\n",
            "Max in mask is 1.0\n",
            "Max in mask is 1.0\n",
            "Max in mask is 1.0\n",
            "Max in mask is 1.0\n",
            "Max in mask is 1.0\n",
            "Max in mask is 1.0\n",
            "Max in mask is 1.0\n",
            "Max in mask is 1.0\n",
            "Max in mask is 1.0\n",
            "Max in mask is 1.0\n",
            "Max in mask is 1.0\n",
            "Max in mask is 1.0\n",
            "Max in mask is 1.0\n",
            "Max in mask is 1.0\n",
            "Max in mask is 1.0\n",
            "Max in mask is 1.0\n",
            "Max in mask is 1.0\n",
            "Max in mask is 1.0\n",
            "Max in mask is 1.0\n",
            "Max in mask is 1.0\n",
            "Max in mask is 1.0\n",
            "Max in mask is 2.0\n",
            "Max in mask is 2.0\n",
            "Max in mask is 2.0\n",
            "./FLAIRs/Nifti/0015\n",
            "MPRAGE\n",
            "Gad\n",
            "Lesion\n",
            "Brain\n",
            "1842611brain voxels\n",
            "(256, 256, 160)\n",
            "Max in mask is 1.0\n",
            "Max in mask is 1.0\n",
            "Max in mask is 1.0\n",
            "Max in mask is 1.0\n",
            "Max in mask is 1.0\n",
            "Max in mask is 1.0\n",
            "Max in mask is 1.0\n",
            "Max in mask is 1.0\n",
            "Max in mask is 1.0\n",
            "Max in mask is 1.0\n",
            "Max in mask is 1.0\n",
            "Max in mask is 1.0\n",
            "Max in mask is 1.0\n",
            "Max in mask is 1.0\n",
            "Max in mask is 1.0\n",
            "Max in mask is 1.0\n",
            "Max in mask is 1.0\n",
            "Max in mask is 1.0\n",
            "Max in mask is 1.0\n",
            "Max in mask is 1.0\n",
            "Max in mask is 1.0\n",
            "Max in mask is 1.0\n",
            "Max in mask is 1.0\n",
            "Max in mask is 1.0\n",
            "Max in mask is 1.0\n",
            "Max in mask is 1.0\n",
            "Max in mask is 1.0\n",
            "Max in mask is 1.0\n",
            "Max in mask is 1.0\n",
            "Max in mask is 1.0\n",
            "Max in mask is 1.0\n",
            "Max in mask is 1.0\n",
            "Max in mask is 1.0\n",
            "Max in mask is 1.0\n",
            "Max in mask is 1.0\n",
            "Max in mask is 1.0\n",
            "Max in mask is 2.0\n",
            "Max in mask is 2.0\n",
            "Max in mask is 2.0\n",
            "Max in mask is 1.0\n",
            "Max in mask is 1.0\n",
            "Max in mask is 1.0\n",
            "Max in mask is 1.0\n",
            "Max in mask is 1.0\n",
            "Max in mask is 1.0\n",
            "Max in mask is 1.0\n",
            "Max in mask is 1.0\n",
            "Max in mask is 1.0\n",
            "Max in mask is 1.0\n",
            "Max in mask is 1.0\n",
            "Max in mask is 1.0\n",
            "Max in mask is 1.0\n",
            "Max in mask is 2.0\n",
            "./FLAIRs/Nifti/0017\n",
            "MPRAGE\n",
            "Gad\n",
            "Lesion\n",
            "Brain\n",
            "1598507brain voxels\n",
            "(256, 256, 176)\n",
            "Max in mask is 1.0\n",
            "Max in mask is 1.0\n",
            "Max in mask is 1.0\n",
            "Max in mask is 1.0\n",
            "Max in mask is 1.0\n",
            "Max in mask is 1.0\n",
            "Max in mask is 1.0\n",
            "Max in mask is 1.0\n",
            "Max in mask is 1.0\n",
            "Max in mask is 1.0\n",
            "Max in mask is 1.0\n",
            "Max in mask is 1.0\n",
            "Max in mask is 1.0\n",
            "Max in mask is 1.0\n",
            "Max in mask is 1.0\n",
            "Max in mask is 1.0\n",
            "Max in mask is 1.0\n",
            "Max in mask is 1.0\n",
            "Max in mask is 1.0\n",
            "Max in mask is 1.0\n",
            "Max in mask is 1.0\n",
            "Max in mask is 1.0\n",
            "Max in mask is 1.0\n",
            "Max in mask is 1.0\n",
            "Max in mask is 1.0\n",
            "Max in mask is 1.0\n",
            "Max in mask is 1.0\n",
            "Max in mask is 1.0\n",
            "Max in mask is 1.0\n",
            "Max in mask is 1.0\n",
            "Max in mask is 1.0\n",
            "Max in mask is 1.0\n",
            "Max in mask is 1.0\n",
            "Max in mask is 1.0\n",
            "Max in mask is 1.0\n",
            "Max in mask is 1.0\n",
            "Max in mask is 1.0\n",
            "Max in mask is 1.0\n",
            "Max in mask is 1.0\n",
            "Max in mask is 1.0\n",
            "Max in mask is 1.0\n",
            "Max in mask is 1.0\n",
            "Max in mask is 1.0\n",
            "Max in mask is 1.0\n",
            "Max in mask is 1.0\n",
            "Max in mask is 1.0\n",
            "Max in mask is 1.0\n",
            "Max in mask is 1.0\n",
            "Max in mask is 1.0\n",
            "Max in mask is 1.0\n",
            "Max in mask is 2.0\n",
            "Max in mask is 2.0\n",
            "Max in mask is 2.0\n",
            "Max in mask is 2.0\n",
            "Max in mask is 2.0\n",
            "Max in mask is 2.0\n",
            "Max in mask is 2.0\n",
            "Max in mask is 2.0\n",
            "Max in mask is 2.0\n",
            "Max in mask is 2.0\n",
            "Max in mask is 2.0\n",
            "Max in mask is 2.0\n",
            "Max in mask is 2.0\n",
            "Max in mask is 2.0\n",
            "Max in mask is 2.0\n",
            "Max in mask is 1.0\n",
            "Max in mask is 1.0\n",
            "Max in mask is 1.0\n",
            "Max in mask is 1.0\n",
            "Max in mask is 1.0\n",
            "Max in mask is 1.0\n",
            "Max in mask is 1.0\n",
            "Max in mask is 1.0\n",
            "Max in mask is 1.0\n",
            "Max in mask is 1.0\n",
            "Max in mask is 2.0\n",
            "Max in mask is 1.0\n",
            "Max in mask is 1.0\n",
            "Max in mask is 1.0\n",
            "Max in mask is 1.0\n",
            "Max in mask is 1.0\n",
            "Max in mask is 1.0\n",
            "Max in mask is 1.0\n",
            "Max in mask is 1.0\n",
            "Max in mask is 2.0\n",
            "Max in mask is 2.0\n",
            "Max in mask is 2.0\n",
            "Max in mask is 2.0\n",
            "Max in mask is 2.0\n",
            "Max in mask is 2.0\n",
            "Max in mask is 1.0\n",
            "Max in mask is 2.0\n",
            "Max in mask is 2.0\n",
            "Max in mask is 2.0\n",
            "Max in mask is 1.0\n",
            "./FLAIRs/Nifti/0019\n",
            "MPRAGE\n",
            "Gad\n",
            "Lesion\n",
            "Brain\n",
            "1432424brain voxels\n",
            "(256, 256, 160)\n",
            "Max in mask is 1.0\n",
            "Max in mask is 1.0\n",
            "Max in mask is 1.0\n",
            "Max in mask is 1.0\n",
            "Max in mask is 1.0\n",
            "Max in mask is 1.0\n",
            "Max in mask is 1.0\n",
            "Max in mask is 1.0\n",
            "Max in mask is 1.0\n",
            "Max in mask is 1.0\n",
            "Max in mask is 1.0\n",
            "Max in mask is 1.0\n",
            "Max in mask is 1.0\n",
            "Max in mask is 1.0\n",
            "Max in mask is 1.0\n",
            "Max in mask is 1.0\n",
            "Max in mask is 1.0\n",
            "Max in mask is 1.0\n",
            "Max in mask is 1.0\n",
            "Max in mask is 1.0\n",
            "Max in mask is 1.0\n",
            "Max in mask is 1.0\n",
            "Max in mask is 1.0\n",
            "Max in mask is 1.0\n",
            "Max in mask is 1.0\n",
            "Max in mask is 1.0\n",
            "Max in mask is 1.0\n",
            "Max in mask is 1.0\n",
            "Max in mask is 1.0\n",
            "Max in mask is 1.0\n",
            "Max in mask is 1.0\n",
            "Max in mask is 1.0\n",
            "Max in mask is 1.0\n",
            "Max in mask is 1.0\n",
            "Max in mask is 1.0\n",
            "Max in mask is 1.0\n",
            "Max in mask is 1.0\n",
            "Max in mask is 1.0\n",
            "Max in mask is 1.0\n",
            "Max in mask is 1.0\n",
            "Max in mask is 1.0\n",
            "Max in mask is 1.0\n",
            "Max in mask is 1.0\n",
            "Max in mask is 1.0\n",
            "Max in mask is 1.0\n",
            "Max in mask is 1.0\n",
            "Max in mask is 1.0\n",
            "Max in mask is 1.0\n",
            "./FLAIRs/Nifti/0020\n",
            "MPRAGE\n",
            "Gad\n",
            "Lesion\n",
            "Brain\n",
            "1597752brain voxels\n",
            "(256, 256, 128)\n",
            "Max in mask is 1.0\n",
            "Max in mask is 1.0\n",
            "Max in mask is 1.0\n",
            "Max in mask is 1.0\n",
            "Max in mask is 1.0\n",
            "Max in mask is 1.0\n",
            "Max in mask is 1.0\n",
            "Max in mask is 1.0\n",
            "Max in mask is 1.0\n",
            "Max in mask is 1.0\n",
            "Max in mask is 1.0\n",
            "Max in mask is 1.0\n",
            "Max in mask is 1.0\n",
            "Max in mask is 1.0\n",
            "Max in mask is 1.0\n",
            "Max in mask is 1.0\n",
            "Max in mask is 1.0\n",
            "Max in mask is 1.0\n",
            "Max in mask is 1.0\n",
            "Max in mask is 1.0\n",
            "Max in mask is 1.0\n",
            "Max in mask is 1.0\n",
            "Max in mask is 1.0\n",
            "Max in mask is 1.0\n",
            "Max in mask is 1.0\n",
            "Max in mask is 1.0\n",
            "Max in mask is 1.0\n",
            "./FLAIRs/Nifti/0021\n",
            "MPRAGE\n",
            "Gad\n",
            "Lesion\n",
            "Brain\n",
            "1584193brain voxels\n",
            "(256, 256, 160)\n",
            "Max in mask is 1.0\n",
            "Max in mask is 1.0\n",
            "Max in mask is 1.0\n",
            "Max in mask is 1.0\n",
            "Max in mask is 1.0\n",
            "Max in mask is 1.0\n",
            "Max in mask is 1.0\n",
            "Max in mask is 1.0\n",
            "Max in mask is 1.0\n",
            "Max in mask is 1.0\n",
            "Max in mask is 1.0\n",
            "Max in mask is 1.0\n",
            "Max in mask is 1.0\n",
            "Max in mask is 1.0\n",
            "Max in mask is 1.0\n",
            "Max in mask is 1.0\n",
            "Max in mask is 1.0\n",
            "Max in mask is 1.0\n",
            "Max in mask is 1.0\n",
            "Max in mask is 1.0\n",
            "Max in mask is 1.0\n",
            "Max in mask is 1.0\n",
            "Max in mask is 1.0\n",
            "Max in mask is 1.0\n",
            "Max in mask is 1.0\n",
            "Max in mask is 1.0\n",
            "Max in mask is 1.0\n",
            "Max in mask is 1.0\n",
            "Max in mask is 1.0\n",
            "Max in mask is 1.0\n",
            "Max in mask is 1.0\n",
            "Max in mask is 1.0\n",
            "Max in mask is 1.0\n",
            "Max in mask is 1.0\n",
            "Max in mask is 1.0\n",
            "Max in mask is 1.0\n",
            "Max in mask is 1.0\n",
            "Max in mask is 1.0\n",
            "Max in mask is 1.0\n",
            "Max in mask is 1.0\n",
            "Max in mask is 1.0\n",
            "Max in mask is 1.0\n",
            "Max in mask is 1.0\n",
            "Max in mask is 1.0\n",
            "Max in mask is 1.0\n",
            "Max in mask is 1.0\n",
            "Max in mask is 1.0\n",
            "Max in mask is 1.0\n",
            "Max in mask is 1.0\n",
            "Max in mask is 1.0\n",
            "./FLAIRs/Nifti/0022\n",
            "MPRAGE\n",
            "Gad\n",
            "Lesion\n",
            "Brain\n",
            "1494075brain voxels\n",
            "(256, 256, 164)\n",
            "Max in mask is 1.0\n",
            "Max in mask is 1.0\n",
            "Max in mask is 1.0\n",
            "Max in mask is 1.0\n",
            "Max in mask is 1.0\n",
            "Max in mask is 1.0\n",
            "Max in mask is 1.0\n",
            "Max in mask is 1.0\n",
            "Max in mask is 1.0\n",
            "Max in mask is 1.0\n",
            "Max in mask is 1.0\n",
            "Max in mask is 1.0\n",
            "Max in mask is 1.0\n",
            "Max in mask is 1.0\n",
            "Max in mask is 1.0\n",
            "Max in mask is 1.0\n",
            "Max in mask is 1.0\n",
            "Max in mask is 1.0\n",
            "Max in mask is 1.0\n",
            "Max in mask is 1.0\n",
            "Max in mask is 1.0\n",
            "Max in mask is 1.0\n",
            "Max in mask is 1.0\n",
            "Max in mask is 1.0\n",
            "Max in mask is 1.0\n",
            "Max in mask is 1.0\n",
            "Max in mask is 1.0\n",
            "Max in mask is 1.0\n",
            "Max in mask is 1.0\n",
            "Max in mask is 1.0\n",
            "Max in mask is 1.0\n",
            "Max in mask is 1.0\n",
            "Max in mask is 1.0\n",
            "Max in mask is 1.0\n",
            "Max in mask is 1.0\n",
            "Max in mask is 1.0\n",
            "Max in mask is 1.0\n",
            "Max in mask is 1.0\n",
            "Max in mask is 1.0\n",
            "Max in mask is 1.0\n",
            "Max in mask is 1.0\n",
            "Max in mask is 1.0\n",
            "Max in mask is 1.0\n",
            "Max in mask is 1.0\n",
            "Max in mask is 1.0\n",
            "Max in mask is 1.0\n",
            "Max in mask is 1.0\n",
            "Max in mask is 2.0\n",
            "Max in mask is 2.0\n",
            "Max in mask is 2.0\n",
            "Max in mask is 2.0\n",
            "Max in mask is 2.0\n",
            "Max in mask is 2.0\n",
            "Max in mask is 2.0\n",
            "Max in mask is 2.0\n",
            "Max in mask is 2.0\n",
            "Max in mask is 2.0\n",
            "Max in mask is 2.0\n",
            "Max in mask is 2.0\n",
            "Max in mask is 2.0\n",
            "Max in mask is 2.0\n",
            "Max in mask is 2.0\n",
            "Max in mask is 1.0\n",
            "Max in mask is 2.0\n",
            "Max in mask is 2.0\n",
            "Max in mask is 2.0\n",
            "Max in mask is 2.0\n",
            "Max in mask is 2.0\n",
            "Max in mask is 2.0\n",
            "Max in mask is 2.0\n",
            "Max in mask is 2.0\n",
            "Max in mask is 2.0\n",
            "Max in mask is 2.0\n",
            "Max in mask is 2.0\n",
            "Max in mask is 2.0\n",
            "Max in mask is 2.0\n",
            "Max in mask is 2.0\n",
            "Max in mask is 2.0\n",
            "Max in mask is 2.0\n",
            "Max in mask is 2.0\n",
            "Max in mask is 2.0\n",
            "Max in mask is 2.0\n",
            "Max in mask is 2.0\n",
            "Max in mask is 2.0\n",
            "Max in mask is 2.0\n",
            "Max in mask is 2.0\n",
            "Max in mask is 2.0\n",
            "Max in mask is 2.0\n",
            "Max in mask is 2.0\n",
            "Max in mask is 2.0\n",
            "Max in mask is 2.0\n",
            "Max in mask is 2.0\n",
            "Max in mask is 2.0\n",
            "Max in mask is 2.0\n",
            "Max in mask is 2.0\n",
            "Max in mask is 2.0\n",
            "./FLAIRs/Nifti/0023\n",
            "MPRAGE\n",
            "./FLAIRs/Nifti/0024\n",
            "MPRAGE\n"
          ],
          "name": "stdout"
        }
      ]
    },
    {
      "cell_type": "markdown",
      "metadata": {
        "id": "u7B3vyGpi5aC",
        "colab_type": "text"
      },
      "source": [
        "First we need our filenames"
      ]
    },
    {
      "cell_type": "code",
      "metadata": {
        "id": "ji478QuSi5aD",
        "colab_type": "code",
        "colab": {
          "base_uri": "https://localhost:8080/",
          "height": 54
        },
        "outputId": "4827d8fd-5bc0-41dc-f387-20688fb732fb"
      },
      "source": [
        "fnames = get_image_files(img_path)\n",
        "lbl_names = get_image_files(lbl_path)\n",
        "print (fnames)"
      ],
      "execution_count": 154,
      "outputs": [
        {
          "output_type": "stream",
          "text": [
            "(#1026) [Path('images/0014-0045-MRI.png'),Path('images/0019-0106-MRI.png'),Path('images/0006-0057-MRI.png'),Path('images/0003-0103-MRI.png'),Path('images/0022-0091-MRI.png'),Path('images/0014-0116-MRI.png'),Path('images/0012-0133-MRI.png'),Path('images/0008-0104-MRI.png'),Path('images/0021-0080-MRI.png'),Path('images/0021-0103-MRI.png')...]\n"
          ],
          "name": "stdout"
        }
      ]
    },
    {
      "cell_type": "markdown",
      "metadata": {
        "id": "_xvMsAAyi5aF",
        "colab_type": "text"
      },
      "source": [
        "And now let's work with one of them"
      ]
    },
    {
      "cell_type": "code",
      "metadata": {
        "id": "NNhRFiGri5aF",
        "colab_type": "code",
        "outputId": "c38ee924-0c33-4182-bf7d-5fb47e2deabe",
        "colab": {
          "base_uri": "https://localhost:8080/",
          "height": 320
        }
      },
      "source": [
        "img_fn = fnames[48]\n",
        "img = PILImage.create(img_fn)\n",
        "img.show(figsize=(5,5))"
      ],
      "execution_count": 155,
      "outputs": [
        {
          "output_type": "execute_result",
          "data": {
            "text/plain": [
              "<matplotlib.axes._subplots.AxesSubplot at 0x7fd94e55da90>"
            ]
          },
          "metadata": {
            "tags": []
          },
          "execution_count": 155
        },
        {
          "output_type": "display_data",
          "data": {
            "image/png": "[encoded data removed]",
            "text/plain": [
              "<Figure size 360x360 with 1 Axes>"
            ]
          },
          "metadata": {
            "tags": [],
            "needs_background": "light"
          }
        }
      ]
    },
    {
      "cell_type": "markdown",
      "metadata": {
        "id": "X17p5hzFi5aL",
        "colab_type": "text"
      },
      "source": [
        "Our masks are of type `PILMask` and we will make our gradient percentage (alpha) equal to 1 as we are not overlaying this on anything yet"
      ]
    },
    {
      "cell_type": "code",
      "metadata": {
        "id": "yuTyw-_j23gB",
        "colab_type": "code",
        "colab": {}
      },
      "source": [
        "def get_msk(img_name):\n",
        "    # first replace the path for images with labels\n",
        "    p = str(img_name).replace('images', 'labels')\n",
        "    # now replace the MRI with mask part\n",
        "    p = p.replace('MRI', 'Mask')\n",
        "    return p"
      ],
      "execution_count": 0,
      "outputs": []
    },
    {
      "cell_type": "code",
      "metadata": {
        "id": "5w05XlKki5aM",
        "colab_type": "code",
        "outputId": "f6440f6a-dc35-4fd9-c90e-8e337c1aa7bb",
        "colab": {
          "base_uri": "https://localhost:8080/",
          "height": 320
        }
      },
      "source": [
        "msk = PILMask.create(get_msk(img_fn))\n",
        "msk.show(figsize=(5,5), alpha=1)"
      ],
      "execution_count": 157,
      "outputs": [
        {
          "output_type": "execute_result",
          "data": {
            "text/plain": [
              "<matplotlib.axes._subplots.AxesSubplot at 0x7fd94efad0b8>"
            ]
          },
          "metadata": {
            "tags": []
          },
          "execution_count": 157
        },
        {
          "output_type": "display_data",
          "data": {
            "image/png": "[encoded data removed]",
            "text/plain": [
              "<Figure size 360x360 with 1 Axes>"
            ]
          },
          "metadata": {
            "tags": [],
            "needs_background": "light"
          }
        }
      ]
    },
    {
      "cell_type": "markdown",
      "metadata": {
        "id": "5ozCajdQi5aO",
        "colab_type": "text"
      },
      "source": [
        "Now if we look at what our mask actually is, we can see it's a giant array of pixels:"
      ]
    },
    {
      "cell_type": "code",
      "metadata": {
        "id": "KIP-BAh8i5aP",
        "colab_type": "code",
        "outputId": "3f4044ee-7669-4c08-f1db-09baf736e4c8",
        "colab": {
          "base_uri": "https://localhost:8080/",
          "height": 136
        }
      },
      "source": [
        "tensor(msk)"
      ],
      "execution_count": 125,
      "outputs": [
        {
          "output_type": "execute_result",
          "data": {
            "text/plain": [
              "tensor([[0, 0, 0,  ..., 0, 0, 0],\n",
              "        [0, 0, 0,  ..., 0, 0, 0],\n",
              "        [0, 0, 0,  ..., 0, 0, 0],\n",
              "        ...,\n",
              "        [0, 0, 0,  ..., 0, 0, 0],\n",
              "        [0, 0, 0,  ..., 0, 0, 0],\n",
              "        [0, 0, 0,  ..., 0, 0, 0]], dtype=torch.uint8)"
            ]
          },
          "metadata": {
            "tags": []
          },
          "execution_count": 125
        }
      ]
    },
    {
      "cell_type": "markdown",
      "metadata": {
        "id": "ixUP7f-ti5aQ",
        "colab_type": "text"
      },
      "source": [
        "Where each one represents a class that we can find in `codes.txt`. Let's make a vocabulary with it"
      ]
    },
    {
      "cell_type": "code",
      "metadata": {
        "id": "CKwroWQHi5aR",
        "colab_type": "code",
        "colab": {}
      },
      "source": [
        "#codes = np.loadtxt(path/'codes.txt', dtype=str); codes\n",
        "codes = ['BG', 'Brain', 'Les', 'Enh']\n"
      ],
      "execution_count": 0,
      "outputs": []
    },
    {
      "cell_type": "markdown",
      "metadata": {
        "id": "1Jgv3e_ri5aW",
        "colab_type": "text"
      },
      "source": [
        "# Transfer Learning between DataSets\n",
        "\n",
        "Jeremy Howard at Fast.AI popularized the idea of image resizing:\n",
        "* Train on smaller sized images\n",
        "* Eventually get larger and larger\n",
        "* Transfer Learning loop"
      ]
    },
    {
      "cell_type": "markdown",
      "metadata": {
        "id": "DKHOCC_Ti5aW",
        "colab_type": "text"
      },
      "source": [
        "This first round we will train at half the image size"
      ]
    },
    {
      "cell_type": "code",
      "metadata": {
        "id": "4v6gYXmXi5aX",
        "colab_type": "code",
        "outputId": "8a296cb8-beb0-45dc-9362-e72fa8d4f25e",
        "colab": {
          "base_uri": "https://localhost:8080/",
          "height": 34
        }
      },
      "source": [
        "sz = msk.shape; sz"
      ],
      "execution_count": 127,
      "outputs": [
        {
          "output_type": "execute_result",
          "data": {
            "text/plain": [
              "(256, 256)"
            ]
          },
          "metadata": {
            "tags": []
          },
          "execution_count": 127
        }
      ]
    },
    {
      "cell_type": "code",
      "metadata": {
        "id": "L2ODdM4ri5aZ",
        "colab_type": "code",
        "outputId": "47d59d2e-325b-4527-8ca9-491587362a6e",
        "colab": {
          "base_uri": "https://localhost:8080/",
          "height": 34
        }
      },
      "source": [
        "half = tuple(int(x/2) for x in sz); half"
      ],
      "execution_count": 128,
      "outputs": [
        {
          "output_type": "execute_result",
          "data": {
            "text/plain": [
              "(128, 128)"
            ]
          },
          "metadata": {
            "tags": []
          },
          "execution_count": 128
        }
      ]
    },
    {
      "cell_type": "code",
      "metadata": {
        "id": "LglKEnB9i5ab",
        "colab_type": "code",
        "colab": {}
      },
      "source": [
        "MSLesion = DataBlock(blocks=(ImageBlock, MaskBlock(codes)),\n",
        "                   get_items=get_image_files,\n",
        "#                   splitter=FileSplitter(path/'valid.txt'),  for now, don't worry about splitting by subject\n",
        "                   get_y=get_msk,\n",
        "                   batch_tfms=[*aug_transforms(size=half), \n",
        "                   Normalize.from_stats(*imagenet_stats)])"
      ],
      "execution_count": 0,
      "outputs": []
    },
    {
      "cell_type": "code",
      "metadata": {
        "id": "4X9eiH3Gi5ad",
        "colab_type": "code",
        "colab": {}
      },
      "source": [
        "dls = MSLesion.dataloaders('./images', bs=8)"
      ],
      "execution_count": 0,
      "outputs": []
    },
    {
      "cell_type": "markdown",
      "metadata": {
        "id": "QYe7KwNEi5af",
        "colab_type": "text"
      },
      "source": [
        "Let's look at a batch, and look at all the classes between codes 1 and 30 (ignoring `Animal` and `Wall`)"
      ]
    },
    {
      "cell_type": "code",
      "metadata": {
        "id": "t3NW5Bt4i5af",
        "colab_type": "code",
        "outputId": "0eadbe06-84c4-46dc-f055-a3edfed0fee0",
        "colab": {
          "base_uri": "https://localhost:8080/",
          "height": 574
        }
      },
      "source": [
        "dls.show_batch(max_n=4, vmin=1, vmax=30, figsize=(14,10))"
      ],
      "execution_count": 131,
      "outputs": [
        {
          "output_type": "display_data",
          "data": {
            "image/png": "[encoded data removed]",
            "text/plain": [
              "<Figure size 1008x720 with 4 Axes>"
            ]
          },
          "metadata": {
            "tags": [],
            "needs_background": "light"
          }
        }
      ]
    },
    {
      "cell_type": "markdown",
      "metadata": {
        "id": "PxGKlAlti5ai",
        "colab_type": "text"
      },
      "source": [
        "Lastly let's make our vocabulary a part of our `DataLoaders`, as our loss function needs to deal with the `Void` label"
      ]
    },
    {
      "cell_type": "code",
      "metadata": {
        "id": "APzKCrkUi5ai",
        "colab_type": "code",
        "colab": {}
      },
      "source": [
        "dls.vocab = codes"
      ],
      "execution_count": 0,
      "outputs": []
    },
    {
      "cell_type": "markdown",
      "metadata": {
        "id": "KD25pT3ji5ak",
        "colab_type": "text"
      },
      "source": [
        "Now we need a methodology for grabbing that particular code from our output of numbers. Let's make everything into a dictionary"
      ]
    },
    {
      "cell_type": "code",
      "metadata": {
        "id": "v03IYrnEi5ak",
        "colab_type": "code",
        "colab": {}
      },
      "source": [
        "name2id = {v:k for k,v in enumerate(codes)}"
      ],
      "execution_count": 0,
      "outputs": []
    },
    {
      "cell_type": "code",
      "metadata": {
        "id": "_Xihp4jbi5am",
        "colab_type": "code",
        "outputId": "60e06726-51ca-4ea6-8835-0b0fbaa9658a",
        "colab": {
          "base_uri": "https://localhost:8080/",
          "height": 34
        }
      },
      "source": [
        "name2id"
      ],
      "execution_count": 96,
      "outputs": [
        {
          "output_type": "execute_result",
          "data": {
            "text/plain": [
              "{'BG': 0, 'Brain': 1, 'Enh': 3, 'Les': 2}"
            ]
          },
          "metadata": {
            "tags": []
          },
          "execution_count": 96
        }
      ]
    },
    {
      "cell_type": "markdown",
      "metadata": {
        "id": "qhYNWnHXi5ap",
        "colab_type": "text"
      },
      "source": [
        "Awesome! Let's make an accuracy function"
      ]
    },
    {
      "cell_type": "code",
      "metadata": {
        "id": "FkD1LgrNi5aq",
        "colab_type": "code",
        "colab": {}
      },
      "source": [
        "void_code = name2id['Les']"
      ],
      "execution_count": 0,
      "outputs": []
    },
    {
      "cell_type": "markdown",
      "metadata": {
        "id": "golmQkoKi5at",
        "colab_type": "text"
      },
      "source": [
        "For segmentation, we want to squeeze all the outputted values to have it as a matrix of digits for our segmentation mask. From there, we want to match their argmax to the target's mask for each pixel and take the average"
      ]
    },
    {
      "cell_type": "code",
      "metadata": {
        "id": "7tjhQbUDi5at",
        "colab_type": "code",
        "colab": {}
      },
      "source": [
        "def acc_MSLesion(inp, targ):\n",
        "  targ = targ.squeeze(1)\n",
        "  mask = targ != void_code\n",
        "  return (inp.argmax(dim=1)[mask]==targ[mask]).float().mean()"
      ],
      "execution_count": 0,
      "outputs": []
    },
    {
      "cell_type": "markdown",
      "metadata": {
        "id": "n5lB5Y0Fi5av",
        "colab_type": "text"
      },
      "source": [
        "# Model\n",
        "\n",
        "## U-Net\n",
        "\n",
        "![](http://deeplearning.net/tutorial/_images/unet.jpg)"
      ]
    },
    {
      "cell_type": "markdown",
      "metadata": {
        "id": "Degsc37oi5av",
        "colab_type": "text"
      },
      "source": [
        "U-Net allows us to look at pixel-wise representations of our images through sizing it down and then blowing it bck up into a high resolution image. The first part we call an \"encoder\" and the second a \"decoder\"\n",
        "\n",
        "On the image, the authors of the UNET paper describe the arrows as \"denotions of different operations\""
      ]
    },
    {
      "cell_type": "markdown",
      "metadata": {
        "id": "I89_YSQ6i5aw",
        "colab_type": "text"
      },
      "source": [
        "We have a special `unet_learner`. Something new is we can pass in a configuration(`unet_config`) where we can declare a few things!\n",
        "\n",
        "* Blur/blur final: avoid checkerboard artifacts\n",
        "* Self attention: A self-attention layer\n",
        "* y_range: Last activations go through a sigmoid for rescaling\n",
        "* Last cross - Cross-connection with the direct model input\n",
        "* Bottle - Bottlenck or not on that cross\n",
        "* Activation function\n",
        "* Norm type"
      ]
    },
    {
      "cell_type": "markdown",
      "metadata": {
        "id": "jLjrXbWli5aw",
        "colab_type": "text"
      },
      "source": [
        "Let's make a `unet_learner` that uses some of the new state of the art techniques. Specifically:\n",
        "\n",
        "* Self-attention layers: `self_attention = True`\n",
        "* Mish activation function: `act_cls = Mish`"
      ]
    },
    {
      "cell_type": "code",
      "metadata": {
        "id": "q-ZIM_bKi5aw",
        "colab_type": "code",
        "colab": {}
      },
      "source": [
        "config = unet_config(self_attention=True, act_cls=Mish)"
      ],
      "execution_count": 0,
      "outputs": []
    },
    {
      "cell_type": "markdown",
      "metadata": {
        "id": "VIv2NMsUi5ay",
        "colab_type": "text"
      },
      "source": [
        "Along with this we will use the `Ranger` as optimizer function."
      ]
    },
    {
      "cell_type": "code",
      "metadata": {
        "id": "w-70h22Mi5ay",
        "colab_type": "code",
        "colab": {}
      },
      "source": [
        "opt = ranger"
      ],
      "execution_count": 0,
      "outputs": []
    },
    {
      "cell_type": "code",
      "metadata": {
        "id": "8ouR68tbi5a0",
        "colab_type": "code",
        "colab": {}
      },
      "source": [
        "learn = unet_learner(dls, resnet34, metrics=acc_MSLesion, config=config, opt_func=opt)"
      ],
      "execution_count": 0,
      "outputs": []
    },
    {
      "cell_type": "code",
      "metadata": {
        "id": "IgldjipFi5a2",
        "colab_type": "code",
        "outputId": "9901468d-8107-4413-8347-cfe1a857bcc6",
        "colab": {
          "base_uri": "https://localhost:8080/",
          "height": 1000
        }
      },
      "source": [
        "learn.summary()"
      ],
      "execution_count": 102,
      "outputs": [
        {
          "output_type": "execute_result",
          "data": {
            "text/plain": [
              "DynamicUnet (Input shape: ['8 x 3 x 128 x 128'])\n",
              "================================================================\n",
              "Layer (type)         Output Shape         Param #    Trainable \n",
              "================================================================\n",
              "Conv2d               8 x 64 x 64 x 64     9,408      False     \n",
              "________________________________________________________________\n",
              "BatchNorm2d          8 x 64 x 64 x 64     128        True      \n",
              "________________________________________________________________\n",
              "ReLU                 8 x 64 x 64 x 64     0          False     \n",
              "________________________________________________________________\n",
              "MaxPool2d            8 x 64 x 32 x 32     0          False     \n",
              "________________________________________________________________\n",
              "Conv2d               8 x 64 x 32 x 32     36,864     False     \n",
              "________________________________________________________________\n",
              "BatchNorm2d          8 x 64 x 32 x 32     128        True      \n",
              "________________________________________________________________\n",
              "ReLU                 8 x 64 x 32 x 32     0          False     \n",
              "________________________________________________________________\n",
              "Conv2d               8 x 64 x 32 x 32     36,864     False     \n",
              "________________________________________________________________\n",
              "BatchNorm2d          8 x 64 x 32 x 32     128        True      \n",
              "________________________________________________________________\n",
              "Conv2d               8 x 64 x 32 x 32     36,864     False     \n",
              "________________________________________________________________\n",
              "BatchNorm2d          8 x 64 x 32 x 32     128        True      \n",
              "________________________________________________________________\n",
              "ReLU                 8 x 64 x 32 x 32     0          False     \n",
              "________________________________________________________________\n",
              "Conv2d               8 x 64 x 32 x 32     36,864     False     \n",
              "________________________________________________________________\n",
              "BatchNorm2d          8 x 64 x 32 x 32     128        True      \n",
              "________________________________________________________________\n",
              "Conv2d               8 x 64 x 32 x 32     36,864     False     \n",
              "________________________________________________________________\n",
              "BatchNorm2d          8 x 64 x 32 x 32     128        True      \n",
              "________________________________________________________________\n",
              "ReLU                 8 x 64 x 32 x 32     0          False     \n",
              "________________________________________________________________\n",
              "Conv2d               8 x 64 x 32 x 32     36,864     False     \n",
              "________________________________________________________________\n",
              "BatchNorm2d          8 x 64 x 32 x 32     128        True      \n",
              "________________________________________________________________\n",
              "Conv2d               8 x 128 x 16 x 16    73,728     False     \n",
              "________________________________________________________________\n",
              "BatchNorm2d          8 x 128 x 16 x 16    256        True      \n",
              "________________________________________________________________\n",
              "ReLU                 8 x 128 x 16 x 16    0          False     \n",
              "________________________________________________________________\n",
              "Conv2d               8 x 128 x 16 x 16    147,456    False     \n",
              "________________________________________________________________\n",
              "BatchNorm2d          8 x 128 x 16 x 16    256        True      \n",
              "________________________________________________________________\n",
              "Conv2d               8 x 128 x 16 x 16    8,192      False     \n",
              "________________________________________________________________\n",
              "BatchNorm2d          8 x 128 x 16 x 16    256        True      \n",
              "________________________________________________________________\n",
              "Conv2d               8 x 128 x 16 x 16    147,456    False     \n",
              "________________________________________________________________\n",
              "BatchNorm2d          8 x 128 x 16 x 16    256        True      \n",
              "________________________________________________________________\n",
              "ReLU                 8 x 128 x 16 x 16    0          False     \n",
              "________________________________________________________________\n",
              "Conv2d               8 x 128 x 16 x 16    147,456    False     \n",
              "________________________________________________________________\n",
              "BatchNorm2d          8 x 128 x 16 x 16    256        True      \n",
              "________________________________________________________________\n",
              "Conv2d               8 x 128 x 16 x 16    147,456    False     \n",
              "________________________________________________________________\n",
              "BatchNorm2d          8 x 128 x 16 x 16    256        True      \n",
              "________________________________________________________________\n",
              "ReLU                 8 x 128 x 16 x 16    0          False     \n",
              "________________________________________________________________\n",
              "Conv2d               8 x 128 x 16 x 16    147,456    False     \n",
              "________________________________________________________________\n",
              "BatchNorm2d          8 x 128 x 16 x 16    256        True      \n",
              "________________________________________________________________\n",
              "Conv2d               8 x 128 x 16 x 16    147,456    False     \n",
              "________________________________________________________________\n",
              "BatchNorm2d          8 x 128 x 16 x 16    256        True      \n",
              "________________________________________________________________\n",
              "ReLU                 8 x 128 x 16 x 16    0          False     \n",
              "________________________________________________________________\n",
              "Conv2d               8 x 128 x 16 x 16    147,456    False     \n",
              "________________________________________________________________\n",
              "BatchNorm2d          8 x 128 x 16 x 16    256        True      \n",
              "________________________________________________________________\n",
              "Conv2d               8 x 256 x 8 x 8      294,912    False     \n",
              "________________________________________________________________\n",
              "BatchNorm2d          8 x 256 x 8 x 8      512        True      \n",
              "________________________________________________________________\n",
              "ReLU                 8 x 256 x 8 x 8      0          False     \n",
              "________________________________________________________________\n",
              "Conv2d               8 x 256 x 8 x 8      589,824    False     \n",
              "________________________________________________________________\n",
              "BatchNorm2d          8 x 256 x 8 x 8      512        True      \n",
              "________________________________________________________________\n",
              "Conv2d               8 x 256 x 8 x 8      32,768     False     \n",
              "________________________________________________________________\n",
              "BatchNorm2d          8 x 256 x 8 x 8      512        True      \n",
              "________________________________________________________________\n",
              "Conv2d               8 x 256 x 8 x 8      589,824    False     \n",
              "________________________________________________________________\n",
              "BatchNorm2d          8 x 256 x 8 x 8      512        True      \n",
              "________________________________________________________________\n",
              "ReLU                 8 x 256 x 8 x 8      0          False     \n",
              "________________________________________________________________\n",
              "Conv2d               8 x 256 x 8 x 8      589,824    False     \n",
              "________________________________________________________________\n",
              "BatchNorm2d          8 x 256 x 8 x 8      512        True      \n",
              "________________________________________________________________\n",
              "Conv2d               8 x 256 x 8 x 8      589,824    False     \n",
              "________________________________________________________________\n",
              "BatchNorm2d          8 x 256 x 8 x 8      512        True      \n",
              "________________________________________________________________\n",
              "ReLU                 8 x 256 x 8 x 8      0          False     \n",
              "________________________________________________________________\n",
              "Conv2d               8 x 256 x 8 x 8      589,824    False     \n",
              "________________________________________________________________\n",
              "BatchNorm2d          8 x 256 x 8 x 8      512        True      \n",
              "________________________________________________________________\n",
              "Conv2d               8 x 256 x 8 x 8      589,824    False     \n",
              "________________________________________________________________\n",
              "BatchNorm2d          8 x 256 x 8 x 8      512        True      \n",
              "________________________________________________________________\n",
              "ReLU                 8 x 256 x 8 x 8      0          False     \n",
              "________________________________________________________________\n",
              "Conv2d               8 x 256 x 8 x 8      589,824    False     \n",
              "________________________________________________________________\n",
              "BatchNorm2d          8 x 256 x 8 x 8      512        True      \n",
              "________________________________________________________________\n",
              "Conv2d               8 x 256 x 8 x 8      589,824    False     \n",
              "________________________________________________________________\n",
              "BatchNorm2d          8 x 256 x 8 x 8      512        True      \n",
              "________________________________________________________________\n",
              "ReLU                 8 x 256 x 8 x 8      0          False     \n",
              "________________________________________________________________\n",
              "Conv2d               8 x 256 x 8 x 8      589,824    False     \n",
              "________________________________________________________________\n",
              "BatchNorm2d          8 x 256 x 8 x 8      512        True      \n",
              "________________________________________________________________\n",
              "Conv2d               8 x 256 x 8 x 8      589,824    False     \n",
              "________________________________________________________________\n",
              "BatchNorm2d          8 x 256 x 8 x 8      512        True      \n",
              "________________________________________________________________\n",
              "ReLU                 8 x 256 x 8 x 8      0          False     \n",
              "________________________________________________________________\n",
              "Conv2d               8 x 256 x 8 x 8      589,824    False     \n",
              "________________________________________________________________\n",
              "BatchNorm2d          8 x 256 x 8 x 8      512        True      \n",
              "________________________________________________________________\n",
              "Conv2d               8 x 512 x 4 x 4      1,179,648  False     \n",
              "________________________________________________________________\n",
              "BatchNorm2d          8 x 512 x 4 x 4      1,024      True      \n",
              "________________________________________________________________\n",
              "ReLU                 8 x 512 x 4 x 4      0          False     \n",
              "________________________________________________________________\n",
              "Conv2d               8 x 512 x 4 x 4      2,359,296  False     \n",
              "________________________________________________________________\n",
              "BatchNorm2d          8 x 512 x 4 x 4      1,024      True      \n",
              "________________________________________________________________\n",
              "Conv2d               8 x 512 x 4 x 4      131,072    False     \n",
              "________________________________________________________________\n",
              "BatchNorm2d          8 x 512 x 4 x 4      1,024      True      \n",
              "________________________________________________________________\n",
              "Conv2d               8 x 512 x 4 x 4      2,359,296  False     \n",
              "________________________________________________________________\n",
              "BatchNorm2d          8 x 512 x 4 x 4      1,024      True      \n",
              "________________________________________________________________\n",
              "ReLU                 8 x 512 x 4 x 4      0          False     \n",
              "________________________________________________________________\n",
              "Conv2d               8 x 512 x 4 x 4      2,359,296  False     \n",
              "________________________________________________________________\n",
              "BatchNorm2d          8 x 512 x 4 x 4      1,024      True      \n",
              "________________________________________________________________\n",
              "Conv2d               8 x 512 x 4 x 4      2,359,296  False     \n",
              "________________________________________________________________\n",
              "BatchNorm2d          8 x 512 x 4 x 4      1,024      True      \n",
              "________________________________________________________________\n",
              "ReLU                 8 x 512 x 4 x 4      0          False     \n",
              "________________________________________________________________\n",
              "Conv2d               8 x 512 x 4 x 4      2,359,296  False     \n",
              "________________________________________________________________\n",
              "BatchNorm2d          8 x 512 x 4 x 4      1,024      True      \n",
              "________________________________________________________________\n",
              "BatchNorm2d          8 x 512 x 4 x 4      1,024      True      \n",
              "________________________________________________________________\n",
              "ReLU                 8 x 512 x 4 x 4      0          False     \n",
              "________________________________________________________________\n",
              "Conv2d               8 x 1024 x 4 x 4     4,719,616  True      \n",
              "________________________________________________________________\n",
              "Mish                 8 x 1024 x 4 x 4     0          False     \n",
              "________________________________________________________________\n",
              "Conv2d               8 x 512 x 4 x 4      4,719,104  True      \n",
              "________________________________________________________________\n",
              "Mish                 8 x 512 x 4 x 4      0          False     \n",
              "________________________________________________________________\n",
              "Conv2d               8 x 1024 x 4 x 4     525,312    True      \n",
              "________________________________________________________________\n",
              "Mish                 8 x 1024 x 4 x 4     0          False     \n",
              "________________________________________________________________\n",
              "PixelShuffle         8 x 256 x 8 x 8      0          False     \n",
              "________________________________________________________________\n",
              "BatchNorm2d          8 x 256 x 8 x 8      512        True      \n",
              "________________________________________________________________\n",
              "Conv2d               8 x 512 x 8 x 8      2,359,808  True      \n",
              "________________________________________________________________\n",
              "Mish                 8 x 512 x 8 x 8      0          False     \n",
              "________________________________________________________________\n",
              "Conv2d               8 x 512 x 8 x 8      2,359,808  True      \n",
              "________________________________________________________________\n",
              "Mish                 8 x 512 x 8 x 8      0          False     \n",
              "________________________________________________________________\n",
              "Mish                 8 x 512 x 8 x 8      0          False     \n",
              "________________________________________________________________\n",
              "Conv2d               8 x 1024 x 8 x 8     525,312    True      \n",
              "________________________________________________________________\n",
              "Mish                 8 x 1024 x 8 x 8     0          False     \n",
              "________________________________________________________________\n",
              "PixelShuffle         8 x 256 x 16 x 16    0          False     \n",
              "________________________________________________________________\n",
              "BatchNorm2d          8 x 128 x 16 x 16    256        True      \n",
              "________________________________________________________________\n",
              "Conv2d               8 x 384 x 16 x 16    1,327,488  True      \n",
              "________________________________________________________________\n",
              "Mish                 8 x 384 x 16 x 16    0          False     \n",
              "________________________________________________________________\n",
              "Conv2d               8 x 384 x 16 x 16    1,327,488  True      \n",
              "________________________________________________________________\n",
              "Mish                 8 x 384 x 16 x 16    0          False     \n",
              "________________________________________________________________\n",
              "Conv1d               8 x 48 x 256         18,432     True      \n",
              "________________________________________________________________\n",
              "Conv1d               8 x 48 x 256         18,432     True      \n",
              "________________________________________________________________\n",
              "Conv1d               8 x 384 x 256        147,456    True      \n",
              "________________________________________________________________\n",
              "Mish                 8 x 384 x 16 x 16    0          False     \n",
              "________________________________________________________________\n",
              "Conv2d               8 x 768 x 16 x 16    295,680    True      \n",
              "________________________________________________________________\n",
              "Mish                 8 x 768 x 16 x 16    0          False     \n",
              "________________________________________________________________\n",
              "PixelShuffle         8 x 192 x 32 x 32    0          False     \n",
              "________________________________________________________________\n",
              "BatchNorm2d          8 x 64 x 32 x 32     128        True      \n",
              "________________________________________________________________\n",
              "Conv2d               8 x 256 x 32 x 32    590,080    True      \n",
              "________________________________________________________________\n",
              "Mish                 8 x 256 x 32 x 32    0          False     \n",
              "________________________________________________________________\n",
              "Conv2d               8 x 256 x 32 x 32    590,080    True      \n",
              "________________________________________________________________\n",
              "Mish                 8 x 256 x 32 x 32    0          False     \n",
              "________________________________________________________________\n",
              "Mish                 8 x 256 x 32 x 32    0          False     \n",
              "________________________________________________________________\n",
              "Conv2d               8 x 512 x 32 x 32    131,584    True      \n",
              "________________________________________________________________\n",
              "Mish                 8 x 512 x 32 x 32    0          False     \n",
              "________________________________________________________________\n",
              "PixelShuffle         8 x 128 x 64 x 64    0          False     \n",
              "________________________________________________________________\n",
              "BatchNorm2d          8 x 64 x 64 x 64     128        True      \n",
              "________________________________________________________________\n",
              "Conv2d               8 x 96 x 64 x 64     165,984    True      \n",
              "________________________________________________________________\n",
              "Mish                 8 x 96 x 64 x 64     0          False     \n",
              "________________________________________________________________\n",
              "Conv2d               8 x 96 x 64 x 64     83,040     True      \n",
              "________________________________________________________________\n",
              "Mish                 8 x 96 x 64 x 64     0          False     \n",
              "________________________________________________________________\n",
              "Mish                 8 x 192 x 64 x 64    0          False     \n",
              "________________________________________________________________\n",
              "Conv2d               8 x 384 x 64 x 64    37,248     True      \n",
              "________________________________________________________________\n",
              "Mish                 8 x 384 x 64 x 64    0          False     \n",
              "________________________________________________________________\n",
              "PixelShuffle         8 x 96 x 128 x 128   0          False     \n",
              "________________________________________________________________\n",
              "ResizeToOrig         8 x 96 x 128 x 128   0          False     \n",
              "________________________________________________________________\n",
              "MergeLayer           8 x 99 x 128 x 128   0          False     \n",
              "________________________________________________________________\n",
              "Conv2d               8 x 99 x 128 x 128   88,308     True      \n",
              "________________________________________________________________\n",
              "Mish                 8 x 99 x 128 x 128   0          False     \n",
              "________________________________________________________________\n",
              "Conv2d               8 x 99 x 128 x 128   88,308     True      \n",
              "________________________________________________________________\n",
              "Sequential           8 x 99 x 128 x 128   0          False     \n",
              "________________________________________________________________\n",
              "Mish                 8 x 99 x 128 x 128   0          False     \n",
              "________________________________________________________________\n",
              "Conv2d               8 x 4 x 128 x 128    400        True      \n",
              "________________________________________________________________\n",
              "\n",
              "Total params: 41,405,688\n",
              "Total trainable params: 20,138,040\n",
              "Total non-trainable params: 21,267,648\n",
              "\n",
              "Optimizer used: <function ranger at 0x7fd951e8de18>\n",
              "Loss function: FlattenedLoss of CrossEntropyLoss()\n",
              "\n",
              "Model frozen up to parameter group number 2\n",
              "\n",
              "Callbacks:\n",
              "  - TrainEvalCallback\n",
              "  - Recorder\n",
              "  - ProgressCallback"
            ]
          },
          "metadata": {
            "tags": []
          },
          "execution_count": 102
        }
      ]
    },
    {
      "cell_type": "markdown",
      "metadata": {
        "id": "ZisfDECXi5a4",
        "colab_type": "text"
      },
      "source": [
        "If we do a `learn.summary` we can see this blow-up trend, and see that our model came in frozen. Let's find a learning rate"
      ]
    },
    {
      "cell_type": "code",
      "metadata": {
        "id": "Sivcrhgpi5a4",
        "colab_type": "code",
        "outputId": "7e897b9f-7666-4088-992a-34132f76ef7d",
        "colab": {
          "base_uri": "https://localhost:8080/",
          "height": 300
        }
      },
      "source": [
        "learn.lr_find()"
      ],
      "execution_count": 103,
      "outputs": [
        {
          "output_type": "display_data",
          "data": {
            "text/html": [
              ""
            ],
            "text/plain": [
              "<IPython.core.display.HTML object>"
            ]
          },
          "metadata": {
            "tags": []
          }
        },
        {
          "output_type": "execute_result",
          "data": {
            "text/plain": [
              "SuggestedLRs(lr_min=0.001096478197723627, lr_steep=0.00015848931798245758)"
            ]
          },
          "metadata": {
            "tags": []
          },
          "execution_count": 103
        },
        {
          "output_type": "display_data",
          "data": {
            "image/png": "[encoded data removed]",
            "text/plain": [
              "<Figure size 432x288 with 1 Axes>"
            ]
          },
          "metadata": {
            "tags": [],
            "needs_background": "light"
          }
        }
      ]
    },
    {
      "cell_type": "code",
      "metadata": {
        "id": "vLImX9Cai5a6",
        "colab_type": "code",
        "colab": {}
      },
      "source": [
        "lr = 3e-3"
      ],
      "execution_count": 0,
      "outputs": []
    },
    {
      "cell_type": "markdown",
      "metadata": {
        "id": "Ue3Jnh88i5a7",
        "colab_type": "text"
      },
      "source": [
        "With our new optimizer, we will also want to use a different fit function, called `fit_flat_cos`"
      ]
    },
    {
      "cell_type": "code",
      "metadata": {
        "id": "t3sXc5tFi5a7",
        "colab_type": "code",
        "outputId": "bb2000ff-aa80-43cc-feed-458a60826604",
        "colab": {
          "base_uri": "https://localhost:8080/",
          "height": 359
        }
      },
      "source": [
        "learn.fit_flat_cos(10, slice(lr))"
      ],
      "execution_count": 105,
      "outputs": [
        {
          "output_type": "display_data",
          "data": {
            "text/html": [
              "<table border=\"1\" class=\"dataframe\">\n",
              "  <thead>\n",
              "    <tr style=\"text-align: left;\">\n",
              "      <th>epoch</th>\n",
              "      <th>train_loss</th>\n",
              "      <th>valid_loss</th>\n",
              "      <th>acc_MSLesion</th>\n",
              "      <th>time</th>\n",
              "    </tr>\n",
              "  </thead>\n",
              "  <tbody>\n",
              "    <tr>\n",
              "      <td>0</td>\n",
              "      <td>0.006467</td>\n",
              "      <td>0.005624</td>\n",
              "      <td>0.999210</td>\n",
              "      <td>00:44</td>\n",
              "    </tr>\n",
              "    <tr>\n",
              "      <td>1</td>\n",
              "      <td>0.006363</td>\n",
              "      <td>0.005922</td>\n",
              "      <td>0.999210</td>\n",
              "      <td>00:43</td>\n",
              "    </tr>\n",
              "    <tr>\n",
              "      <td>2</td>\n",
              "      <td>0.005958</td>\n",
              "      <td>0.004275</td>\n",
              "      <td>0.999210</td>\n",
              "      <td>00:43</td>\n",
              "    </tr>\n",
              "    <tr>\n",
              "      <td>3</td>\n",
              "      <td>0.004369</td>\n",
              "      <td>0.003959</td>\n",
              "      <td>0.999210</td>\n",
              "      <td>00:43</td>\n",
              "    </tr>\n",
              "    <tr>\n",
              "      <td>4</td>\n",
              "      <td>0.003878</td>\n",
              "      <td>0.003922</td>\n",
              "      <td>0.999210</td>\n",
              "      <td>00:43</td>\n",
              "    </tr>\n",
              "    <tr>\n",
              "      <td>5</td>\n",
              "      <td>0.004572</td>\n",
              "      <td>0.003754</td>\n",
              "      <td>0.999210</td>\n",
              "      <td>00:43</td>\n",
              "    </tr>\n",
              "    <tr>\n",
              "      <td>6</td>\n",
              "      <td>0.003948</td>\n",
              "      <td>0.003429</td>\n",
              "      <td>0.999210</td>\n",
              "      <td>00:43</td>\n",
              "    </tr>\n",
              "    <tr>\n",
              "      <td>7</td>\n",
              "      <td>0.003725</td>\n",
              "      <td>0.003472</td>\n",
              "      <td>0.999210</td>\n",
              "      <td>00:43</td>\n",
              "    </tr>\n",
              "    <tr>\n",
              "      <td>8</td>\n",
              "      <td>0.003181</td>\n",
              "      <td>0.002987</td>\n",
              "      <td>0.999210</td>\n",
              "      <td>00:43</td>\n",
              "    </tr>\n",
              "    <tr>\n",
              "      <td>9</td>\n",
              "      <td>0.003116</td>\n",
              "      <td>0.002899</td>\n",
              "      <td>0.999234</td>\n",
              "      <td>00:43</td>\n",
              "    </tr>\n",
              "  </tbody>\n",
              "</table>"
            ],
            "text/plain": [
              "<IPython.core.display.HTML object>"
            ]
          },
          "metadata": {
            "tags": []
          }
        }
      ]
    },
    {
      "cell_type": "code",
      "metadata": {
        "id": "cU-zwmP8i5a9",
        "colab_type": "code",
        "colab": {}
      },
      "source": [
        "learn.save('stage-1')\n",
        "learn.load('stage-1');"
      ],
      "execution_count": 0,
      "outputs": []
    },
    {
      "cell_type": "code",
      "metadata": {
        "id": "Fa3euKIqi5a_",
        "colab_type": "code",
        "outputId": "6e91e7df-3c80-4e74-965e-b9d5dc2f808f",
        "colab": {
          "base_uri": "https://localhost:8080/",
          "height": 400
        }
      },
      "source": [
        "learn.show_results(max_n=4, figsize=(12,6))"
      ],
      "execution_count": 107,
      "outputs": [
        {
          "output_type": "display_data",
          "data": {
            "text/html": [
              ""
            ],
            "text/plain": [
              "<IPython.core.display.HTML object>"
            ]
          },
          "metadata": {
            "tags": []
          }
        },
        {
          "output_type": "display_data",
          "data": {
            "image/png": "[encoded data removed]",
            "text/plain": [
              "<Figure size 864x432 with 4 Axes>"
            ]
          },
          "metadata": {
            "tags": [],
            "needs_background": "light"
          }
        }
      ]
    },
    {
      "cell_type": "markdown",
      "metadata": {
        "id": "iscBK-vti5bB",
        "colab_type": "text"
      },
      "source": [
        "Let's unfreeze the model and decrease our learning rate by 4 (Rule of thumb)"
      ]
    },
    {
      "cell_type": "code",
      "metadata": {
        "id": "Ic5MF4Pei5bB",
        "colab_type": "code",
        "colab": {}
      },
      "source": [
        "lrs = slice(lr/400, lr/4)"
      ],
      "execution_count": 0,
      "outputs": []
    },
    {
      "cell_type": "code",
      "metadata": {
        "id": "4OwMkaopi5bD",
        "colab_type": "code",
        "outputId": "3d86a040-0979-4f89-b953-9ff9fc63354e",
        "colab": {
          "base_uri": "https://localhost:8080/",
          "height": 34
        }
      },
      "source": [
        "lr, lrs"
      ],
      "execution_count": 109,
      "outputs": [
        {
          "output_type": "execute_result",
          "data": {
            "text/plain": [
              "(0.003, slice(7.5e-06, 0.00075, None))"
            ]
          },
          "metadata": {
            "tags": []
          },
          "execution_count": 109
        }
      ]
    },
    {
      "cell_type": "code",
      "metadata": {
        "id": "hKJYcOxoi5bF",
        "colab_type": "code",
        "colab": {}
      },
      "source": [
        "learn.unfreeze()"
      ],
      "execution_count": 0,
      "outputs": []
    },
    {
      "cell_type": "markdown",
      "metadata": {
        "id": "G5SE8sgNi5bH",
        "colab_type": "text"
      },
      "source": [
        "And train for a bit more"
      ]
    },
    {
      "cell_type": "code",
      "metadata": {
        "id": "ogjKHFJdi5bH",
        "colab_type": "code",
        "outputId": "d6d0e628-4be6-4eee-fa06-f56d71ef7b27",
        "colab": {
          "base_uri": "https://localhost:8080/",
          "height": 466
        }
      },
      "source": [
        "learn.fit_flat_cos(12, lrs)"
      ],
      "execution_count": 111,
      "outputs": [
        {
          "output_type": "display_data",
          "data": {
            "text/html": [
              "<table border=\"1\" class=\"dataframe\">\n",
              "  <thead>\n",
              "    <tr style=\"text-align: left;\">\n",
              "      <th>epoch</th>\n",
              "      <th>train_loss</th>\n",
              "      <th>valid_loss</th>\n",
              "      <th>acc_MSLesion</th>\n",
              "      <th>time</th>\n",
              "    </tr>\n",
              "  </thead>\n",
              "  <tbody>\n",
              "    <tr>\n",
              "      <td>0</td>\n",
              "      <td>0.003005</td>\n",
              "      <td>0.002905</td>\n",
              "      <td>0.999230</td>\n",
              "      <td>00:47</td>\n",
              "    </tr>\n",
              "    <tr>\n",
              "      <td>1</td>\n",
              "      <td>0.003176</td>\n",
              "      <td>0.002858</td>\n",
              "      <td>0.999244</td>\n",
              "      <td>00:47</td>\n",
              "    </tr>\n",
              "    <tr>\n",
              "      <td>2</td>\n",
              "      <td>0.002940</td>\n",
              "      <td>00:10</td>\n",
              "    </tr>\n",
              "  </tbody>\n",
              "</table>"
            ],
            "text/plain": [
              "<IPython.core.display.HTML object>"
            ]
          },
          "metadata": {
            "tags": []
          }
        },
        {
          "output_type": "error",
          "ename": "KeyboardInterrupt",
          "evalue": "ignored",
          "traceback": [
            "\u001b[0;31m---------------------------------------------------------------------------\u001b[0m",
            "\u001b[0;31mKeyboardInterrupt\u001b[0m                         Traceback (most recent call last)",
            "\u001b[0;32m<ipython-input-111-42b81a02a7e3>\u001b[0m in \u001b[0;36m<module>\u001b[0;34m()\u001b[0m\n\u001b[0;32m----> 1\u001b[0;31m \u001b[0mlearn\u001b[0m\u001b[0;34m.\u001b[0m\u001b[0mfit_flat_cos\u001b[0m\u001b[0;34m(\u001b[0m\u001b[0;36m12\u001b[0m\u001b[0;34m,\u001b[0m \u001b[0mlrs\u001b[0m\u001b[0;34m)\u001b[0m\u001b[0;34m\u001b[0m\u001b[0;34m\u001b[0m\u001b[0m\n\u001b[0m",
            "\u001b[0;32m/usr/local/lib/python3.6/dist-packages/fastai2/callback/schedule.py\u001b[0m in \u001b[0;36mfit_flat_cos\u001b[0;34m(self, n_epoch, lr, div_final, pct_start, wd, cbs, reset_opt)\u001b[0m\n\u001b[1;32m    133\u001b[0m     \u001b[0mlr\u001b[0m \u001b[0;34m=\u001b[0m \u001b[0mnp\u001b[0m\u001b[0;34m.\u001b[0m\u001b[0marray\u001b[0m\u001b[0;34m(\u001b[0m\u001b[0;34m[\u001b[0m\u001b[0mh\u001b[0m\u001b[0;34m[\u001b[0m\u001b[0;34m'lr'\u001b[0m\u001b[0;34m]\u001b[0m \u001b[0;32mfor\u001b[0m \u001b[0mh\u001b[0m \u001b[0;32min\u001b[0m \u001b[0mself\u001b[0m\u001b[0;34m.\u001b[0m\u001b[0mopt\u001b[0m\u001b[0;34m.\u001b[0m\u001b[0mhypers\u001b[0m\u001b[0;34m]\u001b[0m\u001b[0;34m)\u001b[0m\u001b[0;34m\u001b[0m\u001b[0;34m\u001b[0m\u001b[0m\n\u001b[1;32m    134\u001b[0m     \u001b[0mscheds\u001b[0m \u001b[0;34m=\u001b[0m \u001b[0;34m{\u001b[0m\u001b[0;34m'lr'\u001b[0m\u001b[0;34m:\u001b[0m \u001b[0mcombined_cos\u001b[0m\u001b[0;34m(\u001b[0m\u001b[0mpct_start\u001b[0m\u001b[0;34m,\u001b[0m \u001b[0mlr\u001b[0m\u001b[0;34m,\u001b[0m \u001b[0mlr\u001b[0m\u001b[0;34m,\u001b[0m \u001b[0mlr\u001b[0m\u001b[0;34m/\u001b[0m\u001b[0mdiv_final\u001b[0m\u001b[0;34m)\u001b[0m\u001b[0;34m}\u001b[0m\u001b[0;34m\u001b[0m\u001b[0;34m\u001b[0m\u001b[0m\n\u001b[0;32m--> 135\u001b[0;31m     \u001b[0mself\u001b[0m\u001b[0;34m.\u001b[0m\u001b[0mfit\u001b[0m\u001b[0;34m(\u001b[0m\u001b[0mn_epoch\u001b[0m\u001b[0;34m,\u001b[0m \u001b[0mcbs\u001b[0m\u001b[0;34m=\u001b[0m\u001b[0mParamScheduler\u001b[0m\u001b[0;34m(\u001b[0m\u001b[0mscheds\u001b[0m\u001b[0;34m)\u001b[0m\u001b[0;34m+\u001b[0m\u001b[0mL\u001b[0m\u001b[0;34m(\u001b[0m\u001b[0mcbs\u001b[0m\u001b[0;34m)\u001b[0m\u001b[0;34m,\u001b[0m \u001b[0mreset_opt\u001b[0m\u001b[0;34m=\u001b[0m\u001b[0mreset_opt\u001b[0m\u001b[0;34m,\u001b[0m \u001b[0mwd\u001b[0m\u001b[0;34m=\u001b[0m\u001b[0mwd\u001b[0m\u001b[0;34m)\u001b[0m\u001b[0;34m\u001b[0m\u001b[0;34m\u001b[0m\u001b[0m\n\u001b[0m\u001b[1;32m    136\u001b[0m \u001b[0;34m\u001b[0m\u001b[0m\n\u001b[1;32m    137\u001b[0m \u001b[0;31m# Cell\u001b[0m\u001b[0;34m\u001b[0m\u001b[0;34m\u001b[0m\u001b[0;34m\u001b[0m\u001b[0m\n",
            "\u001b[0;32m/usr/local/lib/python3.6/dist-packages/fastai2/learner.py\u001b[0m in \u001b[0;36mfit\u001b[0;34m(self, n_epoch, lr, wd, cbs, reset_opt)\u001b[0m\n\u001b[1;32m    190\u001b[0m                     \u001b[0;32mtry\u001b[0m\u001b[0;34m:\u001b[0m\u001b[0;34m\u001b[0m\u001b[0;34m\u001b[0m\u001b[0m\n\u001b[1;32m    191\u001b[0m                         \u001b[0mself\u001b[0m\u001b[0;34m.\u001b[0m\u001b[0mepoch\u001b[0m\u001b[0;34m=\u001b[0m\u001b[0mepoch\u001b[0m\u001b[0;34m;\u001b[0m          \u001b[0mself\u001b[0m\u001b[0;34m(\u001b[0m\u001b[0;34m'begin_epoch'\u001b[0m\u001b[0;34m)\u001b[0m\u001b[0;34m\u001b[0m\u001b[0;34m\u001b[0m\u001b[0m\n\u001b[0;32m--> 192\u001b[0;31m                         \u001b[0mself\u001b[0m\u001b[0;34m.\u001b[0m\u001b[0m_do_epoch_train\u001b[0m\u001b[0;34m(\u001b[0m\u001b[0;34m)\u001b[0m\u001b[0;34m\u001b[0m\u001b[0;34m\u001b[0m\u001b[0m\n\u001b[0m\u001b[1;32m    193\u001b[0m                         \u001b[0mself\u001b[0m\u001b[0;34m.\u001b[0m\u001b[0m_do_epoch_validate\u001b[0m\u001b[0;34m(\u001b[0m\u001b[0;34m)\u001b[0m\u001b[0;34m\u001b[0m\u001b[0;34m\u001b[0m\u001b[0m\n\u001b[1;32m    194\u001b[0m                     \u001b[0;32mexcept\u001b[0m \u001b[0mCancelEpochException\u001b[0m\u001b[0;34m:\u001b[0m   \u001b[0mself\u001b[0m\u001b[0;34m(\u001b[0m\u001b[0;34m'after_cancel_epoch'\u001b[0m\u001b[0;34m)\u001b[0m\u001b[0;34m\u001b[0m\u001b[0;34m\u001b[0m\u001b[0m\n",
            "\u001b[0;32m/usr/local/lib/python3.6/dist-packages/fastai2/learner.py\u001b[0m in \u001b[0;36m_do_epoch_train\u001b[0;34m(self)\u001b[0m\n\u001b[1;32m    163\u001b[0m         \u001b[0;32mtry\u001b[0m\u001b[0;34m:\u001b[0m\u001b[0;34m\u001b[0m\u001b[0;34m\u001b[0m\u001b[0m\n\u001b[1;32m    164\u001b[0m             \u001b[0mself\u001b[0m\u001b[0;34m.\u001b[0m\u001b[0mdl\u001b[0m \u001b[0;34m=\u001b[0m \u001b[0mself\u001b[0m\u001b[0;34m.\u001b[0m\u001b[0mdls\u001b[0m\u001b[0;34m.\u001b[0m\u001b[0mtrain\u001b[0m\u001b[0;34m;\u001b[0m                        \u001b[0mself\u001b[0m\u001b[0;34m(\u001b[0m\u001b[0;34m'begin_train'\u001b[0m\u001b[0;34m)\u001b[0m\u001b[0;34m\u001b[0m\u001b[0;34m\u001b[0m\u001b[0m\n\u001b[0;32m--> 165\u001b[0;31m             \u001b[0mself\u001b[0m\u001b[0;34m.\u001b[0m\u001b[0mall_batches\u001b[0m\u001b[0;34m(\u001b[0m\u001b[0;34m)\u001b[0m\u001b[0;34m\u001b[0m\u001b[0;34m\u001b[0m\u001b[0m\n\u001b[0m\u001b[1;32m    166\u001b[0m         \u001b[0;32mexcept\u001b[0m \u001b[0mCancelTrainException\u001b[0m\u001b[0;34m:\u001b[0m                         \u001b[0mself\u001b[0m\u001b[0;34m(\u001b[0m\u001b[0;34m'after_cancel_train'\u001b[0m\u001b[0;34m)\u001b[0m\u001b[0;34m\u001b[0m\u001b[0;34m\u001b[0m\u001b[0m\n\u001b[1;32m    167\u001b[0m         \u001b[0;32mfinally\u001b[0m\u001b[0;34m:\u001b[0m                                             \u001b[0mself\u001b[0m\u001b[0;34m(\u001b[0m\u001b[0;34m'after_train'\u001b[0m\u001b[0;34m)\u001b[0m\u001b[0;34m\u001b[0m\u001b[0;34m\u001b[0m\u001b[0m\n",
            "\u001b[0;32m/usr/local/lib/python3.6/dist-packages/fastai2/learner.py\u001b[0m in \u001b[0;36mall_batches\u001b[0;34m(self)\u001b[0m\n\u001b[1;32m    141\u001b[0m     \u001b[0;32mdef\u001b[0m \u001b[0mall_batches\u001b[0m\u001b[0;34m(\u001b[0m\u001b[0mself\u001b[0m\u001b[0;34m)\u001b[0m\u001b[0;34m:\u001b[0m\u001b[0;34m\u001b[0m\u001b[0;34m\u001b[0m\u001b[0m\n\u001b[1;32m    142\u001b[0m         \u001b[0mself\u001b[0m\u001b[0;34m.\u001b[0m\u001b[0mn_iter\u001b[0m \u001b[0;34m=\u001b[0m \u001b[0mlen\u001b[0m\u001b[0;34m(\u001b[0m\u001b[0mself\u001b[0m\u001b[0;34m.\u001b[0m\u001b[0mdl\u001b[0m\u001b[0;34m)\u001b[0m\u001b[0;34m\u001b[0m\u001b[0;34m\u001b[0m\u001b[0m\n\u001b[0;32m--> 143\u001b[0;31m         \u001b[0;32mfor\u001b[0m \u001b[0mo\u001b[0m \u001b[0;32min\u001b[0m \u001b[0menumerate\u001b[0m\u001b[0;34m(\u001b[0m\u001b[0mself\u001b[0m\u001b[0;34m.\u001b[0m\u001b[0mdl\u001b[0m\u001b[0;34m)\u001b[0m\u001b[0;34m:\u001b[0m \u001b[0mself\u001b[0m\u001b[0;34m.\u001b[0m\u001b[0mone_batch\u001b[0m\u001b[0;34m(\u001b[0m\u001b[0;34m*\u001b[0m\u001b[0mo\u001b[0m\u001b[0;34m)\u001b[0m\u001b[0;34m\u001b[0m\u001b[0;34m\u001b[0m\u001b[0m\n\u001b[0m\u001b[1;32m    144\u001b[0m \u001b[0;34m\u001b[0m\u001b[0m\n\u001b[1;32m    145\u001b[0m     \u001b[0;32mdef\u001b[0m \u001b[0mone_batch\u001b[0m\u001b[0;34m(\u001b[0m\u001b[0mself\u001b[0m\u001b[0;34m,\u001b[0m \u001b[0mi\u001b[0m\u001b[0;34m,\u001b[0m \u001b[0mb\u001b[0m\u001b[0;34m)\u001b[0m\u001b[0;34m:\u001b[0m\u001b[0;34m\u001b[0m\u001b[0;34m\u001b[0m\u001b[0m\n",
            "\u001b[0;32m/usr/local/lib/python3.6/dist-packages/fastai2/learner.py\u001b[0m in \u001b[0;36mone_batch\u001b[0;34m(self, i, b)\u001b[0m\n\u001b[1;32m    155\u001b[0m             \u001b[0mself\u001b[0m\u001b[0;34m.\u001b[0m\u001b[0mopt\u001b[0m\u001b[0;34m.\u001b[0m\u001b[0mzero_grad\u001b[0m\u001b[0;34m(\u001b[0m\u001b[0;34m)\u001b[0m\u001b[0;34m\u001b[0m\u001b[0;34m\u001b[0m\u001b[0m\n\u001b[1;32m    156\u001b[0m         \u001b[0;32mexcept\u001b[0m \u001b[0mCancelBatchException\u001b[0m\u001b[0;34m:\u001b[0m                         \u001b[0mself\u001b[0m\u001b[0;34m(\u001b[0m\u001b[0;34m'after_cancel_batch'\u001b[0m\u001b[0;34m)\u001b[0m\u001b[0;34m\u001b[0m\u001b[0;34m\u001b[0m\u001b[0m\n\u001b[0;32m--> 157\u001b[0;31m         \u001b[0;32mfinally\u001b[0m\u001b[0;34m:\u001b[0m                                             \u001b[0mself\u001b[0m\u001b[0;34m(\u001b[0m\u001b[0;34m'after_batch'\u001b[0m\u001b[0;34m)\u001b[0m\u001b[0;34m\u001b[0m\u001b[0;34m\u001b[0m\u001b[0m\n\u001b[0m\u001b[1;32m    158\u001b[0m \u001b[0;34m\u001b[0m\u001b[0m\n\u001b[1;32m    159\u001b[0m     \u001b[0;32mdef\u001b[0m \u001b[0m_do_begin_fit\u001b[0m\u001b[0;34m(\u001b[0m\u001b[0mself\u001b[0m\u001b[0;34m,\u001b[0m \u001b[0mn_epoch\u001b[0m\u001b[0;34m)\u001b[0m\u001b[0;34m:\u001b[0m\u001b[0;34m\u001b[0m\u001b[0;34m\u001b[0m\u001b[0m\n",
            "\u001b[0;32m/usr/local/lib/python3.6/dist-packages/fastai2/learner.py\u001b[0m in \u001b[0;36m__call__\u001b[0;34m(self, event_name)\u001b[0m\n\u001b[1;32m    122\u001b[0m     \u001b[0;32mdef\u001b[0m \u001b[0mordered_cbs\u001b[0m\u001b[0;34m(\u001b[0m\u001b[0mself\u001b[0m\u001b[0;34m,\u001b[0m \u001b[0mevent\u001b[0m\u001b[0;34m)\u001b[0m\u001b[0;34m:\u001b[0m \u001b[0;32mreturn\u001b[0m \u001b[0;34m[\u001b[0m\u001b[0mcb\u001b[0m \u001b[0;32mfor\u001b[0m \u001b[0mcb\u001b[0m \u001b[0;32min\u001b[0m \u001b[0msort_by_run\u001b[0m\u001b[0;34m(\u001b[0m\u001b[0mself\u001b[0m\u001b[0;34m.\u001b[0m\u001b[0mcbs\u001b[0m\u001b[0;34m)\u001b[0m \u001b[0;32mif\u001b[0m \u001b[0mhasattr\u001b[0m\u001b[0;34m(\u001b[0m\u001b[0mcb\u001b[0m\u001b[0;34m,\u001b[0m \u001b[0mevent\u001b[0m\u001b[0;34m)\u001b[0m\u001b[0;34m]\u001b[0m\u001b[0;34m\u001b[0m\u001b[0;34m\u001b[0m\u001b[0m\n\u001b[1;32m    123\u001b[0m \u001b[0;34m\u001b[0m\u001b[0m\n\u001b[0;32m--> 124\u001b[0;31m     \u001b[0;32mdef\u001b[0m \u001b[0m__call__\u001b[0m\u001b[0;34m(\u001b[0m\u001b[0mself\u001b[0m\u001b[0;34m,\u001b[0m \u001b[0mevent_name\u001b[0m\u001b[0;34m)\u001b[0m\u001b[0;34m:\u001b[0m \u001b[0mL\u001b[0m\u001b[0;34m(\u001b[0m\u001b[0mevent_name\u001b[0m\u001b[0;34m)\u001b[0m\u001b[0;34m.\u001b[0m\u001b[0mmap\u001b[0m\u001b[0;34m(\u001b[0m\u001b[0mself\u001b[0m\u001b[0;34m.\u001b[0m\u001b[0m_call_one\u001b[0m\u001b[0;34m)\u001b[0m\u001b[0;34m\u001b[0m\u001b[0;34m\u001b[0m\u001b[0m\n\u001b[0m\u001b[1;32m    125\u001b[0m     \u001b[0;32mdef\u001b[0m \u001b[0m_call_one\u001b[0m\u001b[0;34m(\u001b[0m\u001b[0mself\u001b[0m\u001b[0;34m,\u001b[0m \u001b[0mevent_name\u001b[0m\u001b[0;34m)\u001b[0m\u001b[0;34m:\u001b[0m\u001b[0;34m\u001b[0m\u001b[0;34m\u001b[0m\u001b[0m\n\u001b[1;32m    126\u001b[0m         \u001b[0;32massert\u001b[0m \u001b[0mhasattr\u001b[0m\u001b[0;34m(\u001b[0m\u001b[0mevent\u001b[0m\u001b[0;34m,\u001b[0m \u001b[0mevent_name\u001b[0m\u001b[0;34m)\u001b[0m\u001b[0;34m\u001b[0m\u001b[0;34m\u001b[0m\u001b[0m\n",
            "\u001b[0;32m/usr/local/lib/python3.6/dist-packages/fastcore/foundation.py\u001b[0m in \u001b[0;36mmap\u001b[0;34m(self, f, *args, **kwargs)\u001b[0m\n\u001b[1;32m    370\u001b[0m              \u001b[0;32melse\u001b[0m \u001b[0mf\u001b[0m\u001b[0;34m.\u001b[0m\u001b[0mformat\u001b[0m \u001b[0;32mif\u001b[0m \u001b[0misinstance\u001b[0m\u001b[0;34m(\u001b[0m\u001b[0mf\u001b[0m\u001b[0;34m,\u001b[0m\u001b[0mstr\u001b[0m\u001b[0;34m)\u001b[0m\u001b[0;34m\u001b[0m\u001b[0;34m\u001b[0m\u001b[0m\n\u001b[1;32m    371\u001b[0m              else f.__getitem__)\n\u001b[0;32m--> 372\u001b[0;31m         \u001b[0;32mreturn\u001b[0m \u001b[0mself\u001b[0m\u001b[0;34m.\u001b[0m\u001b[0m_new\u001b[0m\u001b[0;34m(\u001b[0m\u001b[0mmap\u001b[0m\u001b[0;34m(\u001b[0m\u001b[0mg\u001b[0m\u001b[0;34m,\u001b[0m \u001b[0mself\u001b[0m\u001b[0;34m)\u001b[0m\u001b[0;34m)\u001b[0m\u001b[0;34m\u001b[0m\u001b[0;34m\u001b[0m\u001b[0m\n\u001b[0m\u001b[1;32m    373\u001b[0m \u001b[0;34m\u001b[0m\u001b[0m\n\u001b[1;32m    374\u001b[0m     \u001b[0;32mdef\u001b[0m \u001b[0mfilter\u001b[0m\u001b[0;34m(\u001b[0m\u001b[0mself\u001b[0m\u001b[0;34m,\u001b[0m \u001b[0mf\u001b[0m\u001b[0;34m,\u001b[0m \u001b[0mnegate\u001b[0m\u001b[0;34m=\u001b[0m\u001b[0;32mFalse\u001b[0m\u001b[0;34m,\u001b[0m \u001b[0;34m**\u001b[0m\u001b[0mkwargs\u001b[0m\u001b[0;34m)\u001b[0m\u001b[0;34m:\u001b[0m\u001b[0;34m\u001b[0m\u001b[0;34m\u001b[0m\u001b[0m\n",
            "\u001b[0;32m/usr/local/lib/python3.6/dist-packages/fastcore/foundation.py\u001b[0m in \u001b[0;36m_new\u001b[0;34m(self, items, *args, **kwargs)\u001b[0m\n\u001b[1;32m    321\u001b[0m     \u001b[0;34m@\u001b[0m\u001b[0mproperty\u001b[0m\u001b[0;34m\u001b[0m\u001b[0;34m\u001b[0m\u001b[0m\n\u001b[1;32m    322\u001b[0m     \u001b[0;32mdef\u001b[0m \u001b[0m_xtra\u001b[0m\u001b[0;34m(\u001b[0m\u001b[0mself\u001b[0m\u001b[0;34m)\u001b[0m\u001b[0;34m:\u001b[0m \u001b[0;32mreturn\u001b[0m \u001b[0;32mNone\u001b[0m\u001b[0;34m\u001b[0m\u001b[0;34m\u001b[0m\u001b[0m\n\u001b[0;32m--> 323\u001b[0;31m     \u001b[0;32mdef\u001b[0m \u001b[0m_new\u001b[0m\u001b[0;34m(\u001b[0m\u001b[0mself\u001b[0m\u001b[0;34m,\u001b[0m \u001b[0mitems\u001b[0m\u001b[0;34m,\u001b[0m \u001b[0;34m*\u001b[0m\u001b[0margs\u001b[0m\u001b[0;34m,\u001b[0m \u001b[0;34m**\u001b[0m\u001b[0mkwargs\u001b[0m\u001b[0;34m)\u001b[0m\u001b[0;34m:\u001b[0m \u001b[0;32mreturn\u001b[0m \u001b[0mtype\u001b[0m\u001b[0;34m(\u001b[0m\u001b[0mself\u001b[0m\u001b[0;34m)\u001b[0m\u001b[0;34m(\u001b[0m\u001b[0mitems\u001b[0m\u001b[0;34m,\u001b[0m \u001b[0;34m*\u001b[0m\u001b[0margs\u001b[0m\u001b[0;34m,\u001b[0m \u001b[0muse_list\u001b[0m\u001b[0;34m=\u001b[0m\u001b[0;32mNone\u001b[0m\u001b[0;34m,\u001b[0m \u001b[0;34m**\u001b[0m\u001b[0mkwargs\u001b[0m\u001b[0;34m)\u001b[0m\u001b[0;34m\u001b[0m\u001b[0;34m\u001b[0m\u001b[0m\n\u001b[0m\u001b[1;32m    324\u001b[0m     \u001b[0;32mdef\u001b[0m \u001b[0m__getitem__\u001b[0m\u001b[0;34m(\u001b[0m\u001b[0mself\u001b[0m\u001b[0;34m,\u001b[0m \u001b[0midx\u001b[0m\u001b[0;34m)\u001b[0m\u001b[0;34m:\u001b[0m \u001b[0;32mreturn\u001b[0m \u001b[0mself\u001b[0m\u001b[0;34m.\u001b[0m\u001b[0m_get\u001b[0m\u001b[0;34m(\u001b[0m\u001b[0midx\u001b[0m\u001b[0;34m)\u001b[0m \u001b[0;32mif\u001b[0m \u001b[0mis_indexer\u001b[0m\u001b[0;34m(\u001b[0m\u001b[0midx\u001b[0m\u001b[0;34m)\u001b[0m \u001b[0;32melse\u001b[0m \u001b[0mL\u001b[0m\u001b[0;34m(\u001b[0m\u001b[0mself\u001b[0m\u001b[0;34m.\u001b[0m\u001b[0m_get\u001b[0m\u001b[0;34m(\u001b[0m\u001b[0midx\u001b[0m\u001b[0;34m)\u001b[0m\u001b[0;34m,\u001b[0m \u001b[0muse_list\u001b[0m\u001b[0;34m=\u001b[0m\u001b[0;32mNone\u001b[0m\u001b[0;34m)\u001b[0m\u001b[0;34m\u001b[0m\u001b[0;34m\u001b[0m\u001b[0m\n\u001b[1;32m    325\u001b[0m     \u001b[0;32mdef\u001b[0m \u001b[0mcopy\u001b[0m\u001b[0;34m(\u001b[0m\u001b[0mself\u001b[0m\u001b[0;34m)\u001b[0m\u001b[0;34m:\u001b[0m \u001b[0;32mreturn\u001b[0m \u001b[0mself\u001b[0m\u001b[0;34m.\u001b[0m\u001b[0m_new\u001b[0m\u001b[0;34m(\u001b[0m\u001b[0mself\u001b[0m\u001b[0;34m.\u001b[0m\u001b[0mitems\u001b[0m\u001b[0;34m.\u001b[0m\u001b[0mcopy\u001b[0m\u001b[0;34m(\u001b[0m\u001b[0;34m)\u001b[0m\u001b[0;34m)\u001b[0m\u001b[0;34m\u001b[0m\u001b[0;34m\u001b[0m\u001b[0m\n",
            "\u001b[0;32m/usr/local/lib/python3.6/dist-packages/fastcore/foundation.py\u001b[0m in \u001b[0;36m__call__\u001b[0;34m(cls, x, *args, **kwargs)\u001b[0m\n\u001b[1;32m     39\u001b[0m             \u001b[0;32mreturn\u001b[0m \u001b[0mx\u001b[0m\u001b[0;34m\u001b[0m\u001b[0;34m\u001b[0m\u001b[0m\n\u001b[1;32m     40\u001b[0m \u001b[0;34m\u001b[0m\u001b[0m\n\u001b[0;32m---> 41\u001b[0;31m         \u001b[0mres\u001b[0m \u001b[0;34m=\u001b[0m \u001b[0msuper\u001b[0m\u001b[0;34m(\u001b[0m\u001b[0;34m)\u001b[0m\u001b[0;34m.\u001b[0m\u001b[0m__call__\u001b[0m\u001b[0;34m(\u001b[0m\u001b[0;34m*\u001b[0m\u001b[0;34m(\u001b[0m\u001b[0;34m(\u001b[0m\u001b[0mx\u001b[0m\u001b[0;34m,\u001b[0m\u001b[0;34m)\u001b[0m \u001b[0;34m+\u001b[0m \u001b[0margs\u001b[0m\u001b[0;34m)\u001b[0m\u001b[0;34m,\u001b[0m \u001b[0;34m**\u001b[0m\u001b[0mkwargs\u001b[0m\u001b[0;34m)\u001b[0m\u001b[0;34m\u001b[0m\u001b[0;34m\u001b[0m\u001b[0m\n\u001b[0m\u001b[1;32m     42\u001b[0m         \u001b[0mres\u001b[0m\u001b[0;34m.\u001b[0m\u001b[0m_newchk\u001b[0m \u001b[0;34m=\u001b[0m \u001b[0;36m0\u001b[0m\u001b[0;34m\u001b[0m\u001b[0;34m\u001b[0m\u001b[0m\n\u001b[1;32m     43\u001b[0m         \u001b[0;32mreturn\u001b[0m \u001b[0mres\u001b[0m\u001b[0;34m\u001b[0m\u001b[0;34m\u001b[0m\u001b[0m\n",
            "\u001b[0;32m/usr/local/lib/python3.6/dist-packages/fastcore/foundation.py\u001b[0m in \u001b[0;36m__init__\u001b[0;34m(self, items, use_list, match, *rest)\u001b[0m\n\u001b[1;32m    312\u001b[0m         \u001b[0;32mif\u001b[0m \u001b[0mitems\u001b[0m \u001b[0;32mis\u001b[0m \u001b[0;32mNone\u001b[0m\u001b[0;34m:\u001b[0m \u001b[0mitems\u001b[0m \u001b[0;34m=\u001b[0m \u001b[0;34m[\u001b[0m\u001b[0;34m]\u001b[0m\u001b[0;34m\u001b[0m\u001b[0;34m\u001b[0m\u001b[0m\n\u001b[1;32m    313\u001b[0m         \u001b[0;32mif\u001b[0m \u001b[0;34m(\u001b[0m\u001b[0muse_list\u001b[0m \u001b[0;32mis\u001b[0m \u001b[0;32mnot\u001b[0m \u001b[0;32mNone\u001b[0m\u001b[0;34m)\u001b[0m \u001b[0;32mor\u001b[0m \u001b[0;32mnot\u001b[0m \u001b[0m_is_array\u001b[0m\u001b[0;34m(\u001b[0m\u001b[0mitems\u001b[0m\u001b[0;34m)\u001b[0m\u001b[0;34m:\u001b[0m\u001b[0;34m\u001b[0m\u001b[0;34m\u001b[0m\u001b[0m\n\u001b[0;32m--> 314\u001b[0;31m             \u001b[0mitems\u001b[0m \u001b[0;34m=\u001b[0m \u001b[0mlist\u001b[0m\u001b[0;34m(\u001b[0m\u001b[0mitems\u001b[0m\u001b[0;34m)\u001b[0m \u001b[0;32mif\u001b[0m \u001b[0muse_list\u001b[0m \u001b[0;32melse\u001b[0m \u001b[0m_listify\u001b[0m\u001b[0;34m(\u001b[0m\u001b[0mitems\u001b[0m\u001b[0;34m)\u001b[0m\u001b[0;34m\u001b[0m\u001b[0;34m\u001b[0m\u001b[0m\n\u001b[0m\u001b[1;32m    315\u001b[0m         \u001b[0;32mif\u001b[0m \u001b[0mmatch\u001b[0m \u001b[0;32mis\u001b[0m \u001b[0;32mnot\u001b[0m \u001b[0;32mNone\u001b[0m\u001b[0;34m:\u001b[0m\u001b[0;34m\u001b[0m\u001b[0;34m\u001b[0m\u001b[0m\n\u001b[1;32m    316\u001b[0m             \u001b[0;32mif\u001b[0m \u001b[0mis_coll\u001b[0m\u001b[0;34m(\u001b[0m\u001b[0mmatch\u001b[0m\u001b[0;34m)\u001b[0m\u001b[0;34m:\u001b[0m \u001b[0mmatch\u001b[0m \u001b[0;34m=\u001b[0m \u001b[0mlen\u001b[0m\u001b[0;34m(\u001b[0m\u001b[0mmatch\u001b[0m\u001b[0;34m)\u001b[0m\u001b[0;34m\u001b[0m\u001b[0;34m\u001b[0m\u001b[0m\n",
            "\u001b[0;32m/usr/local/lib/python3.6/dist-packages/fastcore/foundation.py\u001b[0m in \u001b[0;36m_listify\u001b[0;34m(o)\u001b[0m\n\u001b[1;32m    248\u001b[0m     \u001b[0;32mif\u001b[0m \u001b[0misinstance\u001b[0m\u001b[0;34m(\u001b[0m\u001b[0mo\u001b[0m\u001b[0;34m,\u001b[0m \u001b[0mlist\u001b[0m\u001b[0;34m)\u001b[0m\u001b[0;34m:\u001b[0m \u001b[0;32mreturn\u001b[0m \u001b[0mo\u001b[0m\u001b[0;34m\u001b[0m\u001b[0;34m\u001b[0m\u001b[0m\n\u001b[1;32m    249\u001b[0m     \u001b[0;32mif\u001b[0m \u001b[0misinstance\u001b[0m\u001b[0;34m(\u001b[0m\u001b[0mo\u001b[0m\u001b[0;34m,\u001b[0m \u001b[0mstr\u001b[0m\u001b[0;34m)\u001b[0m \u001b[0;32mor\u001b[0m \u001b[0m_is_array\u001b[0m\u001b[0;34m(\u001b[0m\u001b[0mo\u001b[0m\u001b[0;34m)\u001b[0m\u001b[0;34m:\u001b[0m \u001b[0;32mreturn\u001b[0m \u001b[0;34m[\u001b[0m\u001b[0mo\u001b[0m\u001b[0;34m]\u001b[0m\u001b[0;34m\u001b[0m\u001b[0;34m\u001b[0m\u001b[0m\n\u001b[0;32m--> 250\u001b[0;31m     \u001b[0;32mif\u001b[0m \u001b[0mis_iter\u001b[0m\u001b[0;34m(\u001b[0m\u001b[0mo\u001b[0m\u001b[0;34m)\u001b[0m\u001b[0;34m:\u001b[0m \u001b[0;32mreturn\u001b[0m \u001b[0mlist\u001b[0m\u001b[0;34m(\u001b[0m\u001b[0mo\u001b[0m\u001b[0;34m)\u001b[0m\u001b[0;34m\u001b[0m\u001b[0;34m\u001b[0m\u001b[0m\n\u001b[0m\u001b[1;32m    251\u001b[0m     \u001b[0;32mreturn\u001b[0m \u001b[0;34m[\u001b[0m\u001b[0mo\u001b[0m\u001b[0;34m]\u001b[0m\u001b[0;34m\u001b[0m\u001b[0;34m\u001b[0m\u001b[0m\n\u001b[1;32m    252\u001b[0m \u001b[0;34m\u001b[0m\u001b[0m\n",
            "\u001b[0;32m/usr/local/lib/python3.6/dist-packages/fastcore/foundation.py\u001b[0m in \u001b[0;36m__call__\u001b[0;34m(self, *args, **kwargs)\u001b[0m\n\u001b[1;32m    214\u001b[0m             \u001b[0;32mif\u001b[0m \u001b[0misinstance\u001b[0m\u001b[0;34m(\u001b[0m\u001b[0mv\u001b[0m\u001b[0;34m,\u001b[0m\u001b[0m_Arg\u001b[0m\u001b[0;34m)\u001b[0m\u001b[0;34m:\u001b[0m \u001b[0mkwargs\u001b[0m\u001b[0;34m[\u001b[0m\u001b[0mk\u001b[0m\u001b[0;34m]\u001b[0m \u001b[0;34m=\u001b[0m \u001b[0margs\u001b[0m\u001b[0;34m.\u001b[0m\u001b[0mpop\u001b[0m\u001b[0;34m(\u001b[0m\u001b[0mv\u001b[0m\u001b[0;34m.\u001b[0m\u001b[0mi\u001b[0m\u001b[0;34m)\u001b[0m\u001b[0;34m\u001b[0m\u001b[0;34m\u001b[0m\u001b[0m\n\u001b[1;32m    215\u001b[0m         \u001b[0mfargs\u001b[0m \u001b[0;34m=\u001b[0m \u001b[0;34m[\u001b[0m\u001b[0margs\u001b[0m\u001b[0;34m[\u001b[0m\u001b[0mx\u001b[0m\u001b[0;34m.\u001b[0m\u001b[0mi\u001b[0m\u001b[0;34m]\u001b[0m \u001b[0;32mif\u001b[0m \u001b[0misinstance\u001b[0m\u001b[0;34m(\u001b[0m\u001b[0mx\u001b[0m\u001b[0;34m,\u001b[0m \u001b[0m_Arg\u001b[0m\u001b[0;34m)\u001b[0m \u001b[0;32melse\u001b[0m \u001b[0mx\u001b[0m \u001b[0;32mfor\u001b[0m \u001b[0mx\u001b[0m \u001b[0;32min\u001b[0m \u001b[0mself\u001b[0m\u001b[0;34m.\u001b[0m\u001b[0mpargs\u001b[0m\u001b[0;34m]\u001b[0m \u001b[0;34m+\u001b[0m \u001b[0margs\u001b[0m\u001b[0;34m[\u001b[0m\u001b[0mself\u001b[0m\u001b[0;34m.\u001b[0m\u001b[0mmaxi\u001b[0m\u001b[0;34m+\u001b[0m\u001b[0;36m1\u001b[0m\u001b[0;34m:\u001b[0m\u001b[0;34m]\u001b[0m\u001b[0;34m\u001b[0m\u001b[0;34m\u001b[0m\u001b[0m\n\u001b[0;32m--> 216\u001b[0;31m         \u001b[0;32mreturn\u001b[0m \u001b[0mself\u001b[0m\u001b[0;34m.\u001b[0m\u001b[0mfn\u001b[0m\u001b[0;34m(\u001b[0m\u001b[0;34m*\u001b[0m\u001b[0mfargs\u001b[0m\u001b[0;34m,\u001b[0m \u001b[0;34m**\u001b[0m\u001b[0mkwargs\u001b[0m\u001b[0;34m)\u001b[0m\u001b[0;34m\u001b[0m\u001b[0;34m\u001b[0m\u001b[0m\n\u001b[0m\u001b[1;32m    217\u001b[0m \u001b[0;34m\u001b[0m\u001b[0m\n\u001b[1;32m    218\u001b[0m \u001b[0;31m# Cell\u001b[0m\u001b[0;34m\u001b[0m\u001b[0;34m\u001b[0m\u001b[0;34m\u001b[0m\u001b[0m\n",
            "\u001b[0;32m/usr/local/lib/python3.6/dist-packages/fastai2/learner.py\u001b[0m in \u001b[0;36m_call_one\u001b[0;34m(self, event_name)\u001b[0m\n\u001b[1;32m    125\u001b[0m     \u001b[0;32mdef\u001b[0m \u001b[0m_call_one\u001b[0m\u001b[0;34m(\u001b[0m\u001b[0mself\u001b[0m\u001b[0;34m,\u001b[0m \u001b[0mevent_name\u001b[0m\u001b[0;34m)\u001b[0m\u001b[0;34m:\u001b[0m\u001b[0;34m\u001b[0m\u001b[0;34m\u001b[0m\u001b[0m\n\u001b[1;32m    126\u001b[0m         \u001b[0;32massert\u001b[0m \u001b[0mhasattr\u001b[0m\u001b[0;34m(\u001b[0m\u001b[0mevent\u001b[0m\u001b[0;34m,\u001b[0m \u001b[0mevent_name\u001b[0m\u001b[0;34m)\u001b[0m\u001b[0;34m\u001b[0m\u001b[0;34m\u001b[0m\u001b[0m\n\u001b[0;32m--> 127\u001b[0;31m         \u001b[0;34m[\u001b[0m\u001b[0mcb\u001b[0m\u001b[0;34m(\u001b[0m\u001b[0mevent_name\u001b[0m\u001b[0;34m)\u001b[0m \u001b[0;32mfor\u001b[0m \u001b[0mcb\u001b[0m \u001b[0;32min\u001b[0m \u001b[0msort_by_run\u001b[0m\u001b[0;34m(\u001b[0m\u001b[0mself\u001b[0m\u001b[0;34m.\u001b[0m\u001b[0mcbs\u001b[0m\u001b[0;34m)\u001b[0m\u001b[0;34m]\u001b[0m\u001b[0;34m\u001b[0m\u001b[0;34m\u001b[0m\u001b[0m\n\u001b[0m\u001b[1;32m    128\u001b[0m \u001b[0;34m\u001b[0m\u001b[0m\n\u001b[1;32m    129\u001b[0m     \u001b[0;32mdef\u001b[0m \u001b[0m_bn_bias_state\u001b[0m\u001b[0;34m(\u001b[0m\u001b[0mself\u001b[0m\u001b[0;34m,\u001b[0m \u001b[0mwith_bias\u001b[0m\u001b[0;34m)\u001b[0m\u001b[0;34m:\u001b[0m \u001b[0;32mreturn\u001b[0m \u001b[0mbn_bias_params\u001b[0m\u001b[0;34m(\u001b[0m\u001b[0mself\u001b[0m\u001b[0;34m.\u001b[0m\u001b[0mmodel\u001b[0m\u001b[0;34m,\u001b[0m \u001b[0mwith_bias\u001b[0m\u001b[0;34m)\u001b[0m\u001b[0;34m.\u001b[0m\u001b[0mmap\u001b[0m\u001b[0;34m(\u001b[0m\u001b[0mself\u001b[0m\u001b[0;34m.\u001b[0m\u001b[0mopt\u001b[0m\u001b[0;34m.\u001b[0m\u001b[0mstate\u001b[0m\u001b[0;34m)\u001b[0m\u001b[0;34m\u001b[0m\u001b[0;34m\u001b[0m\u001b[0m\n",
            "\u001b[0;32m/usr/local/lib/python3.6/dist-packages/fastai2/learner.py\u001b[0m in \u001b[0;36m<listcomp>\u001b[0;34m(.0)\u001b[0m\n\u001b[1;32m    125\u001b[0m     \u001b[0;32mdef\u001b[0m \u001b[0m_call_one\u001b[0m\u001b[0;34m(\u001b[0m\u001b[0mself\u001b[0m\u001b[0;34m,\u001b[0m \u001b[0mevent_name\u001b[0m\u001b[0;34m)\u001b[0m\u001b[0;34m:\u001b[0m\u001b[0;34m\u001b[0m\u001b[0;34m\u001b[0m\u001b[0m\n\u001b[1;32m    126\u001b[0m         \u001b[0;32massert\u001b[0m \u001b[0mhasattr\u001b[0m\u001b[0;34m(\u001b[0m\u001b[0mevent\u001b[0m\u001b[0;34m,\u001b[0m \u001b[0mevent_name\u001b[0m\u001b[0;34m)\u001b[0m\u001b[0;34m\u001b[0m\u001b[0;34m\u001b[0m\u001b[0m\n\u001b[0;32m--> 127\u001b[0;31m         \u001b[0;34m[\u001b[0m\u001b[0mcb\u001b[0m\u001b[0;34m(\u001b[0m\u001b[0mevent_name\u001b[0m\u001b[0;34m)\u001b[0m \u001b[0;32mfor\u001b[0m \u001b[0mcb\u001b[0m \u001b[0;32min\u001b[0m \u001b[0msort_by_run\u001b[0m\u001b[0;34m(\u001b[0m\u001b[0mself\u001b[0m\u001b[0;34m.\u001b[0m\u001b[0mcbs\u001b[0m\u001b[0;34m)\u001b[0m\u001b[0;34m]\u001b[0m\u001b[0;34m\u001b[0m\u001b[0;34m\u001b[0m\u001b[0m\n\u001b[0m\u001b[1;32m    128\u001b[0m \u001b[0;34m\u001b[0m\u001b[0m\n\u001b[1;32m    129\u001b[0m     \u001b[0;32mdef\u001b[0m \u001b[0m_bn_bias_state\u001b[0m\u001b[0;34m(\u001b[0m\u001b[0mself\u001b[0m\u001b[0;34m,\u001b[0m \u001b[0mwith_bias\u001b[0m\u001b[0;34m)\u001b[0m\u001b[0;34m:\u001b[0m \u001b[0;32mreturn\u001b[0m \u001b[0mbn_bias_params\u001b[0m\u001b[0;34m(\u001b[0m\u001b[0mself\u001b[0m\u001b[0;34m.\u001b[0m\u001b[0mmodel\u001b[0m\u001b[0;34m,\u001b[0m \u001b[0mwith_bias\u001b[0m\u001b[0;34m)\u001b[0m\u001b[0;34m.\u001b[0m\u001b[0mmap\u001b[0m\u001b[0;34m(\u001b[0m\u001b[0mself\u001b[0m\u001b[0;34m.\u001b[0m\u001b[0mopt\u001b[0m\u001b[0;34m.\u001b[0m\u001b[0mstate\u001b[0m\u001b[0;34m)\u001b[0m\u001b[0;34m\u001b[0m\u001b[0;34m\u001b[0m\u001b[0m\n",
            "\u001b[0;32m/usr/local/lib/python3.6/dist-packages/fastai2/callback/core.py\u001b[0m in \u001b[0;36m__call__\u001b[0;34m(self, event_name)\u001b[0m\n\u001b[1;32m     22\u001b[0m         _run = (event_name not in _inner_loop or (self.run_train and getattr(self, 'training', True)) or\n\u001b[1;32m     23\u001b[0m                (self.run_valid and not getattr(self, 'training', False)))\n\u001b[0;32m---> 24\u001b[0;31m         \u001b[0;32mif\u001b[0m \u001b[0mself\u001b[0m\u001b[0;34m.\u001b[0m\u001b[0mrun\u001b[0m \u001b[0;32mand\u001b[0m \u001b[0m_run\u001b[0m\u001b[0;34m:\u001b[0m \u001b[0mgetattr\u001b[0m\u001b[0;34m(\u001b[0m\u001b[0mself\u001b[0m\u001b[0;34m,\u001b[0m \u001b[0mevent_name\u001b[0m\u001b[0;34m,\u001b[0m \u001b[0mnoop\u001b[0m\u001b[0;34m)\u001b[0m\u001b[0;34m(\u001b[0m\u001b[0;34m)\u001b[0m\u001b[0;34m\u001b[0m\u001b[0;34m\u001b[0m\u001b[0m\n\u001b[0m\u001b[1;32m     25\u001b[0m         \u001b[0;32mif\u001b[0m \u001b[0mevent_name\u001b[0m\u001b[0;34m==\u001b[0m\u001b[0;34m'after_fit'\u001b[0m\u001b[0;34m:\u001b[0m \u001b[0mself\u001b[0m\u001b[0;34m.\u001b[0m\u001b[0mrun\u001b[0m\u001b[0;34m=\u001b[0m\u001b[0;32mTrue\u001b[0m \u001b[0;31m#Reset self.run to True at each end of fit\u001b[0m\u001b[0;34m\u001b[0m\u001b[0;34m\u001b[0m\u001b[0m\n\u001b[1;32m     26\u001b[0m \u001b[0;34m\u001b[0m\u001b[0m\n",
            "\u001b[0;32m/usr/local/lib/python3.6/dist-packages/fastai2/callback/progress.py\u001b[0m in \u001b[0;36mafter_batch\u001b[0;34m(self)\u001b[0m\n\u001b[1;32m     28\u001b[0m     \u001b[0;32mdef\u001b[0m \u001b[0mafter_validate\u001b[0m\u001b[0;34m(\u001b[0m\u001b[0mself\u001b[0m\u001b[0;34m)\u001b[0m\u001b[0;34m:\u001b[0m \u001b[0mself\u001b[0m\u001b[0;34m.\u001b[0m\u001b[0mpbar\u001b[0m\u001b[0;34m.\u001b[0m\u001b[0mon_iter_end\u001b[0m\u001b[0;34m(\u001b[0m\u001b[0;34m)\u001b[0m\u001b[0;34m\u001b[0m\u001b[0;34m\u001b[0m\u001b[0m\n\u001b[1;32m     29\u001b[0m     \u001b[0;32mdef\u001b[0m \u001b[0mafter_batch\u001b[0m\u001b[0;34m(\u001b[0m\u001b[0mself\u001b[0m\u001b[0;34m)\u001b[0m\u001b[0;34m:\u001b[0m\u001b[0;34m\u001b[0m\u001b[0;34m\u001b[0m\u001b[0m\n\u001b[0;32m---> 30\u001b[0;31m         \u001b[0mself\u001b[0m\u001b[0;34m.\u001b[0m\u001b[0mpbar\u001b[0m\u001b[0;34m.\u001b[0m\u001b[0mupdate\u001b[0m\u001b[0;34m(\u001b[0m\u001b[0mself\u001b[0m\u001b[0;34m.\u001b[0m\u001b[0miter\u001b[0m\u001b[0;34m+\u001b[0m\u001b[0;36m1\u001b[0m\u001b[0;34m)\u001b[0m\u001b[0;34m\u001b[0m\u001b[0;34m\u001b[0m\u001b[0m\n\u001b[0m\u001b[1;32m     31\u001b[0m         \u001b[0;32mif\u001b[0m \u001b[0mhasattr\u001b[0m\u001b[0;34m(\u001b[0m\u001b[0mself\u001b[0m\u001b[0;34m,\u001b[0m \u001b[0;34m'smooth_loss'\u001b[0m\u001b[0;34m)\u001b[0m\u001b[0;34m:\u001b[0m \u001b[0mself\u001b[0m\u001b[0;34m.\u001b[0m\u001b[0mpbar\u001b[0m\u001b[0;34m.\u001b[0m\u001b[0mcomment\u001b[0m \u001b[0;34m=\u001b[0m \u001b[0;34mf'{self.smooth_loss:.4f}'\u001b[0m\u001b[0;34m\u001b[0m\u001b[0;34m\u001b[0m\u001b[0m\n\u001b[1;32m     32\u001b[0m \u001b[0;34m\u001b[0m\u001b[0m\n",
            "\u001b[0;32m/usr/local/lib/python3.6/dist-packages/fastprogress/fastprogress.py\u001b[0m in \u001b[0;36mupdate\u001b[0;34m(self, val)\u001b[0m\n\u001b[1;32m     61\u001b[0m             \u001b[0mself\u001b[0m\u001b[0;34m.\u001b[0m\u001b[0mpred_t\u001b[0m \u001b[0;34m=\u001b[0m \u001b[0mavg_t\u001b[0m \u001b[0;34m*\u001b[0m \u001b[0mself\u001b[0m\u001b[0;34m.\u001b[0m\u001b[0mtotal\u001b[0m\u001b[0;34m\u001b[0m\u001b[0;34m\u001b[0m\u001b[0m\n\u001b[1;32m     62\u001b[0m             \u001b[0mself\u001b[0m\u001b[0;34m.\u001b[0m\u001b[0mlast_v\u001b[0m\u001b[0;34m,\u001b[0m\u001b[0mself\u001b[0m\u001b[0;34m.\u001b[0m\u001b[0mlast_t\u001b[0m \u001b[0;34m=\u001b[0m \u001b[0mval\u001b[0m\u001b[0;34m,\u001b[0m\u001b[0mcur_t\u001b[0m\u001b[0;34m\u001b[0m\u001b[0;34m\u001b[0m\u001b[0m\n\u001b[0;32m---> 63\u001b[0;31m             \u001b[0mself\u001b[0m\u001b[0;34m.\u001b[0m\u001b[0mupdate_bar\u001b[0m\u001b[0;34m(\u001b[0m\u001b[0mval\u001b[0m\u001b[0;34m)\u001b[0m\u001b[0;34m\u001b[0m\u001b[0;34m\u001b[0m\u001b[0m\n\u001b[0m\u001b[1;32m     64\u001b[0m             \u001b[0;32mif\u001b[0m \u001b[0mval\u001b[0m \u001b[0;34m>=\u001b[0m \u001b[0mself\u001b[0m\u001b[0;34m.\u001b[0m\u001b[0mtotal\u001b[0m\u001b[0;34m:\u001b[0m\u001b[0;34m\u001b[0m\u001b[0;34m\u001b[0m\u001b[0m\n\u001b[1;32m     65\u001b[0m                 \u001b[0mself\u001b[0m\u001b[0;34m.\u001b[0m\u001b[0mon_iter_end\u001b[0m\u001b[0;34m(\u001b[0m\u001b[0;34m)\u001b[0m\u001b[0;34m\u001b[0m\u001b[0;34m\u001b[0m\u001b[0m\n",
            "\u001b[0;32m/usr/local/lib/python3.6/dist-packages/fastprogress/fastprogress.py\u001b[0m in \u001b[0;36mupdate_bar\u001b[0;34m(self, val)\u001b[0m\n\u001b[1;32m     74\u001b[0m             \u001b[0mwarn\u001b[0m\u001b[0;34m(\u001b[0m\u001b[0;34m\"Your generator is empty.\"\u001b[0m\u001b[0;34m)\u001b[0m\u001b[0;34m\u001b[0m\u001b[0;34m\u001b[0m\u001b[0m\n\u001b[1;32m     75\u001b[0m             \u001b[0mself\u001b[0m\u001b[0;34m.\u001b[0m\u001b[0mon_update\u001b[0m\u001b[0;34m(\u001b[0m\u001b[0;36m0\u001b[0m\u001b[0;34m,\u001b[0m \u001b[0;34m'100% [0/0]'\u001b[0m\u001b[0;34m)\u001b[0m\u001b[0;34m\u001b[0m\u001b[0;34m\u001b[0m\u001b[0m\n\u001b[0;32m---> 76\u001b[0;31m         \u001b[0;32melse\u001b[0m\u001b[0;34m:\u001b[0m \u001b[0mself\u001b[0m\u001b[0;34m.\u001b[0m\u001b[0mon_update\u001b[0m\u001b[0;34m(\u001b[0m\u001b[0mval\u001b[0m\u001b[0;34m,\u001b[0m \u001b[0;34mf'{100 * val/self.total:.2f}% [{val}/{self.total} {elapsed_t}<{remaining_t}{end}]'\u001b[0m\u001b[0;34m)\u001b[0m\u001b[0;34m\u001b[0m\u001b[0;34m\u001b[0m\u001b[0m\n\u001b[0m\u001b[1;32m     77\u001b[0m \u001b[0;34m\u001b[0m\u001b[0m\n\u001b[1;32m     78\u001b[0m \u001b[0;31m# Cell\u001b[0m\u001b[0;34m\u001b[0m\u001b[0;34m\u001b[0m\u001b[0;34m\u001b[0m\u001b[0m\n",
            "\u001b[0;32m/usr/local/lib/python3.6/dist-packages/fastprogress/fastprogress.py\u001b[0m in \u001b[0;36mon_update\u001b[0;34m(self, val, text, interrupted)\u001b[0m\n\u001b[1;32m    124\u001b[0m         \u001b[0mself\u001b[0m\u001b[0;34m.\u001b[0m\u001b[0mprogress\u001b[0m \u001b[0;34m=\u001b[0m \u001b[0mhtml_progress_bar\u001b[0m\u001b[0;34m(\u001b[0m\u001b[0mval\u001b[0m\u001b[0;34m,\u001b[0m \u001b[0mself\u001b[0m\u001b[0;34m.\u001b[0m\u001b[0mtotal\u001b[0m\u001b[0;34m,\u001b[0m \u001b[0mtext\u001b[0m\u001b[0;34m,\u001b[0m \u001b[0minterrupted\u001b[0m\u001b[0;34m)\u001b[0m\u001b[0;34m\u001b[0m\u001b[0;34m\u001b[0m\u001b[0m\n\u001b[1;32m    125\u001b[0m         \u001b[0;32mif\u001b[0m \u001b[0mself\u001b[0m\u001b[0;34m.\u001b[0m\u001b[0mdisplay\u001b[0m\u001b[0;34m:\u001b[0m \u001b[0mself\u001b[0m\u001b[0;34m.\u001b[0m\u001b[0mout\u001b[0m\u001b[0;34m.\u001b[0m\u001b[0mupdate\u001b[0m\u001b[0;34m(\u001b[0m\u001b[0mHTML\u001b[0m\u001b[0;34m(\u001b[0m\u001b[0mself\u001b[0m\u001b[0;34m.\u001b[0m\u001b[0mprogress\u001b[0m\u001b[0;34m)\u001b[0m\u001b[0;34m)\u001b[0m\u001b[0;34m\u001b[0m\u001b[0;34m\u001b[0m\u001b[0m\n\u001b[0;32m--> 126\u001b[0;31m         \u001b[0;32melif\u001b[0m \u001b[0mself\u001b[0m\u001b[0;34m.\u001b[0m\u001b[0mparent\u001b[0m \u001b[0;32mis\u001b[0m \u001b[0;32mnot\u001b[0m \u001b[0;32mNone\u001b[0m\u001b[0;34m:\u001b[0m \u001b[0mself\u001b[0m\u001b[0;34m.\u001b[0m\u001b[0mparent\u001b[0m\u001b[0;34m.\u001b[0m\u001b[0mshow\u001b[0m\u001b[0;34m(\u001b[0m\u001b[0;34m)\u001b[0m\u001b[0;34m\u001b[0m\u001b[0;34m\u001b[0m\u001b[0m\n\u001b[0m\u001b[1;32m    127\u001b[0m \u001b[0;34m\u001b[0m\u001b[0m\n\u001b[1;32m    128\u001b[0m \u001b[0;31m# Cell\u001b[0m\u001b[0;34m\u001b[0m\u001b[0;34m\u001b[0m\u001b[0;34m\u001b[0m\u001b[0m\n",
            "\u001b[0;32m/usr/local/lib/python3.6/dist-packages/fastprogress/fastprogress.py\u001b[0m in \u001b[0;36mshow\u001b[0;34m(self)\u001b[0m\n\u001b[1;32m    166\u001b[0m         \u001b[0mto_show\u001b[0m \u001b[0;34m=\u001b[0m \u001b[0;34m[\u001b[0m\u001b[0mname\u001b[0m \u001b[0;32mfor\u001b[0m \u001b[0mname\u001b[0m \u001b[0;32min\u001b[0m \u001b[0mself\u001b[0m\u001b[0;34m.\u001b[0m\u001b[0morder\u001b[0m \u001b[0;32mif\u001b[0m \u001b[0mname\u001b[0m \u001b[0;32min\u001b[0m \u001b[0mself\u001b[0m\u001b[0;34m.\u001b[0m\u001b[0minner_dict\u001b[0m\u001b[0;34m.\u001b[0m\u001b[0mkeys\u001b[0m\u001b[0;34m(\u001b[0m\u001b[0;34m)\u001b[0m\u001b[0;34m]\u001b[0m\u001b[0;34m\u001b[0m\u001b[0;34m\u001b[0m\u001b[0m\n\u001b[1;32m    167\u001b[0m         \u001b[0mself\u001b[0m\u001b[0;34m.\u001b[0m\u001b[0mhtml_code\u001b[0m \u001b[0;34m=\u001b[0m \u001b[0;34m'\\n'\u001b[0m\u001b[0;34m.\u001b[0m\u001b[0mjoin\u001b[0m\u001b[0;34m(\u001b[0m\u001b[0;34m[\u001b[0m\u001b[0mgetattr\u001b[0m\u001b[0;34m(\u001b[0m\u001b[0mself\u001b[0m\u001b[0;34m.\u001b[0m\u001b[0minner_dict\u001b[0m\u001b[0;34m[\u001b[0m\u001b[0mn\u001b[0m\u001b[0;34m]\u001b[0m\u001b[0;34m,\u001b[0m \u001b[0;34m'progress'\u001b[0m\u001b[0;34m,\u001b[0m \u001b[0mself\u001b[0m\u001b[0;34m.\u001b[0m\u001b[0minner_dict\u001b[0m\u001b[0;34m[\u001b[0m\u001b[0mn\u001b[0m\u001b[0;34m]\u001b[0m\u001b[0;34m)\u001b[0m \u001b[0;32mfor\u001b[0m \u001b[0mn\u001b[0m \u001b[0;32min\u001b[0m \u001b[0mto_show\u001b[0m\u001b[0;34m]\u001b[0m\u001b[0;34m)\u001b[0m\u001b[0;34m\u001b[0m\u001b[0;34m\u001b[0m\u001b[0m\n\u001b[0;32m--> 168\u001b[0;31m         \u001b[0mself\u001b[0m\u001b[0;34m.\u001b[0m\u001b[0mout\u001b[0m\u001b[0;34m.\u001b[0m\u001b[0mupdate\u001b[0m\u001b[0;34m(\u001b[0m\u001b[0mHTML\u001b[0m\u001b[0;34m(\u001b[0m\u001b[0mself\u001b[0m\u001b[0;34m.\u001b[0m\u001b[0mhtml_code\u001b[0m\u001b[0;34m)\u001b[0m\u001b[0;34m)\u001b[0m\u001b[0;34m\u001b[0m\u001b[0;34m\u001b[0m\u001b[0m\n\u001b[0m\u001b[1;32m    169\u001b[0m \u001b[0;34m\u001b[0m\u001b[0m\n\u001b[1;32m    170\u001b[0m     \u001b[0;32mdef\u001b[0m \u001b[0mwrite\u001b[0m\u001b[0;34m(\u001b[0m\u001b[0mself\u001b[0m\u001b[0;34m,\u001b[0m \u001b[0mline\u001b[0m\u001b[0;34m,\u001b[0m \u001b[0mtable\u001b[0m\u001b[0;34m=\u001b[0m\u001b[0;32mFalse\u001b[0m\u001b[0;34m)\u001b[0m\u001b[0;34m:\u001b[0m\u001b[0;34m\u001b[0m\u001b[0;34m\u001b[0m\u001b[0m\n",
            "\u001b[0;32m/usr/local/lib/python3.6/dist-packages/IPython/core/display.py\u001b[0m in \u001b[0;36mupdate\u001b[0;34m(self, obj, **kwargs)\u001b[0m\n\u001b[1;32m    388\u001b[0m             \u001b[0madditional\u001b[0m \u001b[0mkeyword\u001b[0m \u001b[0marguments\u001b[0m \u001b[0mpassed\u001b[0m \u001b[0mto\u001b[0m \u001b[0mupdate_display\u001b[0m\u001b[0;34m\u001b[0m\u001b[0;34m\u001b[0m\u001b[0m\n\u001b[1;32m    389\u001b[0m         \"\"\"\n\u001b[0;32m--> 390\u001b[0;31m         \u001b[0mupdate_display\u001b[0m\u001b[0;34m(\u001b[0m\u001b[0mobj\u001b[0m\u001b[0;34m,\u001b[0m \u001b[0mdisplay_id\u001b[0m\u001b[0;34m=\u001b[0m\u001b[0mself\u001b[0m\u001b[0;34m.\u001b[0m\u001b[0mdisplay_id\u001b[0m\u001b[0;34m,\u001b[0m \u001b[0;34m**\u001b[0m\u001b[0mkwargs\u001b[0m\u001b[0;34m)\u001b[0m\u001b[0;34m\u001b[0m\u001b[0;34m\u001b[0m\u001b[0m\n\u001b[0m\u001b[1;32m    391\u001b[0m \u001b[0;34m\u001b[0m\u001b[0m\n\u001b[1;32m    392\u001b[0m \u001b[0;34m\u001b[0m\u001b[0m\n",
            "\u001b[0;32m/usr/local/lib/python3.6/dist-packages/IPython/core/display.py\u001b[0m in \u001b[0;36mupdate_display\u001b[0;34m(obj, **kwargs)\u001b[0m\n\u001b[1;32m    338\u001b[0m         \u001b[0;32mraise\u001b[0m \u001b[0mTypeError\u001b[0m\u001b[0;34m(\u001b[0m\u001b[0;34m\"update_display() missing 1 required keyword-only argument: 'display_id'\"\u001b[0m\u001b[0;34m)\u001b[0m\u001b[0;34m\u001b[0m\u001b[0;34m\u001b[0m\u001b[0m\n\u001b[1;32m    339\u001b[0m     \u001b[0mkwargs\u001b[0m\u001b[0;34m[\u001b[0m\u001b[0;34m'update'\u001b[0m\u001b[0;34m]\u001b[0m \u001b[0;34m=\u001b[0m \u001b[0;32mTrue\u001b[0m\u001b[0;34m\u001b[0m\u001b[0;34m\u001b[0m\u001b[0m\n\u001b[0;32m--> 340\u001b[0;31m     \u001b[0mdisplay\u001b[0m\u001b[0;34m(\u001b[0m\u001b[0mobj\u001b[0m\u001b[0;34m,\u001b[0m \u001b[0mdisplay_id\u001b[0m\u001b[0;34m=\u001b[0m\u001b[0mdisplay_id\u001b[0m\u001b[0;34m,\u001b[0m \u001b[0;34m**\u001b[0m\u001b[0mkwargs\u001b[0m\u001b[0;34m)\u001b[0m\u001b[0;34m\u001b[0m\u001b[0;34m\u001b[0m\u001b[0m\n\u001b[0m\u001b[1;32m    341\u001b[0m \u001b[0;34m\u001b[0m\u001b[0m\n\u001b[1;32m    342\u001b[0m \u001b[0;34m\u001b[0m\u001b[0m\n",
            "\u001b[0;32m/usr/local/lib/python3.6/dist-packages/IPython/core/display.py\u001b[0m in \u001b[0;36mdisplay\u001b[0;34m(*objs, **kwargs)\u001b[0m\n\u001b[1;32m    304\u001b[0m             \u001b[0mpublish_display_data\u001b[0m\u001b[0;34m(\u001b[0m\u001b[0mdata\u001b[0m\u001b[0;34m=\u001b[0m\u001b[0mobj\u001b[0m\u001b[0;34m,\u001b[0m \u001b[0mmetadata\u001b[0m\u001b[0;34m=\u001b[0m\u001b[0mmetadata\u001b[0m\u001b[0;34m,\u001b[0m \u001b[0;34m**\u001b[0m\u001b[0mkwargs\u001b[0m\u001b[0;34m)\u001b[0m\u001b[0;34m\u001b[0m\u001b[0;34m\u001b[0m\u001b[0m\n\u001b[1;32m    305\u001b[0m         \u001b[0;32melse\u001b[0m\u001b[0;34m:\u001b[0m\u001b[0;34m\u001b[0m\u001b[0;34m\u001b[0m\u001b[0m\n\u001b[0;32m--> 306\u001b[0;31m             \u001b[0mformat_dict\u001b[0m\u001b[0;34m,\u001b[0m \u001b[0mmd_dict\u001b[0m \u001b[0;34m=\u001b[0m \u001b[0mformat\u001b[0m\u001b[0;34m(\u001b[0m\u001b[0mobj\u001b[0m\u001b[0;34m,\u001b[0m \u001b[0minclude\u001b[0m\u001b[0;34m=\u001b[0m\u001b[0minclude\u001b[0m\u001b[0;34m,\u001b[0m \u001b[0mexclude\u001b[0m\u001b[0;34m=\u001b[0m\u001b[0mexclude\u001b[0m\u001b[0;34m)\u001b[0m\u001b[0;34m\u001b[0m\u001b[0;34m\u001b[0m\u001b[0m\n\u001b[0m\u001b[1;32m    307\u001b[0m             \u001b[0;32mif\u001b[0m \u001b[0;32mnot\u001b[0m \u001b[0mformat_dict\u001b[0m\u001b[0;34m:\u001b[0m\u001b[0;34m\u001b[0m\u001b[0;34m\u001b[0m\u001b[0m\n\u001b[1;32m    308\u001b[0m                 \u001b[0;31m# nothing to display (e.g. _ipython_display_ took over)\u001b[0m\u001b[0;34m\u001b[0m\u001b[0;34m\u001b[0m\u001b[0;34m\u001b[0m\u001b[0m\n",
            "\u001b[0;32m/usr/local/lib/python3.6/dist-packages/IPython/core/formatters.py\u001b[0m in \u001b[0;36mformat\u001b[0;34m(self, obj, include, exclude)\u001b[0m\n\u001b[1;32m    171\u001b[0m             \u001b[0mmd\u001b[0m \u001b[0;34m=\u001b[0m \u001b[0;32mNone\u001b[0m\u001b[0;34m\u001b[0m\u001b[0;34m\u001b[0m\u001b[0m\n\u001b[1;32m    172\u001b[0m             \u001b[0;32mtry\u001b[0m\u001b[0;34m:\u001b[0m\u001b[0;34m\u001b[0m\u001b[0;34m\u001b[0m\u001b[0m\n\u001b[0;32m--> 173\u001b[0;31m                 \u001b[0mdata\u001b[0m \u001b[0;34m=\u001b[0m \u001b[0mformatter\u001b[0m\u001b[0;34m(\u001b[0m\u001b[0mobj\u001b[0m\u001b[0;34m)\u001b[0m\u001b[0;34m\u001b[0m\u001b[0;34m\u001b[0m\u001b[0m\n\u001b[0m\u001b[1;32m    174\u001b[0m             \u001b[0;32mexcept\u001b[0m\u001b[0;34m:\u001b[0m\u001b[0;34m\u001b[0m\u001b[0;34m\u001b[0m\u001b[0m\n\u001b[1;32m    175\u001b[0m                 \u001b[0;31m# FIXME: log the exception\u001b[0m\u001b[0;34m\u001b[0m\u001b[0;34m\u001b[0m\u001b[0;34m\u001b[0m\u001b[0m\n",
            "\u001b[0;32m<decorator-gen-9>\u001b[0m in \u001b[0;36m__call__\u001b[0;34m(self, obj)\u001b[0m\n",
            "\u001b[0;32m/usr/local/lib/python3.6/dist-packages/IPython/core/formatters.py\u001b[0m in \u001b[0;36mcatch_format_error\u001b[0;34m(method, self, *args, **kwargs)\u001b[0m\n\u001b[1;32m    215\u001b[0m     \u001b[0;34m\"\"\"show traceback on failed format call\"\"\"\u001b[0m\u001b[0;34m\u001b[0m\u001b[0;34m\u001b[0m\u001b[0m\n\u001b[1;32m    216\u001b[0m     \u001b[0;32mtry\u001b[0m\u001b[0;34m:\u001b[0m\u001b[0;34m\u001b[0m\u001b[0;34m\u001b[0m\u001b[0m\n\u001b[0;32m--> 217\u001b[0;31m         \u001b[0mr\u001b[0m \u001b[0;34m=\u001b[0m \u001b[0mmethod\u001b[0m\u001b[0;34m(\u001b[0m\u001b[0mself\u001b[0m\u001b[0;34m,\u001b[0m \u001b[0;34m*\u001b[0m\u001b[0margs\u001b[0m\u001b[0;34m,\u001b[0m \u001b[0;34m**\u001b[0m\u001b[0mkwargs\u001b[0m\u001b[0;34m)\u001b[0m\u001b[0;34m\u001b[0m\u001b[0;34m\u001b[0m\u001b[0m\n\u001b[0m\u001b[1;32m    218\u001b[0m     \u001b[0;32mexcept\u001b[0m \u001b[0mNotImplementedError\u001b[0m\u001b[0;34m:\u001b[0m\u001b[0;34m\u001b[0m\u001b[0;34m\u001b[0m\u001b[0m\n\u001b[1;32m    219\u001b[0m         \u001b[0;31m# don't warn on NotImplementedErrors\u001b[0m\u001b[0;34m\u001b[0m\u001b[0;34m\u001b[0m\u001b[0;34m\u001b[0m\u001b[0m\n",
            "\u001b[0;32m/usr/local/lib/python3.6/dist-packages/IPython/core/formatters.py\u001b[0m in \u001b[0;36m__call__\u001b[0;34m(self, obj)\u001b[0m\n\u001b[1;32m    328\u001b[0m             \u001b[0;31m# lookup registered printer\u001b[0m\u001b[0;34m\u001b[0m\u001b[0;34m\u001b[0m\u001b[0;34m\u001b[0m\u001b[0m\n\u001b[1;32m    329\u001b[0m             \u001b[0;32mtry\u001b[0m\u001b[0;34m:\u001b[0m\u001b[0;34m\u001b[0m\u001b[0;34m\u001b[0m\u001b[0m\n\u001b[0;32m--> 330\u001b[0;31m                 \u001b[0mprinter\u001b[0m \u001b[0;34m=\u001b[0m \u001b[0mself\u001b[0m\u001b[0;34m.\u001b[0m\u001b[0mlookup\u001b[0m\u001b[0;34m(\u001b[0m\u001b[0mobj\u001b[0m\u001b[0;34m)\u001b[0m\u001b[0;34m\u001b[0m\u001b[0;34m\u001b[0m\u001b[0m\n\u001b[0m\u001b[1;32m    331\u001b[0m             \u001b[0;32mexcept\u001b[0m \u001b[0mKeyError\u001b[0m\u001b[0;34m:\u001b[0m\u001b[0;34m\u001b[0m\u001b[0;34m\u001b[0m\u001b[0m\n\u001b[1;32m    332\u001b[0m                 \u001b[0;32mpass\u001b[0m\u001b[0;34m\u001b[0m\u001b[0;34m\u001b[0m\u001b[0m\n",
            "\u001b[0;32m/usr/local/lib/python3.6/dist-packages/IPython/core/formatters.py\u001b[0m in \u001b[0;36mlookup\u001b[0;34m(self, obj)\u001b[0m\n\u001b[1;32m    386\u001b[0m             \u001b[0;32mreturn\u001b[0m \u001b[0mself\u001b[0m\u001b[0;34m.\u001b[0m\u001b[0msingleton_printers\u001b[0m\u001b[0;34m[\u001b[0m\u001b[0mobj_id\u001b[0m\u001b[0;34m]\u001b[0m\u001b[0;34m\u001b[0m\u001b[0;34m\u001b[0m\u001b[0m\n\u001b[1;32m    387\u001b[0m         \u001b[0;31m# then lookup by type\u001b[0m\u001b[0;34m\u001b[0m\u001b[0;34m\u001b[0m\u001b[0;34m\u001b[0m\u001b[0m\n\u001b[0;32m--> 388\u001b[0;31m         \u001b[0;32mreturn\u001b[0m \u001b[0mself\u001b[0m\u001b[0;34m.\u001b[0m\u001b[0mlookup_by_type\u001b[0m\u001b[0;34m(\u001b[0m\u001b[0m_get_type\u001b[0m\u001b[0;34m(\u001b[0m\u001b[0mobj\u001b[0m\u001b[0;34m)\u001b[0m\u001b[0;34m)\u001b[0m\u001b[0;34m\u001b[0m\u001b[0;34m\u001b[0m\u001b[0m\n\u001b[0m\u001b[1;32m    389\u001b[0m \u001b[0;34m\u001b[0m\u001b[0m\n\u001b[1;32m    390\u001b[0m     \u001b[0;32mdef\u001b[0m \u001b[0mlookup_by_type\u001b[0m\u001b[0;34m(\u001b[0m\u001b[0mself\u001b[0m\u001b[0;34m,\u001b[0m \u001b[0mtyp\u001b[0m\u001b[0;34m)\u001b[0m\u001b[0;34m:\u001b[0m\u001b[0;34m\u001b[0m\u001b[0;34m\u001b[0m\u001b[0m\n",
            "\u001b[0;32m/usr/local/lib/python3.6/dist-packages/IPython/core/formatters.py\u001b[0m in \u001b[0;36mlookup_by_type\u001b[0;34m(self, typ)\u001b[0m\n\u001b[1;32m    416\u001b[0m         \u001b[0;32melse\u001b[0m\u001b[0;34m:\u001b[0m\u001b[0;34m\u001b[0m\u001b[0;34m\u001b[0m\u001b[0m\n\u001b[1;32m    417\u001b[0m             \u001b[0;32mfor\u001b[0m \u001b[0mcls\u001b[0m \u001b[0;32min\u001b[0m \u001b[0mpretty\u001b[0m\u001b[0;34m.\u001b[0m\u001b[0m_get_mro\u001b[0m\u001b[0;34m(\u001b[0m\u001b[0mtyp\u001b[0m\u001b[0;34m)\u001b[0m\u001b[0;34m:\u001b[0m\u001b[0;34m\u001b[0m\u001b[0;34m\u001b[0m\u001b[0m\n\u001b[0;32m--> 418\u001b[0;31m                 \u001b[0;32mif\u001b[0m \u001b[0mcls\u001b[0m \u001b[0;32min\u001b[0m \u001b[0mself\u001b[0m\u001b[0;34m.\u001b[0m\u001b[0mtype_printers\u001b[0m \u001b[0;32mor\u001b[0m \u001b[0mself\u001b[0m\u001b[0;34m.\u001b[0m\u001b[0m_in_deferred_types\u001b[0m\u001b[0;34m(\u001b[0m\u001b[0mcls\u001b[0m\u001b[0;34m)\u001b[0m\u001b[0;34m:\u001b[0m\u001b[0;34m\u001b[0m\u001b[0;34m\u001b[0m\u001b[0m\n\u001b[0m\u001b[1;32m    419\u001b[0m                     \u001b[0;32mreturn\u001b[0m \u001b[0mself\u001b[0m\u001b[0;34m.\u001b[0m\u001b[0mtype_printers\u001b[0m\u001b[0;34m[\u001b[0m\u001b[0mcls\u001b[0m\u001b[0;34m]\u001b[0m\u001b[0;34m\u001b[0m\u001b[0;34m\u001b[0m\u001b[0m\n\u001b[1;32m    420\u001b[0m \u001b[0;34m\u001b[0m\u001b[0m\n",
            "\u001b[0;32m/usr/local/lib/python3.6/dist-packages/IPython/core/formatters.py\u001b[0m in \u001b[0;36m_in_deferred_types\u001b[0;34m(self, cls)\u001b[0m\n\u001b[1;32m    550\u001b[0m         \u001b[0mname\u001b[0m \u001b[0;34m=\u001b[0m \u001b[0mgetattr\u001b[0m\u001b[0;34m(\u001b[0m\u001b[0mcls\u001b[0m\u001b[0;34m,\u001b[0m \u001b[0;34m'__name__'\u001b[0m\u001b[0;34m,\u001b[0m \u001b[0;32mNone\u001b[0m\u001b[0;34m)\u001b[0m\u001b[0;34m\u001b[0m\u001b[0;34m\u001b[0m\u001b[0m\n\u001b[1;32m    551\u001b[0m         \u001b[0mkey\u001b[0m \u001b[0;34m=\u001b[0m \u001b[0;34m(\u001b[0m\u001b[0mmod\u001b[0m\u001b[0;34m,\u001b[0m \u001b[0mname\u001b[0m\u001b[0;34m)\u001b[0m\u001b[0;34m\u001b[0m\u001b[0;34m\u001b[0m\u001b[0m\n\u001b[0;32m--> 552\u001b[0;31m         \u001b[0;32mif\u001b[0m \u001b[0mkey\u001b[0m \u001b[0;32min\u001b[0m \u001b[0mself\u001b[0m\u001b[0;34m.\u001b[0m\u001b[0mdeferred_printers\u001b[0m\u001b[0;34m:\u001b[0m\u001b[0;34m\u001b[0m\u001b[0;34m\u001b[0m\u001b[0m\n\u001b[0m\u001b[1;32m    553\u001b[0m             \u001b[0;31m# Move the printer over to the regular registry.\u001b[0m\u001b[0;34m\u001b[0m\u001b[0;34m\u001b[0m\u001b[0;34m\u001b[0m\u001b[0m\n\u001b[1;32m    554\u001b[0m             \u001b[0mprinter\u001b[0m \u001b[0;34m=\u001b[0m \u001b[0mself\u001b[0m\u001b[0;34m.\u001b[0m\u001b[0mdeferred_printers\u001b[0m\u001b[0;34m.\u001b[0m\u001b[0mpop\u001b[0m\u001b[0;34m(\u001b[0m\u001b[0mkey\u001b[0m\u001b[0;34m)\u001b[0m\u001b[0;34m\u001b[0m\u001b[0;34m\u001b[0m\u001b[0m\n",
            "\u001b[0;32m/usr/local/lib/python3.6/dist-packages/traitlets/traitlets.py\u001b[0m in \u001b[0;36m__get__\u001b[0;34m(self, obj, cls)\u001b[0m\n\u001b[1;32m    554\u001b[0m             \u001b[0;32mreturn\u001b[0m \u001b[0mself\u001b[0m\u001b[0;34m\u001b[0m\u001b[0;34m\u001b[0m\u001b[0m\n\u001b[1;32m    555\u001b[0m         \u001b[0;32melse\u001b[0m\u001b[0;34m:\u001b[0m\u001b[0;34m\u001b[0m\u001b[0;34m\u001b[0m\u001b[0m\n\u001b[0;32m--> 556\u001b[0;31m             \u001b[0;32mreturn\u001b[0m \u001b[0mself\u001b[0m\u001b[0;34m.\u001b[0m\u001b[0mget\u001b[0m\u001b[0;34m(\u001b[0m\u001b[0mobj\u001b[0m\u001b[0;34m,\u001b[0m \u001b[0mcls\u001b[0m\u001b[0;34m)\u001b[0m\u001b[0;34m\u001b[0m\u001b[0;34m\u001b[0m\u001b[0m\n\u001b[0m\u001b[1;32m    557\u001b[0m \u001b[0;34m\u001b[0m\u001b[0m\n\u001b[1;32m    558\u001b[0m     \u001b[0;32mdef\u001b[0m \u001b[0mset\u001b[0m\u001b[0;34m(\u001b[0m\u001b[0mself\u001b[0m\u001b[0;34m,\u001b[0m \u001b[0mobj\u001b[0m\u001b[0;34m,\u001b[0m \u001b[0mvalue\u001b[0m\u001b[0;34m)\u001b[0m\u001b[0;34m:\u001b[0m\u001b[0;34m\u001b[0m\u001b[0;34m\u001b[0m\u001b[0m\n",
            "\u001b[0;32m/usr/local/lib/python3.6/dist-packages/traitlets/traitlets.py\u001b[0m in \u001b[0;36mget\u001b[0;34m(self, obj, cls)\u001b[0m\n\u001b[1;32m    526\u001b[0m     \u001b[0;32mdef\u001b[0m \u001b[0mget\u001b[0m\u001b[0;34m(\u001b[0m\u001b[0mself\u001b[0m\u001b[0;34m,\u001b[0m \u001b[0mobj\u001b[0m\u001b[0;34m,\u001b[0m \u001b[0mcls\u001b[0m\u001b[0;34m=\u001b[0m\u001b[0;32mNone\u001b[0m\u001b[0;34m)\u001b[0m\u001b[0;34m:\u001b[0m\u001b[0;34m\u001b[0m\u001b[0;34m\u001b[0m\u001b[0m\n\u001b[1;32m    527\u001b[0m         \u001b[0;32mtry\u001b[0m\u001b[0;34m:\u001b[0m\u001b[0;34m\u001b[0m\u001b[0;34m\u001b[0m\u001b[0m\n\u001b[0;32m--> 528\u001b[0;31m             \u001b[0mvalue\u001b[0m \u001b[0;34m=\u001b[0m \u001b[0mobj\u001b[0m\u001b[0;34m.\u001b[0m\u001b[0m_trait_values\u001b[0m\u001b[0;34m[\u001b[0m\u001b[0mself\u001b[0m\u001b[0;34m.\u001b[0m\u001b[0mname\u001b[0m\u001b[0;34m]\u001b[0m\u001b[0;34m\u001b[0m\u001b[0;34m\u001b[0m\u001b[0m\n\u001b[0m\u001b[1;32m    529\u001b[0m         \u001b[0;32mexcept\u001b[0m \u001b[0mKeyError\u001b[0m\u001b[0;34m:\u001b[0m\u001b[0;34m\u001b[0m\u001b[0;34m\u001b[0m\u001b[0m\n\u001b[1;32m    530\u001b[0m             \u001b[0;31m# Check for a dynamic initializer.\u001b[0m\u001b[0;34m\u001b[0m\u001b[0;34m\u001b[0m\u001b[0;34m\u001b[0m\u001b[0m\n",
            "\u001b[0;31mKeyboardInterrupt\u001b[0m: "
          ]
        }
      ]
    },
    {
      "cell_type": "markdown",
      "metadata": {
        "id": "1ISEwiB1i5bJ",
        "colab_type": "text"
      },
      "source": [
        "Now let's save that model away"
      ]
    },
    {
      "cell_type": "code",
      "metadata": {
        "id": "X9L2N3x-i5bJ",
        "colab_type": "code",
        "colab": {}
      },
      "source": [
        "learn.save('model_1')"
      ],
      "execution_count": 0,
      "outputs": []
    },
    {
      "cell_type": "markdown",
      "metadata": {
        "id": "zqOxILqji5bM",
        "colab_type": "text"
      },
      "source": [
        "And look at a few results"
      ]
    },
    {
      "cell_type": "code",
      "metadata": {
        "id": "N9HVmD-gi5bM",
        "colab_type": "code",
        "colab": {}
      },
      "source": [
        "learn.show_results(max_n=4, figsize=(18,8))"
      ],
      "execution_count": 0,
      "outputs": []
    },
    {
      "cell_type": "markdown",
      "metadata": {
        "id": "Ibuhn1aUi5bO",
        "colab_type": "text"
      },
      "source": [
        "# Inference\n",
        "\n",
        "Let's take a look at how to do inference with `test_dl`"
      ]
    },
    {
      "cell_type": "code",
      "metadata": {
        "id": "q1GXx6KPi5bO",
        "colab_type": "code",
        "colab": {}
      },
      "source": [
        "dl = learn.dls.test_dl(fnames[:5])"
      ],
      "execution_count": 0,
      "outputs": []
    },
    {
      "cell_type": "code",
      "metadata": {
        "id": "9c3MyXgUi5bP",
        "colab_type": "code",
        "colab": {}
      },
      "source": [
        "dl.show_batch()"
      ],
      "execution_count": 0,
      "outputs": []
    },
    {
      "cell_type": "markdown",
      "metadata": {
        "id": "JiIIlFeVi5bR",
        "colab_type": "text"
      },
      "source": [
        "Let's do the first five pictures"
      ]
    },
    {
      "cell_type": "code",
      "metadata": {
        "id": "LvIoh5FVi5bS",
        "colab_type": "code",
        "colab": {}
      },
      "source": [
        "preds = learn.get_preds(dl=dl)"
      ],
      "execution_count": 0,
      "outputs": []
    },
    {
      "cell_type": "code",
      "metadata": {
        "id": "E0o9t-xDi5bT",
        "colab_type": "code",
        "colab": {}
      },
      "source": [
        "preds[0].shape"
      ],
      "execution_count": 0,
      "outputs": []
    },
    {
      "cell_type": "markdown",
      "metadata": {
        "id": "Lm-6JPVDi5bV",
        "colab_type": "text"
      },
      "source": [
        "Alright so we have a 5x32x360x480"
      ]
    },
    {
      "cell_type": "code",
      "metadata": {
        "id": "Z8spy-TUi5bV",
        "colab_type": "code",
        "colab": {}
      },
      "source": [
        "len(codes)"
      ],
      "execution_count": 0,
      "outputs": []
    },
    {
      "cell_type": "markdown",
      "metadata": {
        "id": "G68wjMlsi5bW",
        "colab_type": "text"
      },
      "source": [
        "What does this mean? We had five images, so each one is one of our five images in our batch. Let's look at the first"
      ]
    },
    {
      "cell_type": "code",
      "metadata": {
        "id": "uLkut7Fbi5bX",
        "colab_type": "code",
        "colab": {}
      },
      "source": [
        "pred_1 = preds[0][0]"
      ],
      "execution_count": 0,
      "outputs": []
    },
    {
      "cell_type": "code",
      "metadata": {
        "id": "_ncelngwi5bY",
        "colab_type": "code",
        "colab": {}
      },
      "source": [
        "pred_1.shape"
      ],
      "execution_count": 0,
      "outputs": []
    },
    {
      "cell_type": "markdown",
      "metadata": {
        "id": "qpT0NaKhi5ba",
        "colab_type": "text"
      },
      "source": [
        "Now let's take the argmax of our values"
      ]
    },
    {
      "cell_type": "code",
      "metadata": {
        "id": "NpjLdROBi5bb",
        "colab_type": "code",
        "colab": {}
      },
      "source": [
        "pred_arx = pred_1.argmax(dim=0)"
      ],
      "execution_count": 0,
      "outputs": []
    },
    {
      "cell_type": "markdown",
      "metadata": {
        "id": "AuUAT9Dxi5bc",
        "colab_type": "text"
      },
      "source": [
        "And look at it"
      ]
    },
    {
      "cell_type": "code",
      "metadata": {
        "id": "D59SHeQ0i5bc",
        "colab_type": "code",
        "colab": {}
      },
      "source": [
        "plt.imshow(pred_arx)"
      ],
      "execution_count": 0,
      "outputs": []
    },
    {
      "cell_type": "markdown",
      "metadata": {
        "id": "h6TULqlqi5be",
        "colab_type": "text"
      },
      "source": [
        "What do we do from here? We need to save it away. We can do this one of two ways, as a numpy array to image, and as a tensor (to say use later rawly)"
      ]
    },
    {
      "cell_type": "code",
      "metadata": {
        "id": "H7CleRlBi5bg",
        "colab_type": "code",
        "colab": {}
      },
      "source": [
        "pred_arx = pred_arx.numpy()"
      ],
      "execution_count": 0,
      "outputs": []
    },
    {
      "cell_type": "code",
      "metadata": {
        "id": "YfAlOjhIi5bh",
        "colab_type": "code",
        "colab": {}
      },
      "source": [
        "rescaled = (255.0 / pred_arx.max() * (pred_arx - pred_arx.min())).astype(np.uint8)"
      ],
      "execution_count": 0,
      "outputs": []
    },
    {
      "cell_type": "code",
      "metadata": {
        "id": "KAAdhStKi5bl",
        "colab_type": "code",
        "colab": {}
      },
      "source": [
        "im = Image.fromarray(rescaled)"
      ],
      "execution_count": 0,
      "outputs": []
    },
    {
      "cell_type": "code",
      "metadata": {
        "id": "6IQZp1Mli5bm",
        "colab_type": "code",
        "colab": {}
      },
      "source": [
        "im"
      ],
      "execution_count": 0,
      "outputs": []
    },
    {
      "cell_type": "code",
      "metadata": {
        "id": "AhdnD9sXi5bn",
        "colab_type": "code",
        "colab": {}
      },
      "source": [
        "im.save('test.png')"
      ],
      "execution_count": 0,
      "outputs": []
    },
    {
      "cell_type": "markdown",
      "metadata": {
        "id": "Ce6-fofOi5bp",
        "colab_type": "text"
      },
      "source": [
        "Let's make a function to do so for our files"
      ]
    },
    {
      "cell_type": "code",
      "metadata": {
        "id": "q3xUB7sqi5bp",
        "colab_type": "code",
        "colab": {}
      },
      "source": [
        "for i, pred in enumerate(preds[0]):\n",
        "  pred_arg = pred.argmax(dim=0).numpy()\n",
        "  rescaled = (255.0 / pred_arg.max() * (pred_arg - pred_arg.min())).astype(np.uint8)\n",
        "  im = Image.fromarray(rescaled)\n",
        "  im.save(f'Image_{i}.png')"
      ],
      "execution_count": 0,
      "outputs": []
    },
    {
      "cell_type": "markdown",
      "metadata": {
        "id": "zP0zWaCli5br",
        "colab_type": "text"
      },
      "source": [
        "Now let's save away the raw:"
      ]
    },
    {
      "cell_type": "code",
      "metadata": {
        "id": "LWOI4HObi5br",
        "colab_type": "code",
        "colab": {}
      },
      "source": [
        "torch.save(preds[0][0], 'Image_1.pt')"
      ],
      "execution_count": 0,
      "outputs": []
    },
    {
      "cell_type": "code",
      "metadata": {
        "id": "OmB1vlJzi5bt",
        "colab_type": "code",
        "colab": {}
      },
      "source": [
        "pred_1 = torch.load('Image_1.pt')"
      ],
      "execution_count": 0,
      "outputs": []
    },
    {
      "cell_type": "code",
      "metadata": {
        "id": "5Loiavdbi5bu",
        "colab_type": "code",
        "colab": {}
      },
      "source": [
        "plt.imshow(pred_1.argmax(dim=0))"
      ],
      "execution_count": 0,
      "outputs": []
    },
    {
      "cell_type": "markdown",
      "metadata": {
        "id": "x0_7LuGji5bv",
        "colab_type": "text"
      },
      "source": [
        "# Full Size (Homework)\n",
        "\n",
        "Now let's go full sized. Restart your instance to re-free your memory"
      ]
    },
    {
      "cell_type": "code",
      "metadata": {
        "id": "f70Z_Rfdi5bv",
        "colab_type": "code",
        "colab": {}
      },
      "source": [
        "from fastai2.basics import *\n",
        "from fastai2.vision.all import *\n",
        "from fastai2.callback.all import *"
      ],
      "execution_count": 0,
      "outputs": []
    },
    {
      "cell_type": "code",
      "metadata": {
        "id": "E0HnS5kHi5bw",
        "colab_type": "code",
        "colab": {}
      },
      "source": [
        "path = untar_data(URLs.CAMVID)\n",
        "valid_fnames = (path/'valid.txt').read().split('\\n')\n",
        "get_msk = lambda o: path/'labels'/f'{o.stem}_P{o.suffix}'\n",
        "codes = np.loadtxt(path/'codes.txt', dtype=str); codes\n",
        "\n",
        "def ListSplitter(items):\n",
        "  def _inner(it):\n",
        "    val_mask = tensor([o.name in items for o in it])\n",
        "    return [~val_mask, val_mask]\n",
        "  return _inner"
      ],
      "execution_count": 0,
      "outputs": []
    },
    {
      "cell_type": "code",
      "metadata": {
        "id": "R7WCZFn_i5bx",
        "colab_type": "code",
        "colab": {}
      },
      "source": [
        "name2id = {v:k for k,v in enumerate(codes)}\n",
        "void_code = name2id['Void']\n",
        "\n",
        "def acc_camvid(inp, targ):\n",
        "  targ = targ.squeeze(1)\n",
        "  mask = targ != void_code\n",
        "  return (inp.argmax(dim=1)[mask]==targ[mask]).float().mean()"
      ],
      "execution_count": 0,
      "outputs": []
    },
    {
      "cell_type": "markdown",
      "metadata": {
        "id": "vmGsn1zOi5by",
        "colab_type": "text"
      },
      "source": [
        "And re-make our dataloaders. But this time we want our size to be the full size"
      ]
    },
    {
      "cell_type": "code",
      "metadata": {
        "id": "rmaU8jSyi5by",
        "colab_type": "code",
        "colab": {}
      },
      "source": [
        "camvid = DataBlock(blocks=(ImageBlock, MaskBlock(codes)),\n",
        "                   get_items=get_image_files,\n",
        "                   splitter=ListSplitter(valid_fnames),\n",
        "                   get_y=get_msk,\n",
        "                   batch_tfms=[*aug_transforms(size=half), Normalize.from_stats(*imagenet_stats)])"
      ],
      "execution_count": 0,
      "outputs": []
    },
    {
      "cell_type": "markdown",
      "metadata": {
        "id": "MJyzi3qai5bz",
        "colab_type": "text"
      },
      "source": [
        "We'll also want to lower our batch size to not run out of memory"
      ]
    },
    {
      "cell_type": "code",
      "metadata": {
        "id": "XfEqgr7si5b0",
        "colab_type": "code",
        "colab": {}
      },
      "source": [
        "dls = camvid.dataloaders(path/\"images\", bs=1)"
      ],
      "execution_count": 0,
      "outputs": []
    },
    {
      "cell_type": "markdown",
      "metadata": {
        "id": "JdoNKZT9i5b1",
        "colab_type": "text"
      },
      "source": [
        "Let's assign our vocab, make our learner, and load our weights"
      ]
    },
    {
      "cell_type": "code",
      "metadata": {
        "id": "H1KUUXEEi5b1",
        "colab_type": "code",
        "colab": {}
      },
      "source": [
        "config = unet_config(self_attention=True, act_cls=Mish)\n",
        "opt = ranger"
      ],
      "execution_count": 0,
      "outputs": []
    },
    {
      "cell_type": "code",
      "metadata": {
        "id": "L3jVjSlji5b3",
        "colab_type": "code",
        "colab": {}
      },
      "source": [
        "dls.vocab = codes\n",
        "learn = unet_learner(dls, resnet34, metrics=acc_camvid, config=config,\n",
        "                     opt_func=opt)\n",
        "learn.load('model_1');"
      ],
      "execution_count": 0,
      "outputs": []
    },
    {
      "cell_type": "markdown",
      "metadata": {
        "id": "CqaWqNSdi5b4",
        "colab_type": "text"
      },
      "source": [
        "And now let's find our learning rate and train!"
      ]
    },
    {
      "cell_type": "code",
      "metadata": {
        "id": "plIgtVTQi5b4",
        "colab_type": "code",
        "colab": {}
      },
      "source": [
        "learn.lr_find()"
      ],
      "execution_count": 0,
      "outputs": []
    },
    {
      "cell_type": "code",
      "metadata": {
        "id": "7pX3y7Ldi5b6",
        "colab_type": "code",
        "colab": {}
      },
      "source": [
        "lr = 1e-3"
      ],
      "execution_count": 0,
      "outputs": []
    },
    {
      "cell_type": "code",
      "metadata": {
        "id": "T_XMYYPei5b7",
        "colab_type": "code",
        "colab": {}
      },
      "source": [
        "learn.fit_flat_cos(10, slice(lr))"
      ],
      "execution_count": 0,
      "outputs": []
    },
    {
      "cell_type": "code",
      "metadata": {
        "id": "5jv_qjECi5b8",
        "colab_type": "code",
        "colab": {}
      },
      "source": [
        "learn.save('full_1')"
      ],
      "execution_count": 0,
      "outputs": []
    },
    {
      "cell_type": "code",
      "metadata": {
        "id": "prFOJ9X-i5b9",
        "colab_type": "code",
        "colab": {}
      },
      "source": [
        "learn.unfreeze()"
      ],
      "execution_count": 0,
      "outputs": []
    },
    {
      "cell_type": "code",
      "metadata": {
        "id": "yAC1f4O9i5b-",
        "colab_type": "code",
        "colab": {}
      },
      "source": [
        "lrs = slice(1e-6,lr/10); lrs"
      ],
      "execution_count": 0,
      "outputs": []
    },
    {
      "cell_type": "code",
      "metadata": {
        "id": "7RC_gBfLi5b_",
        "colab_type": "code",
        "colab": {}
      },
      "source": [
        "learn.fit_flat_cos(10, lrs)"
      ],
      "execution_count": 0,
      "outputs": []
    },
    {
      "cell_type": "code",
      "metadata": {
        "id": "f0rDIkPui5cA",
        "colab_type": "code",
        "colab": {}
      },
      "source": [
        "learn.save('full_2')"
      ],
      "execution_count": 0,
      "outputs": []
    },
    {
      "cell_type": "code",
      "metadata": {
        "id": "aAlPtLa1i5cB",
        "colab_type": "code",
        "colab": {}
      },
      "source": [
        "learn.show_results(max_n=4, figsize=(18,8))"
      ],
      "execution_count": 0,
      "outputs": []
    },
    {
      "cell_type": "markdown",
      "metadata": {
        "id": "4oDlvihgi5cD",
        "colab_type": "text"
      },
      "source": [
        "# Weighted Loss Functions"
      ]
    },
    {
      "cell_type": "markdown",
      "metadata": {
        "id": "O6x_LwBoi5cD",
        "colab_type": "text"
      },
      "source": [
        "We can use weighted loss functions to help with class imbalancing. We need to do this because simply oversampling won't quite work here! So, how do we do it? `fastai2`'s `CrossEntropyLossFlat` is just a wrapper around `PyTorch`'s `CrossEntropyLoss`, so we can pass in a `weight` parameter (even if it doesn't show up in our autocompletion!) \n",
        "\n",
        "\n"
      ]
    },
    {
      "cell_type": "code",
      "metadata": {
        "id": "QB-nL3nki5cD",
        "colab_type": "code",
        "colab": {}
      },
      "source": [
        "class CrossEntropyLossFlat(BaseLoss):\n",
        "    \"Same as `nn.CrossEntropyLoss`, but flattens input and target.\"\n",
        "    y_int = True\n",
        "    def __init__(self, *args, axis=-1, **kwargs): super().__init__(nn.CrossEntropyLoss, *args, axis=axis, **kwargs)\n",
        "    def decodes(self, x):    return x.argmax(dim=self.axis)\n",
        "    def activation(self, x): return F.softmax(x, dim=self.axis)"
      ],
      "execution_count": 0,
      "outputs": []
    },
    {
      "cell_type": "markdown",
      "metadata": {
        "id": "D5x68om-i5cF",
        "colab_type": "text"
      },
      "source": [
        "But what should this weight be? It needs to be a 1x`n` tensor, where `n` is the number of classes in your dataset. We'll use a quick example, where all but the last class has a weight of 90% and the last class has a weight of 110%\n",
        "\n",
        "Also, as we are training on the GPU, we need the tensor to be so as well:"
      ]
    },
    {
      "cell_type": "code",
      "metadata": {
        "id": "IHZ0ybdmi5cF",
        "colab_type": "code",
        "colab": {}
      },
      "source": [
        "weights = torch.tensor([[0.9]*31 + [1.1]]).cuda()"
      ],
      "execution_count": 0,
      "outputs": []
    },
    {
      "cell_type": "code",
      "metadata": {
        "id": "8JNjXC5ai5cG",
        "colab_type": "code",
        "colab": {}
      },
      "source": [
        "weights"
      ],
      "execution_count": 0,
      "outputs": []
    },
    {
      "cell_type": "markdown",
      "metadata": {
        "id": "E6MhmsG0i5cH",
        "colab_type": "text"
      },
      "source": [
        "Now we can pass this into `CrossEntropyLossFlat`\n",
        "\n",
        "* **Note**: as this is segmentation, we need to make the axis to 1"
      ]
    },
    {
      "cell_type": "code",
      "metadata": {
        "id": "bdYp3l0fi5cI",
        "colab_type": "code",
        "colab": {}
      },
      "source": [
        "learn.loss_func = CrossEntropyLossFlat(weight=weights, axis=1)"
      ],
      "execution_count": 0,
      "outputs": []
    },
    {
      "cell_type": "markdown",
      "metadata": {
        "id": "z50zxyMRi5cJ",
        "colab_type": "text"
      },
      "source": [
        "(or to pass it into `cnn_learner`)"
      ]
    },
    {
      "cell_type": "code",
      "metadata": {
        "id": "B1bfSgrEi5cJ",
        "colab_type": "code",
        "colab": {}
      },
      "source": [
        "loss_func = CrossEntropyLossFlat(weight=weights, axis=1)"
      ],
      "execution_count": 0,
      "outputs": []
    },
    {
      "cell_type": "code",
      "metadata": {
        "id": "8ERgd9xCi5cK",
        "colab_type": "code",
        "colab": {}
      },
      "source": [
        "learn = unet_learner(dls, resnet34, metrics=acc_camvid, loss_func=loss_func)"
      ],
      "execution_count": 0,
      "outputs": []
    }
  ]
}